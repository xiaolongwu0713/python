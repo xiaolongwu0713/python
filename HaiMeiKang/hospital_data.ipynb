{
 "cells": [
  {
   "metadata": {},
   "cell_type": "markdown",
   "source": [
    "### This script analysis data collected from patients in hospital. The paradigm was described in another word file.\n",
    "Problem: The task start time is not specified."
   ],
   "id": "45b7adcbf6fe2a6"
  },
  {
   "cell_type": "code",
   "id": "83533a82-f392-466f-a916-c89fee5102e3",
   "metadata": {
    "editable": true,
    "slideshow": {
     "slide_type": ""
    },
    "tags": [],
    "ExecuteTime": {
     "end_time": "2024-07-17T07:24:50.805755Z",
     "start_time": "2024-07-17T07:24:50.802885Z"
    }
   },
   "source": [
    "import numpy as np\n",
    "\n",
    "from HaiMeiKang.config import *\n",
    "import pandas\n",
    "import mne"
   ],
   "outputs": [],
   "execution_count": 34
  },
  {
   "cell_type": "code",
   "id": "b8b5668e-99b4-4659-a36e-b7173733d27e",
   "metadata": {
    "ExecuteTime": {
     "end_time": "2024-07-17T07:12:15.545911Z",
     "start_time": "2024-07-17T07:12:15.543089Z"
    }
   },
   "source": "folder=data_dir+'from_hospital/yexiansong_baseline/'",
   "outputs": [],
   "execution_count": 2
  },
  {
   "metadata": {
    "ExecuteTime": {
     "end_time": "2024-07-17T07:12:15.567035Z",
     "start_time": "2024-07-17T07:12:15.546449Z"
    }
   },
   "cell_type": "code",
   "source": [
    "filelist=['rest-elbow flexion.xlsx'\n",
    ",'rest-elbow extension.xlsx'\n",
    ",'rest-wrist flexion.xlsx'\n",
    ",'rest-wrist extension.xlsx'\n",
    ",'rest-digit flexion.xlsx'\n",
    ",'rest-digit extension.xlsx'\n",
    ",'rest-pollicis flexion.xlsx'\n",
    ",'rest-pollicis extesion.xlsx'\n",
    ",'rest-thenar.xlsx'\n",
    ",'rest-abductor.xlsx']"
   ],
   "id": "57a12a0c032aa134",
   "outputs": [],
   "execution_count": 3
  },
  {
   "metadata": {},
   "cell_type": "markdown",
   "source": "### Explore the data",
   "id": "31b2d6ec796cf498"
  },
  {
   "metadata": {
    "ExecuteTime": {
     "end_time": "2024-07-17T07:21:16.123762Z",
     "start_time": "2024-07-17T07:20:59.701783Z"
    }
   },
   "cell_type": "code",
   "source": [
    "f=filelist[0]\n",
    "filename=folder+f\n",
    "tmp=pandas.read_excel(filename)\n",
    "data=tmp.to_numpy()[:,1:]\n",
    "time=tmp.to_numpy()[:,0]\n",
    "trigger=[1 if t%5==0 else 0 for t in time]"
   ],
   "id": "ff2b9b1c0d487b27",
   "outputs": [],
   "execution_count": 27
  },
  {
   "metadata": {
    "ExecuteTime": {
     "end_time": "2024-07-17T07:30:35.167592Z",
     "start_time": "2024-07-17T07:30:35.151805Z"
    }
   },
   "cell_type": "code",
   "source": [
    "ch_names=['emg'+str(i) for i in range(data.shape[1])]+['stim']\n",
    "ch_types=['eeg' for i in range(data.shape[1])]+['stim']\n",
    "sf=2000\n",
    "info = mne.create_info(ch_names=ch_names, sfreq=sf, ch_types=ch_types)\n",
    "#tmp2=np.concatenate((data,np.asarray(trigger)[:,np.newaxis]))\n",
    "raw = mne.io.RawArray(np.concatenate((data.transpose(),np.asarray(trigger)[np.newaxis,:]), axis=0), info)"
   ],
   "id": "bfe55891b925209e",
   "outputs": [],
   "execution_count": 43
  },
  {
   "metadata": {
    "ExecuteTime": {
     "end_time": "2024-07-17T07:30:57.475878Z",
     "start_time": "2024-07-17T07:30:56.244353Z"
    }
   },
   "cell_type": "code",
   "source": "raw.plot()",
   "id": "3db6422ce1383692",
   "outputs": [
    {
     "data": {
      "text/plain": [
       "<MNEBrowseFigure size 2137x900 with 4 Axes>"
      ]
     },
     "execution_count": 45,
     "metadata": {},
     "output_type": "execute_result"
    }
   ],
   "execution_count": 45
  },
  {
   "metadata": {},
   "cell_type": "markdown",
   "source": "![](img\\1.png)",
   "id": "6a765e39bcd23a0c"
  },
  {
   "metadata": {
    "ExecuteTime": {
     "end_time": "2024-07-17T07:39:01.107611Z",
     "start_time": "2024-07-17T07:39:01.096941Z"
    }
   },
   "cell_type": "code",
   "source": "events = mne.find_events(raw, stim_channel=\"stim\")",
   "id": "5d5135aaec5fbec3",
   "outputs": [],
   "execution_count": 47
  },
  {
   "metadata": {
    "ExecuteTime": {
     "end_time": "2024-07-17T07:39:04.635608Z",
     "start_time": "2024-07-17T07:39:04.629102Z"
    }
   },
   "cell_type": "code",
   "source": "events",
   "id": "f3a94b27312ea45c",
   "outputs": [
    {
     "data": {
      "text/plain": [
       "array([[ 10000,      0,      1],\n",
       "       [ 20000,      0,      1],\n",
       "       [ 30000,      0,      1],\n",
       "       [ 40000,      0,      1],\n",
       "       [ 50000,      0,      1],\n",
       "       [ 60000,      0,      1],\n",
       "       [ 70000,      0,      1],\n",
       "       [ 80000,      0,      1],\n",
       "       [ 90000,      0,      1],\n",
       "       [100000,      0,      1],\n",
       "       [110000,      0,      1],\n",
       "       [120000,      0,      1],\n",
       "       [130000,      0,      1],\n",
       "       [140000,      0,      1],\n",
       "       [150000,      0,      1],\n",
       "       [160000,      0,      1],\n",
       "       [170000,      0,      1],\n",
       "       [180000,      0,      1],\n",
       "       [190000,      0,      1],\n",
       "       [200000,      0,      1],\n",
       "       [210000,      0,      1],\n",
       "       [220000,      0,      1],\n",
       "       [230000,      0,      1],\n",
       "       [240000,      0,      1]], dtype=int64)"
      ]
     },
     "execution_count": 48,
     "metadata": {},
     "output_type": "execute_result"
    }
   ],
   "execution_count": 48
  },
  {
   "metadata": {
    "ExecuteTime": {
     "end_time": "2024-07-17T07:44:57.022745Z",
     "start_time": "2024-07-17T07:44:57.008422Z"
    }
   },
   "cell_type": "code",
   "source": [
    "#mapping={1,}\n",
    "anas=mne.annotations_from_events(events,sfreq=sf)\n",
    "raw.set_annotations(anas)"
   ],
   "id": "77a4f218f2235287",
   "outputs": [
    {
     "data": {
      "text/plain": [
       "<RawArray | 11 x 246654 (123.3 s), ~20.7 MB, data loaded>"
      ],
      "text/html": [
       "<details open>\n",
       "    <summary><strong>General</strong></summary>\n",
       "    <table class=\"table table-hover table-striped table-sm table-responsive small\">\n",
       "        <tr>\n",
       "            <th>Measurement date</th>\n",
       "            \n",
       "            <td>Unknown</td>\n",
       "            \n",
       "        </tr>\n",
       "        <tr>\n",
       "            <th>Experimenter</th>\n",
       "            \n",
       "            <td>Unknown</td>\n",
       "            \n",
       "        </tr>\n",
       "        <tr>\n",
       "            <th>Participant</th>\n",
       "            \n",
       "            <td>Unknown</td>\n",
       "            \n",
       "        </tr>\n",
       "    </table>\n",
       "    </details>\n",
       "    <details open>\n",
       "        <summary><strong>Channels</strong></summary>\n",
       "        <table class=\"table table-hover table-striped table-sm table-responsive small\">\n",
       "            <tr>\n",
       "                <th>Digitized points</th>\n",
       "                \n",
       "                <td>Not available</td>\n",
       "                \n",
       "            </tr>\n",
       "            <tr>\n",
       "                <th>Good channels</th>\n",
       "                <td>10 EEG, 1 Stimulus</td>\n",
       "            </tr>\n",
       "            <tr>\n",
       "                <th>Bad channels</th>\n",
       "                <td>None</td>\n",
       "            </tr>\n",
       "            <tr>\n",
       "                <th>EOG channels</th>\n",
       "                <td>Not available</td>\n",
       "            </tr>\n",
       "            <tr>\n",
       "                <th>ECG channels</th>\n",
       "                <td>Not available</td>\n",
       "            </tr>\n",
       "        </table>\n",
       "        </details>\n",
       "        <details open>\n",
       "            <summary><strong>Data</strong></summary>\n",
       "            <table class=\"table table-hover table-striped table-sm table-responsive small\">\n",
       "                \n",
       "                <tr>\n",
       "                    <th>Sampling frequency</th>\n",
       "                    <td>2000.00 Hz</td>\n",
       "                </tr>\n",
       "                \n",
       "                \n",
       "                <tr>\n",
       "                    <th>Highpass</th>\n",
       "                    <td>0.00 Hz</td>\n",
       "                </tr>\n",
       "                \n",
       "                \n",
       "                <tr>\n",
       "                    <th>Lowpass</th>\n",
       "                    <td>1000.00 Hz</td>\n",
       "                </tr>\n",
       "                \n",
       "                \n",
       "                \n",
       "                \n",
       "                <tr>\n",
       "                    <th>Duration</th>\n",
       "                    <td>00:02:04 (HH:MM:SS)</td>\n",
       "                </tr>\n",
       "                \n",
       "            </table>\n",
       "            </details>"
      ]
     },
     "execution_count": 54,
     "metadata": {},
     "output_type": "execute_result"
    }
   ],
   "execution_count": 54
  },
  {
   "metadata": {
    "ExecuteTime": {
     "end_time": "2024-07-17T07:47:48.241130Z",
     "start_time": "2024-07-17T07:47:48.125707Z"
    }
   },
   "cell_type": "code",
   "source": "raw.plot()  # 动作延时很大，要么就是文件开头不是任务开始时刻",
   "id": "25f50ecd46e6e340",
   "outputs": [
    {
     "data": {
      "text/plain": [
       "<MNEBrowseFigure size 2678x1193 with 4 Axes>"
      ]
     },
     "execution_count": 56,
     "metadata": {},
     "output_type": "execute_result"
    }
   ],
   "execution_count": 56
  },
  {
   "metadata": {},
   "cell_type": "markdown",
   "source": "![](img\\2.png)",
   "id": "aeccef9255ccb17c"
  },
  {
   "metadata": {},
   "cell_type": "markdown",
   "source": "### put them together",
   "id": "da752667af715039"
  },
  {
   "metadata": {
    "ExecuteTime": {
     "end_time": "2024-07-17T07:59:30.771792Z",
     "start_time": "2024-07-17T07:56:36.743355Z"
    }
   },
   "cell_type": "code",
   "source": [
    "raws=[]\n",
    "for i,f in enumerate(filelist):\n",
    "    filename=folder+f\n",
    "    tmp=pandas.read_excel(filename)\n",
    "    data=tmp.to_numpy()[:,1:] # 11 columes, no time colume\n",
    "    time=tmp.to_numpy()[:,0]\n",
    "    trigger=[i+1 if t%5==0 else 0 for t in time]\n",
    "    ch_names=['emg'+str(i) for i in range(data.shape[1])]+['stim']\n",
    "    ch_types=['eeg' for i in range(data.shape[1])]+['stim']\n",
    "    sf=2000\n",
    "    info = mne.create_info(ch_names=ch_names, sfreq=sf, ch_types=ch_types)\n",
    "    #tmp2=np.concatenate((data,np.asarray(trigger)[:,np.newaxis]))\n",
    "    raw = mne.io.RawArray(np.concatenate((data.transpose(),np.asarray(trigger)[np.newaxis,:]), axis=0), info)\n",
    "    events = mne.find_events(raw, stim_channel=\"stim\")\n",
    "    anas=mne.annotations_from_events(events,sfreq=sf)\n",
    "    raw.set_annotations(anas)\n",
    "    raws.append(raw)"
   ],
   "id": "2f17f15427886b2d",
   "outputs": [],
   "execution_count": 68
  },
  {
   "metadata": {
    "ExecuteTime": {
     "end_time": "2024-07-17T08:15:21.842586Z",
     "start_time": "2024-07-17T08:15:21.699093Z"
    }
   },
   "cell_type": "code",
   "source": "raws[0].plot()",
   "id": "f31f4cf2d38b889c",
   "outputs": [
    {
     "data": {
      "text/plain": [
       "<MNEBrowseFigure size 2678x1193 with 4 Axes>"
      ]
     },
     "execution_count": 91,
     "metadata": {},
     "output_type": "execute_result"
    }
   ],
   "execution_count": 91
  },
  {
   "metadata": {},
   "cell_type": "code",
   "outputs": [],
   "execution_count": null,
   "source": "",
   "id": "3c8ce109367c23d2"
  }
 ],
 "metadata": {
  "kernelspec": {
   "display_name": "Python [conda env:bci] *",
   "language": "python",
   "name": "conda-env-bci-py"
  },
  "language_info": {
   "codemirror_mode": {
    "name": "ipython",
    "version": 3
   },
   "file_extension": ".py",
   "mimetype": "text/x-python",
   "name": "python",
   "nbconvert_exporter": "python",
   "pygments_lexer": "ipython3",
   "version": "3.12.4"
  }
 },
 "nbformat": 4,
 "nbformat_minor": 5
}
