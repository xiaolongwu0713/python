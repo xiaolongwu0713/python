{
 "cells": [
  {
   "cell_type": "code",
   "id": "initial_id",
   "metadata": {
    "collapsed": true,
    "ExecuteTime": {
     "end_time": "2024-08-29T03:35:08.065348Z",
     "start_time": "2024-08-29T03:35:04.213622Z"
    }
   },
   "source": [
    "from speech_pinyin_Ruijin.config import *\n",
    "import glob\n",
    "import mne\n",
    "import numpy as np\n",
    "from utils.util_MNE import keep_annotation"
   ],
   "outputs": [
    {
     "name": "stdout",
     "output_type": "stream",
     "text": [
      "========================================\n",
      "2024-08-29 11:35:04 - Start Program\n",
      "========================================\n",
      "\n",
      "pre_all: Running from CMD.\n",
      "common_dl.py: Using CUDA.\n"
     ]
    }
   ],
   "execution_count": 1
  },
  {
   "metadata": {
    "ExecuteTime": {
     "end_time": "2024-08-29T03:35:08.068965Z",
     "start_time": "2024-08-29T03:35:08.066360Z"
    }
   },
   "cell_type": "code",
   "source": [
    "sid=1\n",
    "folder=data_dir+str(sid)+'-*'\n",
    "folder=os.path.normpath(glob.glob(folder)[0])\n",
    "folder=folder.replace(\"\\\\\", \"/\")"
   ],
   "id": "6993d557b1420f7f",
   "outputs": [],
   "execution_count": 2
  },
  {
   "metadata": {
    "ExecuteTime": {
     "end_time": "2024-08-29T03:35:16.919500Z",
     "start_time": "2024-08-29T03:35:15.549466Z"
    }
   },
   "cell_type": "code",
   "source": [
    "filename=folder+'/raw/session3-epo.fif'\n",
    "epochs3=mne.read_epochs(filename)"
   ],
   "id": "db6e39fa57540cf4",
   "outputs": [],
   "execution_count": 4
  },
  {
   "metadata": {},
   "cell_type": "code",
   "outputs": [],
   "execution_count": null,
   "source": "",
   "id": "5ed4574390fa1aa4"
  }
 ],
 "metadata": {
  "kernelspec": {
   "display_name": "bci",
   "language": "python",
   "name": "bci"
  },
  "language_info": {
   "codemirror_mode": {
    "name": "ipython",
    "version": 2
   },
   "file_extension": ".py",
   "mimetype": "text/x-python",
   "name": "python",
   "nbconvert_exporter": "python",
   "pygments_lexer": "ipython2",
   "version": "2.7.6"
  }
 },
 "nbformat": 4,
 "nbformat_minor": 5
}
