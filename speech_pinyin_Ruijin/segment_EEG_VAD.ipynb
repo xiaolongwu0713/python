{
 "cells": [
  {
   "metadata": {},
   "cell_type": "markdown",
   "source": "### This scirpt will extract EEG belonging to either overt or covert speech.",
   "id": "39bce6dcac525ac4"
  },
  {
   "metadata": {
    "ExecuteTime": {
     "end_time": "2024-09-04T03:26:24.602239Z",
     "start_time": "2024-09-04T03:26:22.329124Z"
    }
   },
   "cell_type": "code",
   "source": [
    "from speech_pinyin_Ruijin.config import *\n",
    "import glob\n",
    "from scipy.io import wavfile\n",
    "import matplotlib.pylab as plt\n",
    "import mne\n",
    "import numpy as np\n",
    "from utils.util_MNE import keep_annotation\n",
    "import itertools"
   ],
   "id": "ac3dc9ca3992f7f6",
   "outputs": [
    {
     "name": "stdout",
     "output_type": "stream",
     "text": [
      "========================================\n",
      "2024-09-04 11:26:22 - Start Program\n",
      "========================================\n",
      "\n",
      "pre_all: Running from CMD.\n",
      "common_dl.py: Using CUDA.\n"
     ]
    }
   ],
   "execution_count": 1
  },
  {
   "metadata": {
    "ExecuteTime": {
     "end_time": "2024-09-04T03:26:37.056232Z",
     "start_time": "2024-09-04T03:26:37.052134Z"
    }
   },
   "cell_type": "code",
   "source": [
    "sid=1\n",
    "folder=data_dir+str(sid)+'-*'\n",
    "folder=os.path.normpath(glob.glob(folder)[0])\n",
    "folder=folder.replace(\"\\\\\", \"/\")\n",
    "audio_folder=folder+'/raw/matlab/result/'\n",
    "files=['name_202408280901','name_202408280930','name_202408280959']\n",
    "session=3"
   ],
   "id": "8593bf8df967c20c",
   "outputs": [],
   "execution_count": 2
  },
  {
   "cell_type": "code",
   "id": "initial_id",
   "metadata": {
    "collapsed": true,
    "ExecuteTime": {
     "end_time": "2024-09-04T03:29:30.566619Z",
     "start_time": "2024-09-04T03:29:30.328734Z"
    }
   },
   "source": [
    "filename=folder+'/processed/session3_trials_list.npy'\n",
    "trials_list=np.load(filename, allow_pickle=True)\n",
    "\n",
    "filename=folder+'/processed/session'+str(session)+'_audio_VAD.npy'\n",
    "intervals=np.load(filename, allow_pickle=True)"
   ],
   "outputs": [],
   "execution_count": 6
  },
  {
   "metadata": {
    "ExecuteTime": {
     "end_time": "2024-09-04T03:42:10.771791Z",
     "start_time": "2024-09-04T03:42:10.767821Z"
    }
   },
   "cell_type": "code",
   "source": [
    "EEG_overt=[]\n",
    "EEG_covert=[]\n",
    "#covert: 3.5-->4.8; 4.0-->4.5 for safe.\n",
    "\n",
    "for i, trial in enumerate(trials_list):\n",
    "    if i>0:# discard the first trial\n",
    "        start,end=intervals[i]\n",
    "        start,end=start/48000,end/48000\n",
    "        EEG_overt.append(trial[int(start*1000):int(end*1000),:])\n",
    "        EEG_covert.append(trial[int(4.0*1000):int(4.5*1000),:])"
   ],
   "id": "9d05364572ee7da2",
   "outputs": [],
   "execution_count": 29
  },
  {
   "metadata": {
    "ExecuteTime": {
     "end_time": "2024-09-04T03:44:38.876108Z",
     "start_time": "2024-09-04T03:44:38.872905Z"
    }
   },
   "cell_type": "code",
   "source": [
    "result={}\n",
    "result['overt']=EEG_overt\n",
    "result['covert']=EEG_covert"
   ],
   "id": "54edf4128bbe8669",
   "outputs": [],
   "execution_count": 31
  },
  {
   "metadata": {
    "ExecuteTime": {
     "end_time": "2024-09-04T03:44:40.316030Z",
     "start_time": "2024-09-04T03:44:40.152713Z"
    }
   },
   "cell_type": "code",
   "source": [
    "filename=folder+'/processed/session'+str(session)+'_covert_overt_EEG.npy'\n",
    "np.save(filename,result)"
   ],
   "id": "bfe5d514a50fab99",
   "outputs": [],
   "execution_count": 32
  }
 ],
 "metadata": {
  "kernelspec": {
   "display_name": "bci",
   "language": "python",
   "name": "bci"
  },
  "language_info": {
   "codemirror_mode": {
    "name": "ipython",
    "version": 2
   },
   "file_extension": ".py",
   "mimetype": "text/x-python",
   "name": "python",
   "nbconvert_exporter": "python",
   "pygments_lexer": "ipython2",
   "version": "2.7.6"
  }
 },
 "nbformat": 4,
 "nbformat_minor": 5
}
