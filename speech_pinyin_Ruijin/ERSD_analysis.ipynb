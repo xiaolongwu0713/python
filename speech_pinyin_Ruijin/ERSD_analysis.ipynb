{
 "cells": [
  {
   "metadata": {},
   "cell_type": "markdown",
   "source": [
    "### This script analysis the ERSD response of all channels.\n",
    "\n",
    "### Trial lengths range from 5.8-6.2s, so use a trial length of 6s;\n",
    "\n",
    "### Baseline at each trial is 0.7s. Potential issue: there should be some response before 0.7s when subjects are prepared to do task.\n",
    "\n",
    "Issue: Found no difference in TF representation between baseline and task.\n",
    "\n",
    "Possible reason: Baseline is too short, only 0.7s."
   ],
   "id": "f67c4e9738e42466"
  },
  {
   "metadata": {
    "ExecuteTime": {
     "end_time": "2024-09-03T05:57:00.342448Z",
     "start_time": "2024-09-03T05:57:00.337919Z"
    }
   },
   "cell_type": "code",
   "source": [
    "from speech_pinyin.config import *\n",
    "import glob\n",
    "import matplotlib.pylab as plt\n",
    "import mne\n",
    "import numpy as np\n",
    "from utils.util_MNE import keep_annotation\n",
    "from mne.time_frequency import tfr_morlet\n"
   ],
   "id": "63dcbd23f4020e1e",
   "outputs": [],
   "execution_count": 22
  },
  {
   "metadata": {
    "ExecuteTime": {
     "end_time": "2024-09-03T05:41:31.643683Z",
     "start_time": "2024-09-03T05:41:31.640003Z"
    }
   },
   "cell_type": "code",
   "source": [
    "sid=1\n",
    "folder=data_dir+str(sid)+'-*'\n",
    "folder=os.path.normpath(glob.glob(folder)[0])\n",
    "folder=folder.replace(\"\\\\\", \"/\")"
   ],
   "id": "36c906dc6292d9d6",
   "outputs": [],
   "execution_count": 3
  },
  {
   "metadata": {
    "ExecuteTime": {
     "end_time": "2024-09-03T05:41:33.207781Z",
     "start_time": "2024-09-03T05:41:32.729136Z"
    }
   },
   "cell_type": "code",
   "source": [
    "session=3\n",
    "#filename=folder+'/processed/session'+str(session)+'.fif'\n",
    "filename=folder+'/processed/session3_trigger_added-raw.fif'\n",
    "raw=mne.io.read_raw_fif(filename)"
   ],
   "id": "76533032a9bd446a",
   "outputs": [],
   "execution_count": 4
  },
  {
   "metadata": {
    "ExecuteTime": {
     "end_time": "2024-09-03T05:45:15.680706Z",
     "start_time": "2024-09-03T05:45:15.613484Z"
    }
   },
   "cell_type": "code",
   "source": [
    "annotations=raw.annotations\n",
    "annotations=keep_annotation(annotations,['5'])\n",
    "raw.set_annotations(annotations)"
   ],
   "id": "aedc09163188e62b",
   "outputs": [
    {
     "data": {
      "text/plain": [
       "<Raw | session3_trigger_added-raw.fif, 121 x 1367001 (1367.0 s), ~102 kB, data not loaded>"
      ],
      "text/html": [
       "<details open>\n",
       "    <summary><strong>General</strong></summary>\n",
       "    <table class=\"table table-hover table-striped table-sm table-responsive small\">\n",
       "        <tr>\n",
       "            <th>Measurement date</th>\n",
       "            \n",
       "            <td>August 28, 2024  08:33:34 GMT</td>\n",
       "            \n",
       "        </tr>\n",
       "        <tr>\n",
       "            <th>Experimenter</th>\n",
       "            \n",
       "            <td>Unknown</td>\n",
       "            \n",
       "        </tr>\n",
       "        <tr>\n",
       "            <th>Participant</th>\n",
       "            \n",
       "            \n",
       "            <td>X</td>\n",
       "            \n",
       "            \n",
       "        </tr>\n",
       "    </table>\n",
       "    </details>\n",
       "    <details open>\n",
       "        <summary><strong>Channels</strong></summary>\n",
       "        <table class=\"table table-hover table-striped table-sm table-responsive small\">\n",
       "            <tr>\n",
       "                <th>Digitized points</th>\n",
       "                \n",
       "                <td>Not available</td>\n",
       "                \n",
       "            </tr>\n",
       "            <tr>\n",
       "                <th>Good channels</th>\n",
       "                <td>120 EEG, 1 Stimulus</td>\n",
       "            </tr>\n",
       "            <tr>\n",
       "                <th>Bad channels</th>\n",
       "                <td>None</td>\n",
       "            </tr>\n",
       "            <tr>\n",
       "                <th>EOG channels</th>\n",
       "                <td>Not available</td>\n",
       "            </tr>\n",
       "            <tr>\n",
       "                <th>ECG channels</th>\n",
       "                <td>Not available</td>\n",
       "            </tr>\n",
       "        </table>\n",
       "        </details>\n",
       "        <details open>\n",
       "            <summary><strong>Data</strong></summary>\n",
       "            <table class=\"table table-hover table-striped table-sm table-responsive small\">\n",
       "                \n",
       "                <tr>\n",
       "                    <th>Sampling frequency</th>\n",
       "                    <td>1000.00 Hz</td>\n",
       "                </tr>\n",
       "                \n",
       "                \n",
       "                <tr>\n",
       "                    <th>Highpass</th>\n",
       "                    <td>0.50 Hz</td>\n",
       "                </tr>\n",
       "                \n",
       "                \n",
       "                <tr>\n",
       "                    <th>Lowpass</th>\n",
       "                    <td>495.00 Hz</td>\n",
       "                </tr>\n",
       "                \n",
       "                \n",
       "                \n",
       "                <tr>\n",
       "                    <th>Filenames</th>\n",
       "                    <td>session3_trigger_added-raw.fif</td>\n",
       "                </tr>\n",
       "                \n",
       "                \n",
       "                <tr>\n",
       "                    <th>Duration</th>\n",
       "                    <td>00:22:47 (HH:MM:SS)</td>\n",
       "                </tr>\n",
       "                \n",
       "            </table>\n",
       "            </details>"
      ]
     },
     "execution_count": 8,
     "metadata": {},
     "output_type": "execute_result"
    }
   ],
   "execution_count": 8
  },
  {
   "metadata": {
    "ExecuteTime": {
     "end_time": "2024-09-03T05:48:48.566602Z",
     "start_time": "2024-09-03T05:48:48.500720Z"
    }
   },
   "cell_type": "code",
   "source": [
    "events = mne.events_from_annotations(raw)[0] # 144\n",
    "epochs = mne.Epochs(raw, events, tmin=0, tmax=6,baseline=None)\n",
    "chnNum=len(epochs.ch_names)"
   ],
   "id": "501f5a1c202e3345",
   "outputs": [],
   "execution_count": 16
  },
  {
   "metadata": {
    "ExecuteTime": {
     "end_time": "2024-09-03T05:52:15.067007Z",
     "start_time": "2024-09-03T05:52:15.060492Z"
    }
   },
   "cell_type": "code",
   "source": [
    "decim=4\n",
    "new_fs=1000/decim\n",
    "n_cycles_mthod='stage' # or: equal\n",
    "vmin=-4\n",
    "vmax=4\n",
    "fMin,fMax=2,150\n",
    "fstep=1\n",
    "freqs=np.arange(fMin,fMax,fstep) #148\n",
    "fNum=freqs.shape[0]\n",
    "#freqs = np.linspace(fMin,fMax, num=fNum)\n",
    "cycleMin,cycleMax=8,50\n",
    "cycleNum=fNum\n",
    "#n_cycles = np.linspace(cycleMin,cycleMax, num=cycleNum)  # different number of cycle per frequency\n",
    "groups=5\n",
    "rates=[2,2.5,3,4,5]\n",
    "num_per_group=int(fNum/groups)\n",
    "if n_cycles_mthod=='equal':\n",
    "    n_cycles=freqs\n",
    "elif n_cycles_mthod=='stage':\n",
    "    n_cycles=[]\n",
    "    for g in range(groups):\n",
    "        if g < groups -1:\n",
    "            tmp=[int(i) for i in freqs[g*num_per_group:(g+1)*num_per_group]/rates[g]]\n",
    "        elif g==groups -1:\n",
    "            tmp = [int(i) for i in freqs[g * num_per_group:] / rates[g]]\n",
    "        n_cycles.extend(tmp)\n"
   ],
   "id": "f64f6932e61ef5e3",
   "outputs": [],
   "execution_count": 20
  },
  {
   "metadata": {},
   "cell_type": "code",
   "outputs": [],
   "execution_count": null,
   "source": [
    "erd_wind=10\n",
    "ers_wind=2\n",
    "erd_end_f=30\n",
    "ers_start_f=30\n",
    "erds_change = []\n",
    "ch_power_avg = []"
   ],
   "id": "bb3ab657ce1878df"
  },
  {
   "metadata": {
    "ExecuteTime": {
     "end_time": "2024-09-03T11:44:29.778995Z",
     "start_time": "2024-09-03T11:44:29.775304Z"
    }
   },
   "cell_type": "code",
   "source": [
    "chid=0\n",
    "chname=epochs.ch_names[chid]"
   ],
   "id": "fea09cbaa1cfc6bb",
   "outputs": [],
   "execution_count": 55
  },
  {
   "metadata": {
    "ExecuteTime": {
     "end_time": "2024-09-03T12:14:23.123805Z",
     "start_time": "2024-09-03T12:14:23.119561Z"
    }
   },
   "cell_type": "code",
   "source": [
    "baseline = [int(0.1*new_fs), int(0.7*new_fs)]\n",
    "taskline=[int(4*new_fs), int(9*new_fs)]"
   ],
   "id": "6a6ddac2e872bd89",
   "outputs": [],
   "execution_count": 74
  },
  {
   "metadata": {
    "ExecuteTime": {
     "end_time": "2024-09-03T12:21:21.098575Z",
     "start_time": "2024-09-03T12:14:55.348601Z"
    }
   },
   "cell_type": "code",
   "source": [
    "# decim will decrease the sfreq, so 15s will becomes 5s afterward.\n",
    "\n",
    "%matplotlib inline\n",
    "chid=0\n",
    "for chid in range(chnNum-1):\n",
    "    fig,ax=plt.subplots()\n",
    "    chname=epochs.ch_names[chid]\n",
    "    # The very big artifact at begainning and end of the TF will cause ERS vanish after normalization.\n",
    "    ch_power=np.squeeze(tfr_morlet(epochs, picks=[chname], freqs=freqs, n_cycles=n_cycles,use_fft=True,return_itc=False, \n",
    "                                   average=False, decim=decim, n_jobs=1).data) # (144, 148, 1501) (trials, frequency, time)\n",
    "    base = ch_power[:,:, baseline[0]:baseline[1]] #  (144, 148, 175)\n",
    "    basemean = np.mean(base, 2) # (144, 148)\n",
    "    basestd= np.std(base, 2) #(144, 148) \n",
    "    ch_power_norm = 10*np.log10(ch_power / basemean[:, :, None]) #\n",
    "    ax.imshow(ch_power_norm[1,:,:],origin='lower', cmap='RdBu_r') # same as below\n",
    "    filename=folder+'/processed/tf_result/session3_ch'+str(chid)+'.png'\n",
    "    fig.savefig(filename, dpi=400)\n",
    "    fig.clear()\n",
    "    plt.close(fig)\n",
    "    "
   ],
   "id": "c581762b8700f84e",
   "outputs": [],
   "execution_count": 75
  },
  {
   "metadata": {},
   "cell_type": "markdown",
   "source": [
    "All plots are similar to this plot:\n",
    "\n",
    "![](img\\7.png)"
   ],
   "id": "4931d83a50bbb15e"
  },
  {
   "metadata": {},
   "cell_type": "markdown",
   "source": [
    "On gesture dataset, this method can produce below TF plot:\n",
    "\n",
    "![](img\\6.png)"
   ],
   "id": "f03ef9382ddfa4e4"
  },
  {
   "metadata": {},
   "cell_type": "markdown",
   "source": [
    "### Below using methods from MNE\n",
    "\n",
    "However, the result is not good, as shown in below. No difference in TF representation between baseline and task."
   ],
   "id": "b6e668ad7ef702dc"
  },
  {
   "metadata": {},
   "cell_type": "code",
   "source": [
    "%matplotlib inline\n",
    "chid=0\n",
    "\n",
    "for chid in range(chnNum-1):\n",
    "    fig,ax=plt.subplots()\n",
    "    chname=epochs.ch_names[chid]\n",
    "    tfr_epochs=epochs.load_data().copy().pick(picks=[chname]).compute_tfr(\"morlet\",freqs,n_cycles=n_cycles,decim=decim,average=False,return_itc=False,n_jobs=None,)\n",
    "    tfr_epochs.apply_baseline(mode=\"logratio\", baseline=(0, 0.7)) # (144, 1, 148, 1501)\n",
    "    tf_data=tfr_epochs.data\n",
    "    ax.imshow(tf_data[0,0,:,:],origin='lower', cmap='RdBu_r')\n",
    "    filename=folder+'/processed/tf_result/session3_ch'+str(chid)+'.png'\n",
    "    fig.savefig(filename, dpi=400)\n",
    "    fig.clear()\n",
    "    plt.close(fig)"
   ],
   "id": "45fd6bc758b864a6",
   "outputs": [],
   "execution_count": null
  },
  {
   "metadata": {},
   "cell_type": "markdown",
   "source": [
    "No difference in below result.\n",
    "\n",
    "![](img\\5.png)"
   ],
   "id": "a96adb27f6e5980a"
  },
  {
   "metadata": {
    "ExecuteTime": {
     "end_time": "2024-09-03T11:36:57.275476Z",
     "start_time": "2024-09-03T11:36:57.270631Z"
    }
   },
   "cell_type": "code",
   "source": "chnNum",
   "id": "4478d5a4ec4e6d1b",
   "outputs": [
    {
     "data": {
      "text/plain": [
       "121"
      ]
     },
     "execution_count": 47,
     "metadata": {},
     "output_type": "execute_result"
    }
   ],
   "execution_count": 47
  }
 ],
 "metadata": {
  "kernelspec": {
   "display_name": "bci",
   "language": "python",
   "name": "bci"
  },
  "language_info": {
   "codemirror_mode": {
    "name": "ipython",
    "version": 2
   },
   "file_extension": ".py",
   "mimetype": "text/x-python",
   "name": "python",
   "nbconvert_exporter": "python",
   "pygments_lexer": "ipython2",
   "version": "2.7.6"
  }
 },
 "nbformat": 4,
 "nbformat_minor": 5
}
