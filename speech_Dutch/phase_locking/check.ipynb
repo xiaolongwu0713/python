{
 "cells": [
  {
   "metadata": {
    "ExecuteTime": {
     "end_time": "2024-10-17T11:38:52.057279Z",
     "start_time": "2024-10-17T11:38:51.575300Z"
    }
   },
   "cell_type": "code",
   "source": [
    "from pynwb import NWBHDF5IO\n",
    "import soundfile\n",
    "import matplotlib.pyplot as plt\n",
    "import os\n",
    "import numpy as np\n",
    "from speech_Dutch.config import *"
   ],
   "id": "4b49f43f83d7bd17",
   "outputs": [],
   "execution_count": 56
  },
  {
   "cell_type": "code",
   "id": "initial_id",
   "metadata": {
    "collapsed": true,
    "ExecuteTime": {
     "end_time": "2024-10-17T11:03:43.868968Z",
     "start_time": "2024-10-17T11:03:43.866186Z"
    }
   },
   "source": [
    "data_dir=top_data_dir+'SingleWordProductionDutch/'\n",
    "computer='Yoga'\n",
    "sid=1 # 1-10\n",
    "sf_audio=48000\n",
    "sf_eeg=1024\n",
    "participant = 'sub-' + f\"{sid:02d}\"\n",
    "sub_folder=data_dir+participant+'/'\n",
    "use_channels=False"
   ],
   "outputs": [],
   "execution_count": 22
  },
  {
   "metadata": {
    "ExecuteTime": {
     "end_time": "2024-10-17T11:03:46.258952Z",
     "start_time": "2024-10-17T11:03:46.255454Z"
    }
   },
   "cell_type": "code",
   "source": [
    "def read_Dutch(participant):\n",
    "    # Load data\n",
    "    filename = sub_folder+'ieeg/'+ participant + '_task-wordProduction_ieeg.nwb'\n",
    "    print('Loading ' + filename + '.')\n",
    "    io = NWBHDF5IO(filename, 'r')\n",
    "    nwbfile = io.read()\n",
    "    # sEEG\n",
    "    eeg = nwbfile.acquisition['iEEG'].data[:]  # (307523, 127)\n",
    "    if use_channels:\n",
    "        eeg=eeg[:,use_channels]\n",
    "    eeg_sr = 1024\n",
    "    # audio\n",
    "    audio = nwbfile.acquisition['Audio'].data[:]  # (14414532,)\n",
    "    audio_sr = 48000\n",
    "    #target_SR = 16000\n",
    "    # words (markers)\n",
    "    words = nwbfile.acquisition['Stimulus'].data[:]\n",
    "    words = np.array(words, dtype=str)  # (307511,)\n",
    "    io.close()\n",
    "    return eeg, audio, words"
   ],
   "id": "3d9049014b8d6aa2",
   "outputs": [],
   "execution_count": 23
  },
  {
   "metadata": {
    "ExecuteTime": {
     "end_time": "2024-10-17T11:04:14.631207Z",
     "start_time": "2024-10-17T11:04:14.175820Z"
    }
   },
   "cell_type": "code",
   "source": "eeg, audio, words=read_Dutch(participant)",
   "id": "a04a364668895349",
   "outputs": [
    {
     "name": "stdout",
     "output_type": "stream",
     "text": [
      "Loading D:/data/BaiduSyncdisk/SingleWordProductionDutch/sub-01/ieeg/sub-01_task-wordProduction_ieeg.nwb.\n"
     ]
    },
    {
     "name": "stderr",
     "output_type": "stream",
     "text": [
      "D:\\Users\\xiaowu\\anaconda3\\envs\\bci\\Lib\\site-packages\\hdmf\\utils.py:668: UserWarning: Ignoring cached namespace 'hdmf-common' version 1.5.1 because version 1.8.0 is already loaded.\n",
      "  return func(args[0], **pargs)\n",
      "D:\\Users\\xiaowu\\anaconda3\\envs\\bci\\Lib\\site-packages\\hdmf\\utils.py:668: UserWarning: Ignoring cached namespace 'core' version 2.4.0 because version 2.7.0 is already loaded.\n",
      "  return func(args[0], **pargs)\n",
      "D:\\Users\\xiaowu\\anaconda3\\envs\\bci\\Lib\\site-packages\\hdmf\\utils.py:668: UserWarning: Ignoring cached namespace 'hdmf-experimental' version 0.2.0 because version 0.5.0 is already loaded.\n",
      "  return func(args[0], **pargs)\n"
     ]
    }
   ],
   "execution_count": 25
  },
  {
   "metadata": {
    "ExecuteTime": {
     "end_time": "2024-10-17T11:10:23.394168Z",
     "start_time": "2024-10-17T11:10:23.317470Z"
    }
   },
   "cell_type": "code",
   "source": "soundfile.write(sub_folder+'audio.wav', audio, sf_audio)",
   "id": "d87b5c21c450c8a3",
   "outputs": [],
   "execution_count": 36
  },
  {
   "metadata": {
    "ExecuteTime": {
     "end_time": "2024-10-17T11:31:33.874051Z",
     "start_time": "2024-10-17T11:31:33.696275Z"
    }
   },
   "cell_type": "code",
   "source": "unique_words=[w for i, w in enumerate(words[:-1]) if words[i+1]!=words[i] and w!='']\n",
   "id": "85a87f42aa519059",
   "outputs": [],
   "execution_count": 54
  },
  {
   "metadata": {
    "ExecuteTime": {
     "end_time": "2024-10-17T11:31:38.444899Z",
     "start_time": "2024-10-17T11:31:38.441484Z"
    }
   },
   "cell_type": "code",
   "source": "unique_words",
   "id": "6fa24c2ec8da0919",
   "outputs": [
    {
     "data": {
      "text/plain": [
       "['helft',\n",
       " 'hierop',\n",
       " 'stiekem',\n",
       " 'en',\n",
       " 'zevenduizend',\n",
       " 'braadde',\n",
       " 'vloog',\n",
       " 'werd',\n",
       " 'wegpakte',\n",
       " 'wak',\n",
       " 'zich',\n",
       " '9',\n",
       " '10',\n",
       " 'tuwiet',\n",
       " 'bakker',\n",
       " 'hem',\n",
       " 'kin',\n",
       " 'stilstaan',\n",
       " 'bevrijd',\n",
       " 'aan',\n",
       " 'wel',\n",
       " 'was',\n",
       " 'hoe',\n",
       " '8',\n",
       " 'groen',\n",
       " 'maantje',\n",
       " 'vogelkooitje',\n",
       " '6',\n",
       " 'teruggekregen',\n",
       " 'wanneer',\n",
       " 'juist',\n",
       " 'zanddak',\n",
       " 'lij',\n",
       " 'of',\n",
       " 'over',\n",
       " 'dat',\n",
       " 'betovering',\n",
       " 'gefluit',\n",
       " '3',\n",
       " 'zei',\n",
       " 'bak',\n",
       " '5',\n",
       " 'niet',\n",
       " 'nachtegalen',\n",
       " 'te',\n",
       " 'komt',\n",
       " 'van',\n",
       " 'dauwdruppel',\n",
       " 'met',\n",
       " 'sterkste',\n",
       " 'totdat',\n",
       " 'helemaal',\n",
       " 'mooie',\n",
       " 'sprong',\n",
       " 'ze',\n",
       " 'smeekte',\n",
       " 'pak',\n",
       " 'boomstammen',\n",
       " 'dan',\n",
       " 'er',\n",
       " 'onmiddellijk',\n",
       " 'vogeltje',\n",
       " 'dit',\n",
       " 'door',\n",
       " 'mooi',\n",
       " 'een',\n",
       " 'zijn',\n",
       " 'nog',\n",
       " 'op',\n",
       " 'verstijfde',\n",
       " 'al',\n",
       " 'het',\n",
       " 'haar',\n",
       " 'redetwisten',\n",
       " 'om',\n",
       " 'kasteel',\n",
       " 'vak',\n",
       " '7',\n",
       " 'donkere',\n",
       " 'struik',\n",
       " 'naar',\n",
       " 'maar',\n",
       " 'ook',\n",
       " 'verdwaald',\n",
       " '12',\n",
       " 'dakker',\n",
       " 'je',\n",
       " 'direct',\n",
       " '2',\n",
       " 'spreuk',\n",
       " 'binnenplaats',\n",
       " 'hij',\n",
       " 'onschuldig',\n",
       " 'als',\n",
       " '`s',\n",
       " 'tussen',\n",
       " 'zo',\n",
       " 'meisjes',\n",
       " 'veel',\n",
       " 'schold']"
      ]
     },
     "execution_count": 55,
     "metadata": {},
     "output_type": "execute_result"
    }
   ],
   "execution_count": 55
  },
  {
   "metadata": {
    "ExecuteTime": {
     "end_time": "2024-10-17T11:42:23.881794Z",
     "start_time": "2024-10-17T11:42:23.757716Z"
    }
   },
   "cell_type": "code",
   "source": [
    "%matplotlib inline\n",
    "plt.plot(audio[0*sf_audio:10*sf_audio])"
   ],
   "id": "95782b22da0f7571",
   "outputs": [
    {
     "data": {
      "text/plain": [
       "[<matplotlib.lines.Line2D at 0x27991fc3440>]"
      ]
     },
     "execution_count": 62,
     "metadata": {},
     "output_type": "execute_result"
    },
    {
     "data": {
      "text/plain": [
       "<Figure size 640x480 with 1 Axes>"
      ],
      "image/png": "[encoded data removed]"
     },
     "metadata": {},
     "output_type": "display_data"
    }
   ],
   "execution_count": 62
  },
  {
   "metadata": {},
   "cell_type": "markdown",
   "source": "Detect the onset of each trial.",
   "id": "29a6ba969c147b57"
  }
 ],
 "metadata": {
  "kernelspec": {
   "display_name": "bci",
   "language": "python",
   "name": "bci"
  },
  "language_info": {
   "codemirror_mode": {
    "name": "ipython",
    "version": 2
   },
   "file_extension": ".py",
   "mimetype": "text/x-python",
   "name": "python",
   "nbconvert_exporter": "python",
   "pygments_lexer": "ipython2",
   "version": "2.7.6"
  }
 },
 "nbformat": 4,
 "nbformat_minor": 5
}
