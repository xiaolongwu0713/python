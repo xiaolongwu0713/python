{
 "cells": [
  {
   "cell_type": "code",
   "id": "initial_id",
   "metadata": {
    "collapsed": true,
    "ExecuteTime": {
     "end_time": "2024-07-16T02:36:35.014415Z",
     "start_time": "2024-07-16T02:36:35.010444Z"
    }
   },
   "source": "a=1",
   "outputs": [],
   "execution_count": 5
  },
  {
   "metadata": {
    "ExecuteTime": {
     "end_time": "2024-07-16T02:36:35.399616Z",
     "start_time": "2024-07-16T02:36:35.395075Z"
    }
   },
   "cell_type": "code",
   "source": "print(a)",
   "id": "4be379f219e444ea",
   "outputs": [
    {
     "name": "stdout",
     "output_type": "stream",
     "text": [
      "1\n"
     ]
    }
   ],
   "execution_count": 6
  },
  {
   "metadata": {
    "ExecuteTime": {
     "end_time": "2024-07-16T02:36:36.283324Z",
     "start_time": "2024-07-16T02:36:36.277421Z"
    }
   },
   "cell_type": "code",
   "source": [
    "from IPython.display import Javascript\n",
    "a=3\n",
    "display(Javascript('IPython.notebook.execute_cells_above()'))"
   ],
   "id": "7e3725b86d2953ac",
   "outputs": [
    {
     "data": {
      "text/plain": [
       "<IPython.core.display.Javascript object>"
      ],
      "application/javascript": "IPython.notebook.execute_cells_above()"
     },
     "metadata": {},
     "output_type": "display_data"
    }
   ],
   "execution_count": 7
  },
  {
   "metadata": {
    "ExecuteTime": {
     "end_time": "2024-07-16T02:37:00.630018Z",
     "start_time": "2024-07-16T02:37:00.625126Z"
    }
   },
   "cell_type": "code",
   "source": "a",
   "id": "82344b07f8602524",
   "outputs": [
    {
     "data": {
      "text/plain": [
       "3"
      ]
     },
     "execution_count": 8,
     "metadata": {},
     "output_type": "execute_result"
    }
   ],
   "execution_count": 8
  },
  {
   "metadata": {},
   "cell_type": "code",
   "outputs": [],
   "execution_count": null,
   "source": "",
   "id": "e0546196b8e8b3f8"
  }
 ],
 "metadata": {
  "kernelspec": {
   "display_name": "Python 3",
   "language": "python",
   "name": "python3"
  },
  "language_info": {
   "codemirror_mode": {
    "name": "ipython",
    "version": 2
   },
   "file_extension": ".py",
   "mimetype": "text/x-python",
   "name": "python",
   "nbconvert_exporter": "python",
   "pygments_lexer": "ipython2",
   "version": "2.7.6"
  }
 },
 "nbformat": 4,
 "nbformat_minor": 5
}
