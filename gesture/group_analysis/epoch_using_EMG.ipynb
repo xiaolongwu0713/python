{
 "cells": [
  {
   "cell_type": "markdown",
   "id": "adb21c65d54e711a",
   "metadata": {
    "id": "adb21c65d54e711a"
   },
   "source": [
    "### This script extract EEG signals based on the EMG signals, in order to align SEEG signals to the movement;\n",
    "\n",
    "Input: Not re-referenced proprocessing1.mat from matlab. \n",
    "\n",
    "Output: trigger extracted from the EMG signals.\n",
    "\n"
   ]
  },
  {
   "cell_type": "code",
   "id": "c717452538c09369",
   "metadata": {
    "colab": {
     "base_uri": "https://localhost:8080/"
    },
    "id": "c717452538c09369",
    "executionInfo": {
     "status": "ok",
     "timestamp": 1721276207083,
     "user_tz": -480,
     "elapsed": 8961,
     "user": {
      "displayName": "Long WU",
      "userId": "09414210733761439327"
     }
    },
    "outputId": "e6969fd6-396c-45a1-b593-0ab338c49153",
    "ExecuteTime": {
     "end_time": "2024-07-18T05:58:18.751706Z",
     "start_time": "2024-07-18T05:58:10.952543Z"
    }
   },
   "source": [
    "import numpy as np\n",
    "import matplotlib.pyplot as plt\n",
    "from gesture.config import *\n",
    "import hdf5storage"
   ],
   "outputs": [
    {
     "name": "stdout",
     "output_type": "stream",
     "text": [
      "========================================\n",
      "2024-07-18 13:58:13 - Start Program\n",
      "========================================\n",
      "\n",
      "pre_all: Running from CMD.\n"
     ]
    }
   ],
   "execution_count": 3
  },
  {
   "metadata": {},
   "cell_type": "code",
   "outputs": [],
   "execution_count": null,
   "source": [
    "from gesture.utils import sub_sf_dict\n",
    "info_dict=sub_sf_dict()"
   ],
   "id": "6f2525f6f581591c"
  },
  {
   "metadata": {},
   "cell_type": "code",
   "outputs": [],
   "execution_count": null,
   "source": [
    "sids=[int(i) for i in list(info_dict.keys())]\n",
    "sid=sids[0]\n",
    "print(str('sid:'+str(sid)+'.'))\n",
    "data_folder = data_dir + 'preprocessing/' + 'P' + str(sid) + '/'\n",
    "data_path = data_folder + 'preprocessing1.mat'\n",
    "mat = hdf5storage.loadmat(data_path)\n",
    "datas = mat['Datacell']\n",
    "good_channels = mat['good_channels']\n",
    "channelNum = len(np.squeeze(good_channels))\n",
    "# channelNum=int(mat['channelNum'][0,0])\n",
    "# total channel = channelNum + 4[2*emg + 1*trigger_indexes + 1*emg_trigger]\n",
    "#data = np.concatenate((data[0, 0], data[0, 1]), 0)"
   ],
   "id": "86acbcd2dc8f5ca3"
  },
  {
   "metadata": {},
   "cell_type": "code",
   "outputs": [],
   "execution_count": null,
   "source": "info_dict",
   "id": "2d86523c3f61269f"
  },
  {
   "metadata": {},
   "cell_type": "markdown",
   "source": "### loop through sessions",
   "id": "e22538de8ed833cb"
  },
  {
   "metadata": {},
   "cell_type": "code",
   "outputs": [],
   "execution_count": null,
   "source": [
    "session=1\n",
    "data=datas[0,session-1] # chn + emg1 +emg2 + emgdiff + trigger_label\n",
    "BCIdata = data[:,:-4]\n",
    "EMG=data[:,-4:-2]\n",
    "EMGdiff=data[:,-2]\n",
    "trigger_indexes = data[:,-1]"
   ],
   "id": "f7c99fb07954e117"
  },
  {
   "metadata": {},
   "cell_type": "code",
   "outputs": [],
   "execution_count": null,
   "source": [
    "%matplotlib inline\n",
    "fig,ax=plt.subplots()\n",
    "ax.plot(trigger_indexes)\n",
    "plt.show()"
   ],
   "id": "8ca9fb9a6c4472e6"
  },
  {
   "metadata": {},
   "cell_type": "code",
   "outputs": [],
   "execution_count": null,
   "source": [
    "fig,ax=plt.subplots(3,1)\n",
    "ax[0].plot(EMG[:,0])\n",
    "ax[1].plot(EMG[:,1])\n",
    "ax[2].plot(EMGdiff)\n",
    "plt.show()"
   ],
   "id": "c6254971480e079c"
  },
  {
   "metadata": {},
   "cell_type": "code",
   "outputs": [],
   "execution_count": null,
   "source": [
    "%matplotlib inline\n",
    "#%matplotlib notebook\n",
    "fig,ax=plt.subplots()\n",
    "plt.plot(EMGdiff[:100000])\n",
    "plt.show()"
   ],
   "id": "f8954a1947131cb4"
  },
  {
   "metadata": {},
   "cell_type": "code",
   "outputs": [],
   "execution_count": null,
   "source": "len(trigger_indexes)",
   "id": "22ff4ede2fd9705a"
  },
  {
   "metadata": {},
   "cell_type": "code",
   "outputs": [],
   "execution_count": null,
   "source": [
    "ch_types = ['eeg',]*BCIdata.shape[1]\n",
    "ch_names = ['eeg'+str(i) for i in range(BCIdata.shape[1])]\n",
    "info = mne.create_info(ch_names=ch_names, sfreq=1000, ch_types=ch_types)\n",
    "raw_eeg = mne.io.RawArray(BCIdata.transpose(), info)"
   ],
   "id": "74f9b5d6d750a02e"
  },
  {
   "metadata": {},
   "cell_type": "code",
   "outputs": [],
   "execution_count": null,
   "source": [
    "ch_types = ['eeg','eeg','eeg']\n",
    "ch_names = ['emg1','emg2','emgdiff']\n",
    "info = mne.create_info(ch_names=ch_names, sfreq=1000, ch_types=ch_types)\n",
    "raw_emg = mne.io.RawArray(np.concatenate((EMG.transpose(),EMGdiff[np.newaxis,:])), info)"
   ],
   "id": "d70727c0e38fe274"
  },
  {
   "metadata": {},
   "cell_type": "code",
   "outputs": [],
   "execution_count": null,
   "source": [
    "%matplotlib inline\n",
    "raw_eeg.compute_psd().plot() #TODO: check the wierd PSD around 350-430hz and a bump at 470hz."
   ],
   "id": "43209e4766a4ca4f"
  },
  {
   "metadata": {},
   "cell_type": "code",
   "outputs": [],
   "execution_count": null,
   "source": [
    "freqs = (50, 100, 150, 200, 250, 300, 350, 400, 450)\n",
    "raw_eeg.notch_filter(freqs=freqs)"
   ],
   "id": "4544f3c7b7882837"
  },
  {
   "metadata": {},
   "cell_type": "code",
   "outputs": [],
   "execution_count": null,
   "source": [
    "%matplotlib inline\n",
    "raw_emg.compute_psd().plot()"
   ],
   "id": "88e098728b700a18"
  },
  {
   "metadata": {},
   "cell_type": "code",
   "outputs": [],
   "execution_count": null,
   "source": [
    "freqs = (50, 150, 250, 350, 450)\n",
    "raw_emg.notch_filter(freqs=freqs)\n",
    "raw_emg.filter(90,145)\n",
    "raw_emg.compute_psd().plot()"
   ],
   "id": "a70de1ef5f833ca5"
  },
  {
   "metadata": {},
   "cell_type": "code",
   "outputs": [],
   "execution_count": null,
   "source": [
    "%matplotlib qt\n",
    "emg=raw_emg.get_data()\n",
    "emg_diff=emg[0,:]-emg[1,:]"
   ],
   "id": "16e5acb6a2306850"
  },
  {
   "metadata": {},
   "cell_type": "code",
   "outputs": [],
   "execution_count": null,
   "source": [
    "ch_types = ['eeg']\n",
    "ch_names = ['emgdiff']\n",
    "info = mne.create_info(ch_names=ch_names, sfreq=1000, ch_types=ch_types)\n",
    "raw_emgdiff = mne.io.RawArray(emg_diff[:,np.newaxis].transpose(), info)\n",
    "env=raw_emgdiff.copy().apply_hilbert(envelope=True).get_data()\n",
    "env=np.squeeze(env)"
   ],
   "id": "6ac51a10928fceff"
  },
  {
   "metadata": {},
   "cell_type": "code",
   "outputs": [],
   "execution_count": null,
   "source": [
    "# smooth the envelope\n",
    "from scipy.signal import savgol_filter\n",
    "env_smooth = savgol_filter(env, 300, 5) #  window size 13, polynomial order 5\n",
    "env_smooth_deriv=[]\n",
    "for i in range(0,len(env_smooth)-1):\n",
    "    #env_smooth_deriv.append(env_smooth[i]-2*env_smooth[i-1]+env_smooth[i-2])\n",
    "    env_smooth_deriv.append(abs(env_smooth[i]-env_smooth[i-1]))\n",
    "env_smooth_deriv.append(0)"
   ],
   "id": "d4b8b6071d8687a7"
  },
  {
   "metadata": {},
   "cell_type": "code",
   "outputs": [],
   "execution_count": null,
   "source": [
    "ind = np.where(trigger_indexes > 0)[0]\n",
    "plt.plot(emg_diff)\n",
    "plt.plot(env)\n",
    "plt.plot(env_smooth)\n",
    "plt.plot([i*5 for i in env_smooth_deriv])\n",
    "for i in ind:\n",
    "    plt.axvline(x=i, color='green', linestyle='--')"
   ],
   "id": "6c69a8635e8c0dbc"
  },
  {
   "metadata": {},
   "cell_type": "markdown",
   "source": [
    "\n",
    "![](img\\img1.png)"
   ],
   "id": "3e51fd2cbf3f9440"
  },
  {
   "metadata": {},
   "cell_type": "markdown",
   "source": "### manually identify the EMG onset point",
   "id": "4dfc3918eaaf5dd9"
  },
  {
   "metadata": {},
   "cell_type": "code",
   "outputs": [],
   "execution_count": null,
   "source": [
    "data_all=np.concatenate((raw_eeg.get_data(),EMG.transpose(),raw_emgdiff.get_data(),env[np.newaxis,:],\n",
    "                         np.asarray(env_smooth_deriv)[np.newaxis,:],trigger_indexes[np.newaxis,:]),axis=0)\n",
    "\n",
    "ch_types = ['eeg',]*len(raw_eeg.ch_names)+['misc',]*6\n",
    "ch_names = ['eeg'+str(i) for i in range(len(raw_eeg.ch_names))]+['emg','emg','emg_diff','emg_diff_env','env_smooth_deriv','trigger_index']\n",
    "info = mne.create_info(ch_names=ch_names, sfreq=1000, ch_types=ch_types)\n",
    "raw_all = mne.io.RawArray(data_all, info)"
   ],
   "id": "986e68533e8de4fb"
  },
  {
   "metadata": {},
   "cell_type": "code",
   "outputs": [],
   "execution_count": null,
   "source": [
    "from gesture.utils import get_good_channels\n",
    "tmin=-1\n",
    "tmax=1\n",
    "events_eeg = mne.find_events(raw_all, stim_channel='trigger_index')\n",
    "epochs_eeg = mne.Epochs(raw_all, events_eeg, tmin=tmin, tmax=tmax, baseline=None)\n",
    "            \n",
    "good_channels = get_good_channels()\n",
    "good_channel = good_channels['sid' + str(sid)]  # start from 1 (Matlab)\n",
    "good_channel = [i - 1 for i in good_channel]\n",
    "bad_channels_ind = [i for i in range(len(epochs_eeg.ch_names) - 6) if i not in good_channel]\n",
    "bad_channels = [epochs_eeg.ch_names[c] for c in bad_channels_ind]\n",
    "epochs_eeg.load_data()\n",
    "epochs_eeg.drop_channels(bad_channels)"
   ],
   "id": "9e054c9f9abb870c"
  },
  {
   "metadata": {},
   "cell_type": "code",
   "outputs": [],
   "execution_count": null,
   "source": [
    "epoch3=epochs_eeg['3'].load_data().pick(picks=[ch_names[78], 'emg-0', 'emg-1', 'emg_diff', 'emg_diff_env','env_smooth_deriv','trigger_index'])\n",
    "epoch=epoch3.copy().filter(l_freq=0.5,h_freq=2,picks=['eeg'])\n",
    "data=epoch.get_data() #(20, 6, 501)\n"
   ],
   "id": "d833127801dfbed4"
  },
  {
   "metadata": {},
   "cell_type": "code",
   "outputs": [],
   "execution_count": null,
   "source": [
    "%matplotlib qt\n",
    "trial=6\n",
    "plt.plot([i*50 for i in data[trial,0,:]]) # EEG\n",
    "plt.plot(data[trial,3,:]) # emg_diff\n",
    "plt.plot(data[trial,4,:]) # env"
   ],
   "id": "665809a91d3901b3"
  },
  {
   "metadata": {},
   "cell_type": "markdown",
   "source": "### Locate movement start from the EMG signals",
   "id": "b4df02baa4931ea4"
  },
  {
   "metadata": {},
   "cell_type": "code",
   "outputs": [],
   "execution_count": null,
   "source": [
    "# based on the env_smooth (15)\n",
    "ind_emg=[]\n",
    "threshold=3\n",
    "for i in ind:\n",
    "    j=0\n",
    "    base_smooth1=env_smooth[i-1000:i]\n",
    "    base_deriv2=env_smooth_deriv[i-1000:i]\n",
    "    mean1 = np.mean(base_smooth1)\n",
    "    std1 = np.std(base_smooth1)\n",
    "    mean2 = np.mean(base_deriv2)\n",
    "    std2 = np.std(base_deriv2)\n",
    "    \n",
    "    while True:\n",
    "        value1=env_smooth[i+j]\n",
    "        value2=env_smooth_deriv[i+j]\n",
    "        z_score1 = (value1 - mean1) / std1\n",
    "        z_score2 = (value2 - mean2) / std2\n",
    "        if value1 > mean1*1.5 and abs(z_score1) > threshold and abs(z_score2) > threshold:\n",
    "            ind_emg.append(i+j)\n",
    "            break\n",
    "        j=j+1"
   ],
   "id": "a6d7b3eeb7e900ab"
  },
  {
   "metadata": {},
   "cell_type": "markdown",
   "source": [
    "Result not good. This method is too sensitive.\n",
    "Below is epoch created by the EMG trigger, shown alongside with the original triggers on the left.\n",
    "Solution: add threshold requirement.\n",
    "\n",
    "![](img\\9.png)"
   ],
   "id": "a9d366978aec476d"
  },
  {
   "metadata": {},
   "cell_type": "code",
   "outputs": [],
   "execution_count": null,
   "source": [
    "plt.plot(emg_diff)\n",
    "plt.plot(env)\n",
    "plt.plot(env_smooth)\n",
    "plt.plot([i*5 for i in env_smooth_deriv])\n",
    "for i,j in zip(ind,ind_emg):\n",
    "    plt.axvline(x=i, color='green', linestyle='--')\n",
    "    plt.axvline(x=j, color='red', linestyle='--')"
   ],
   "id": "39f11b36ee2d9661"
  },
  {
   "metadata": {},
   "cell_type": "markdown",
   "source": "![](img/img2.png)",
   "id": "bd5db98980d178a0"
  },
  {
   "metadata": {},
   "cell_type": "markdown",
   "source": "",
   "id": "86596bbd04b7680"
  },
  {
   "metadata": {},
   "cell_type": "markdown",
   "source": "### create new trigger index based on the EMG trigger",
   "id": "46a9772614cab84a"
  },
  {
   "metadata": {},
   "cell_type": "code",
   "outputs": [],
   "execution_count": null,
   "source": [
    "sequence=[int(i) for i in trigger_indexes if i != 0]\n",
    "trigger_ind_emg=np.zeros(trigger_indexes.shape)\n",
    "for i,j in enumerate(ind_emg):\n",
    "    trigger_ind_emg[j]=sequence[i]"
   ],
   "id": "8ced4ea8843e5510"
  },
  {
   "metadata": {},
   "cell_type": "code",
   "outputs": [],
   "execution_count": null,
   "source": [
    "# compare EEG trigger and EMG trigger\n",
    "%matplotlib inline\n",
    "fig,ax=plt.subplots()\n",
    "ax.plot(trigger_indexes,linestyle='-')\n",
    "ax.plot(trigger_ind_emg,linestyle='--')\n",
    "ax.legend(['trigger','trigger_emg'])\n",
    "plt.show()"
   ],
   "id": "caa9cdfe9e522a12"
  },
  {
   "metadata": {},
   "cell_type": "markdown",
   "source": [
    "### combine all data into raw_all: raw_eeg(121),EMG(2),raw_emgdiff2(1),emgdiff_env(1),env_smooth_deriv(1),trigger_indexes(1),trigger_ind_emg(1)\n",
    "channel number=EEG channels 121+7=128"
   ],
   "id": "59f20a5e040c0ccf"
  },
  {
   "metadata": {},
   "cell_type": "code",
   "outputs": [],
   "execution_count": null,
   "source": [
    "#raw_eeg.get_data()-(121, 590096),EMG-(590096, 2)\n",
    "# ,raw_emgdiff2- (1, 590096),emgdiff_env-(1, 590096),env_smooth_deriv-(590096,),trigger_indexes-(590096,),trigger_ind_emg-(590096,)\n",
    "data_all=np.concatenate((raw_eeg.get_data(),EMG.transpose(),raw_emgdiff.get_data(),env[np.newaxis,:],\n",
    "                         np.asarray(env_smooth_deriv)[np.newaxis,:],trigger_indexes[np.newaxis,:],trigger_ind_emg[np.newaxis,:]),axis=0)"
   ],
   "id": "9debf0aade17b51b"
  },
  {
   "metadata": {},
   "cell_type": "code",
   "outputs": [],
   "execution_count": null,
   "source": "data_all.shape",
   "id": "c1b6518e85f3d5ca"
  },
  {
   "metadata": {},
   "cell_type": "code",
   "outputs": [],
   "execution_count": null,
   "source": [
    "ch_types = ['eeg',]*len(raw_eeg.ch_names)+['misc',]*7\n",
    "ch_names = ['eeg'+str(i) for i in range(len(raw_eeg.ch_names))]+['emg','emg','emg_diff','emg_diff_env','env_smooth_deriv','trigger_index','trigger_index_emg']\n",
    "info = mne.create_info(ch_names=ch_names, sfreq=1000, ch_types=ch_types)\n",
    "raw_all = mne.io.RawArray(data_all, info)"
   ],
   "id": "bb364c49c08340b7"
  },
  {
   "metadata": {},
   "cell_type": "code",
   "outputs": [],
   "execution_count": null,
   "source": [
    "# save raw_all\n",
    "data_folder = data_dir + 'preprocessing_no_re_ref/' + 'P' + str(sid) + '/'\n",
    "filename=data_folder+'emg_trigger_raw.fif'\n",
    "raw_all.save(filename,overwrite=True)"
   ],
   "id": "6af42e2a24ef405d"
  },
  {
   "metadata": {},
   "cell_type": "code",
   "outputs": [],
   "execution_count": null,
   "source": "filename",
   "id": "31c3bae8c16ca019"
  },
  {
   "metadata": {},
   "cell_type": "markdown",
   "source": "### checking the epoch result",
   "id": "190b8d9647ea4ad1"
  },
  {
   "metadata": {},
   "cell_type": "code",
   "outputs": [],
   "execution_count": null,
   "source": "",
   "id": "a86e8037b6dae9a4"
  },
  {
   "metadata": {},
   "cell_type": "code",
   "outputs": [],
   "execution_count": null,
   "source": [
    "from gesture.group_analysis.util import get_epoch_and_anat_label\n",
    "check_this_channel=78\n",
    "tmin=-1\n",
    "tmax=1\n",
    "sf=1000\n",
    "epochs=get_epoch_and_anat_label(sid, sf,tmin=tmin,tmax=tmax,trigger='EMG',re_ordered=True,random_shift=False)\n",
    "#epochs=get_epoch(sid, sf,scaler='no',trigger='EMG',tmin=tmin,tmax=tmax)\n",
    "epoch3=epochs['3'].load_data().pick(picks=[ch_names[check_this_channel], 'emg-0', 'emg-1', 'emg_diff', 'emg_diff_env','env_smooth_deriv','trigger_index','trigger_index_emg']) # simple grasp"
   ],
   "id": "ab338980f296dcb7"
  },
  {
   "metadata": {},
   "cell_type": "code",
   "outputs": [],
   "execution_count": null,
   "source": [
    "epoch=epoch3.copy().filter(l_freq=0.5,h_freq=2,picks=['eeg'])\n",
    "data=epoch.get_data() #(20, 6, 501)"
   ],
   "id": "6d1d24e91727826c"
  },
  {
   "metadata": {},
   "cell_type": "code",
   "outputs": [],
   "execution_count": null,
   "source": [
    "# check individual trials\n",
    "%matplotlib qt\n",
    "fig,ax=plt.subplots()\n",
    "trial_num=[0,1,2,3,4,5,6,7,8,9,10,11,12,13,14,15,16,17,18,19,]\n",
    "for i in trial_num:\n",
    "    ax.plot([j+i*600 for j in data[i,0,:]])\n",
    "    ax.plot([j+i*600 for j in data[i,3,:]*0.2])\n",
    "    ax.plot([j*100+i*600 for j in data[i,-1,:]])\n",
    "    ax.plot([j*100+i*600 for j in data[i,-2,:]])\n",
    "filename=data_dir+'/group_analysis/phase_locking_sid'+str(sid)+'.png'\n",
    "#fig.savefig(filename)\n",
    "#fig.clear()\n",
    "#plt.close(fig)\n",
    "print('Phase-locking.')"
   ],
   "id": "298d3e9fdfcccc7b"
  }
 ],
 "metadata": {
  "kernelspec": {
   "display_name": "Python [conda env:bci] *",
   "language": "python",
   "name": "conda-env-bci-py"
  },
  "language_info": {
   "codemirror_mode": {
    "name": "ipython",
    "version": 3
   },
   "file_extension": ".py",
   "mimetype": "text/x-python",
   "name": "python",
   "nbconvert_exporter": "python",
   "pygments_lexer": "ipython3",
   "version": "3.10.8"
  },
  "colab": {
   "provenance": []
  }
 },
 "nbformat": 4,
 "nbformat_minor": 5
}
