{
 "cells": [
  {
   "cell_type": "code",
   "id": "initial_id",
   "metadata": {
    "collapsed": true,
    "ExecuteTime": {
     "end_time": "2024-07-26T07:40:41.564323Z",
     "start_time": "2024-07-26T07:40:34.423038Z"
    }
   },
   "source": [
    "import numpy as np\n",
    "from gesture.config import *"
   ],
   "outputs": [
    {
     "name": "stdout",
     "output_type": "stream",
     "text": [
      "========================================\n",
      "2024-07-26 15:40:35 - Start Program\n",
      "========================================\n",
      "\n",
      "pre_all: Running from CMD.\n"
     ]
    }
   ],
   "execution_count": 1
  },
  {
   "metadata": {
    "ExecuteTime": {
     "end_time": "2024-07-26T07:40:53.197775Z",
     "start_time": "2024-07-26T07:40:50.509937Z"
    }
   },
   "cell_type": "code",
   "source": [
    "sid=2\n",
    "save_folder = data_dir + 'preprocessing_no_re_ref/' + 'P' + str(sid) + '/'\n",
    "filename = save_folder + 'emg_trigger_raw.fif'\n",
    "raw=mne.io.read_raw_fif(filename)\n",
    "events_eeg = mne.find_events(raw, stim_channel='trigger_index')\n",
    "events_emg = mne.find_events(raw, stim_channel='trigger_index_emg')"
   ],
   "id": "1e61defd255181ee",
   "outputs": [],
   "execution_count": 2
  },
  {
   "metadata": {
    "ExecuteTime": {
     "end_time": "2024-07-26T07:41:00.013304Z",
     "start_time": "2024-07-26T07:41:00.002856Z"
    }
   },
   "cell_type": "code",
   "source": "events=np.concatenate((events_eeg,events_emg),axis=0)",
   "id": "65982674e6690e25",
   "outputs": [],
   "execution_count": 3
  },
  {
   "metadata": {
    "ExecuteTime": {
     "end_time": "2024-07-25T10:33:14.814265Z",
     "start_time": "2024-07-25T10:33:14.799545Z"
    }
   },
   "cell_type": "code",
   "source": "events",
   "id": "52687732c9a5ea8f",
   "outputs": [
    {
     "data": {
      "text/plain": [
       "array([[  11048,       0,       4],\n",
       "       [  21099,       0,       1],\n",
       "       [  31149,       0,       4],\n",
       "       [  41199,       0,       3],\n",
       "       [  51249,       0,       5],\n",
       "       [  61299,       0,       1],\n",
       "       [  71349,       0,       2],\n",
       "       [  81399,       0,       1],\n",
       "       [  91449,       0,       5],\n",
       "       [ 101499,       0,       2],\n",
       "       [ 111549,       0,       3],\n",
       "       [ 121599,       0,       1],\n",
       "       [ 131650,       0,       5],\n",
       "       [ 141700,       0,       5],\n",
       "       [ 151750,       0,       3],\n",
       "       [ 161800,       0,       1],\n",
       "       [ 171850,       0,       4],\n",
       "       [ 181900,       0,       4],\n",
       "       [ 191950,       0,       2],\n",
       "       [ 202000,       0,       3],\n",
       "       [ 212050,       0,       3],\n",
       "       [ 222100,       0,       5],\n",
       "       [ 232150,       0,       4],\n",
       "       [ 242201,       0,       2],\n",
       "       [ 252251,       0,       1],\n",
       "       [ 262301,       0,       2],\n",
       "       [ 272351,       0,       3],\n",
       "       [ 282401,       0,       2],\n",
       "       [ 292451,       0,       1],\n",
       "       [ 302501,       0,       2],\n",
       "       [ 312551,       0,       5],\n",
       "       [ 322601,       0,       3],\n",
       "       [ 332651,       0,       1],\n",
       "       [ 342701,       0,       1],\n",
       "       [ 352752,       0,       5],\n",
       "       [ 362802,       0,       5],\n",
       "       [ 372852,       0,       3],\n",
       "       [ 382902,       0,       4],\n",
       "       [ 392952,       0,       1],\n",
       "       [ 403002,       0,       2],\n",
       "       [ 413052,       0,       4],\n",
       "       [ 423102,       0,       3],\n",
       "       [ 433152,       0,       5],\n",
       "       [ 443202,       0,       2],\n",
       "       [ 453252,       0,       5],\n",
       "       [ 463303,       0,       4],\n",
       "       [ 473353,       0,       4],\n",
       "       [ 483403,       0,       2],\n",
       "       [ 493453,       0,       4],\n",
       "       [ 503503,       0,       3],\n",
       "       [ 606489,       0,       3],\n",
       "       [ 616539,       0,       2],\n",
       "       [ 626589,       0,       5],\n",
       "       [ 636639,       0,       2],\n",
       "       [ 646689,       0,       4],\n",
       "       [ 656739,       0,       1],\n",
       "       [ 666789,       0,       1],\n",
       "       [ 676839,       0,       2],\n",
       "       [ 686890,       0,       1],\n",
       "       [ 696940,       0,       2],\n",
       "       [ 706990,       0,       3],\n",
       "       [ 717040,       0,       3],\n",
       "       [ 727090,       0,       1],\n",
       "       [ 737140,       0,       3],\n",
       "       [ 747190,       0,       5],\n",
       "       [ 757240,       0,       5],\n",
       "       [ 767290,       0,       3],\n",
       "       [ 777340,       0,       2],\n",
       "       [ 787390,       0,       2],\n",
       "       [ 797441,       0,       2],\n",
       "       [ 807491,       0,       4],\n",
       "       [ 817541,       0,       4],\n",
       "       [ 827591,       0,       3],\n",
       "       [ 837641,       0,       4],\n",
       "       [ 847691,       0,       5],\n",
       "       [ 857741,       0,       3],\n",
       "       [ 867791,       0,       2],\n",
       "       [ 877841,       0,       1],\n",
       "       [ 887891,       0,       1],\n",
       "       [ 897941,       0,       1],\n",
       "       [ 907991,       0,       3],\n",
       "       [ 918042,       0,       3],\n",
       "       [ 928092,       0,       4],\n",
       "       [ 938142,       0,       1],\n",
       "       [ 948192,       0,       1],\n",
       "       [ 958242,       0,       4],\n",
       "       [ 968292,       0,       5],\n",
       "       [ 978342,       0,       5],\n",
       "       [ 988392,       0,       3],\n",
       "       [ 998442,       0,       4],\n",
       "       [1008492,       0,       5],\n",
       "       [1018542,       0,       5],\n",
       "       [1028593,       0,       4],\n",
       "       [1038643,       0,       5],\n",
       "       [1048693,       0,       4],\n",
       "       [1058743,       0,       2],\n",
       "       [1068793,       0,       5],\n",
       "       [1078843,       0,       2],\n",
       "       [1088893,       0,       4],\n",
       "       [1098943,       0,       1],\n",
       "       [  11754,       0,       4],\n",
       "       [  21711,       0,       1],\n",
       "       [  31764,       0,       4],\n",
       "       [  41645,       0,       3],\n",
       "       [  51269,       0,       5],\n",
       "       [  61391,       0,       1],\n",
       "       [  71542,       0,       2],\n",
       "       [  81984,       0,       1],\n",
       "       [  92032,       0,       5],\n",
       "       [ 102133,       0,       2],\n",
       "       [ 112007,       0,       3],\n",
       "       [ 122427,       0,       1],\n",
       "       [ 132263,       0,       5],\n",
       "       [ 142291,       0,       5],\n",
       "       [ 152318,       0,       3],\n",
       "       [ 162279,       0,       1],\n",
       "       [ 172825,       0,       4],\n",
       "       [ 182479,       0,       4],\n",
       "       [ 192417,       0,       2],\n",
       "       [ 202444,       0,       3],\n",
       "       [ 212229,       0,       3],\n",
       "       [ 222663,       0,       5],\n",
       "       [ 232191,       0,       4],\n",
       "       [ 242223,       0,       2],\n",
       "       [ 252745,       0,       1],\n",
       "       [ 262732,       0,       2],\n",
       "       [ 272694,       0,       3],\n",
       "       [ 282747,       0,       2],\n",
       "       [ 292881,       0,       1],\n",
       "       [ 302870,       0,       2],\n",
       "       [ 313177,       0,       5],\n",
       "       [ 322942,       0,       3],\n",
       "       [ 333014,       0,       1],\n",
       "       [ 343259,       0,       1],\n",
       "       [ 353252,       0,       5],\n",
       "       [ 363377,       0,       5],\n",
       "       [ 373291,       0,       3],\n",
       "       [ 383433,       0,       4],\n",
       "       [ 393307,       0,       1],\n",
       "       [ 403501,       0,       2],\n",
       "       [ 413561,       0,       4],\n",
       "       [ 424197,       0,       3],\n",
       "       [ 433820,       0,       5],\n",
       "       [ 443514,       0,       2],\n",
       "       [ 453800,       0,       5],\n",
       "       [ 463878,       0,       4],\n",
       "       [ 473814,       0,       4],\n",
       "       [ 483787,       0,       2],\n",
       "       [ 493846,       0,       4],\n",
       "       [ 504272,       0,       3],\n",
       "       [ 606954,       0,       3],\n",
       "       [ 616971,       0,       2],\n",
       "       [ 627118,       0,       5],\n",
       "       [ 637124,       0,       2],\n",
       "       [ 647102,       0,       4],\n",
       "       [ 657216,       0,       1],\n",
       "       [ 667244,       0,       1],\n",
       "       [ 677230,       0,       2],\n",
       "       [ 687430,       0,       1],\n",
       "       [ 697327,       0,       2],\n",
       "       [ 707352,       0,       3],\n",
       "       [ 717353,       0,       3],\n",
       "       [ 727985,       0,       1],\n",
       "       [ 737535,       0,       3],\n",
       "       [ 747756,       0,       5],\n",
       "       [ 757838,       0,       5],\n",
       "       [ 767779,       0,       3],\n",
       "       [ 777732,       0,       2],\n",
       "       [ 788249,       0,       2],\n",
       "       [ 797701,       0,       2],\n",
       "       [ 808110,       0,       4],\n",
       "       [ 818051,       0,       4],\n",
       "       [ 827955,       0,       3],\n",
       "       [ 838141,       0,       4],\n",
       "       [ 850945,       0,       5],\n",
       "       [ 858039,       0,       3],\n",
       "       [ 868624,       0,       2],\n",
       "       [ 878041,       0,       1],\n",
       "       [ 889230,       0,       1],\n",
       "       [ 898330,       0,       1],\n",
       "       [ 908382,       0,       3],\n",
       "       [ 918438,       0,       3],\n",
       "       [ 928412,       0,       4],\n",
       "       [ 938531,       0,       1],\n",
       "       [ 948815,       0,       1],\n",
       "       [ 958756,       0,       4],\n",
       "       [ 968796,       0,       5],\n",
       "       [ 978920,       0,       5],\n",
       "       [ 989095,       0,       3],\n",
       "       [ 999011,       0,       4],\n",
       "       [1008498,       0,       5],\n",
       "       [1019177,       0,       5],\n",
       "       [1029273,       0,       4],\n",
       "       [1039168,       0,       5],\n",
       "       [1049140,       0,       4],\n",
       "       [1059125,       0,       2],\n",
       "       [1069294,       0,       5],\n",
       "       [1079426,       0,       2],\n",
       "       [1089463,       0,       4],\n",
       "       [1099478,       0,       1]])"
      ]
     },
     "execution_count": 10,
     "metadata": {},
     "output_type": "execute_result"
    }
   ],
   "execution_count": 10
  },
  {
   "metadata": {
    "ExecuteTime": {
     "end_time": "2024-07-26T07:41:05.283552Z",
     "start_time": "2024-07-26T07:41:05.158118Z"
    }
   },
   "cell_type": "code",
   "source": [
    "annot_from_events = mne.annotations_from_events(\n",
    "    events=events,\n",
    "    sfreq=raw.info[\"sfreq\"],\n",
    "    orig_time=raw.info[\"meas_date\"],\n",
    ")\n",
    "\n",
    "raw.set_annotations(annot_from_events)\n"
   ],
   "id": "cbb97f4a8deb6f69",
   "outputs": [
    {
     "data": {
      "text/plain": [
       "<Raw | emg_trigger_raw.fif, 128 x 1140256 (1140.3 s), ~125 kB, data not loaded>"
      ],
      "text/html": [
       "<table class=\"table table-hover table-striped table-sm table-responsive small\">\n",
       "    <tr>\n",
       "        <th>Measurement date</th>\n",
       "        \n",
       "        <td>Unknown</td>\n",
       "        \n",
       "    </tr>\n",
       "    <tr>\n",
       "        <th>Experimenter</th>\n",
       "        \n",
       "        <td>Unknown</td>\n",
       "        \n",
       "    </tr>\n",
       "        <th>Participant</th>\n",
       "        \n",
       "        <td>Unknown</td>\n",
       "        \n",
       "    </tr>\n",
       "    <tr>\n",
       "        <th>Digitized points</th>\n",
       "        \n",
       "        <td>Not available</td>\n",
       "        \n",
       "    </tr>\n",
       "    <tr>\n",
       "        <th>Good channels</th>\n",
       "        <td>121 EEG, 7 misc</td>\n",
       "    </tr>\n",
       "    <tr>\n",
       "        <th>Bad channels</th>\n",
       "        <td>None</td>\n",
       "    </tr>\n",
       "    <tr>\n",
       "        <th>EOG channels</th>\n",
       "        <td>Not available</td>\n",
       "    </tr>\n",
       "    <tr>\n",
       "        <th>ECG channels</th>\n",
       "        <td>Not available</td>\n",
       "    \n",
       "    <tr>\n",
       "        <th>Sampling frequency</th>\n",
       "        <td>1000.00 Hz</td>\n",
       "    </tr>\n",
       "    \n",
       "    \n",
       "    <tr>\n",
       "        <th>Highpass</th>\n",
       "        <td>0.00 Hz</td>\n",
       "    </tr>\n",
       "    \n",
       "    \n",
       "    <tr>\n",
       "        <th>Lowpass</th>\n",
       "        <td>500.00 Hz</td>\n",
       "    </tr>\n",
       "    \n",
       "    \n",
       "    \n",
       "    <tr>\n",
       "        <th>Filenames</th>\n",
       "        <td>emg_trigger_raw.fif</td>\n",
       "    </tr>\n",
       "    \n",
       "    <tr>\n",
       "        <th>Duration</th>\n",
       "        <td>00:19:01 (HH:MM:SS)</td>\n",
       "    </tr>\n",
       "</table>"
      ]
     },
     "execution_count": 4,
     "metadata": {},
     "output_type": "execute_result"
    }
   ],
   "execution_count": 4
  },
  {
   "metadata": {
    "ExecuteTime": {
     "end_time": "2024-07-26T07:41:11.786132Z",
     "start_time": "2024-07-26T07:41:11.769382Z"
    }
   },
   "cell_type": "code",
   "source": "raw.info.get_channel_types()",
   "id": "82fc9b66401fe906",
   "outputs": [
    {
     "data": {
      "text/plain": [
       "['eeg',\n",
       " 'eeg',\n",
       " 'eeg',\n",
       " 'eeg',\n",
       " 'eeg',\n",
       " 'eeg',\n",
       " 'eeg',\n",
       " 'eeg',\n",
       " 'eeg',\n",
       " 'eeg',\n",
       " 'eeg',\n",
       " 'eeg',\n",
       " 'eeg',\n",
       " 'eeg',\n",
       " 'eeg',\n",
       " 'eeg',\n",
       " 'eeg',\n",
       " 'eeg',\n",
       " 'eeg',\n",
       " 'eeg',\n",
       " 'eeg',\n",
       " 'eeg',\n",
       " 'eeg',\n",
       " 'eeg',\n",
       " 'eeg',\n",
       " 'eeg',\n",
       " 'eeg',\n",
       " 'eeg',\n",
       " 'eeg',\n",
       " 'eeg',\n",
       " 'eeg',\n",
       " 'eeg',\n",
       " 'eeg',\n",
       " 'eeg',\n",
       " 'eeg',\n",
       " 'eeg',\n",
       " 'eeg',\n",
       " 'eeg',\n",
       " 'eeg',\n",
       " 'eeg',\n",
       " 'eeg',\n",
       " 'eeg',\n",
       " 'eeg',\n",
       " 'eeg',\n",
       " 'eeg',\n",
       " 'eeg',\n",
       " 'eeg',\n",
       " 'eeg',\n",
       " 'eeg',\n",
       " 'eeg',\n",
       " 'eeg',\n",
       " 'eeg',\n",
       " 'eeg',\n",
       " 'eeg',\n",
       " 'eeg',\n",
       " 'eeg',\n",
       " 'eeg',\n",
       " 'eeg',\n",
       " 'eeg',\n",
       " 'eeg',\n",
       " 'eeg',\n",
       " 'eeg',\n",
       " 'eeg',\n",
       " 'eeg',\n",
       " 'eeg',\n",
       " 'eeg',\n",
       " 'eeg',\n",
       " 'eeg',\n",
       " 'eeg',\n",
       " 'eeg',\n",
       " 'eeg',\n",
       " 'eeg',\n",
       " 'eeg',\n",
       " 'eeg',\n",
       " 'eeg',\n",
       " 'eeg',\n",
       " 'eeg',\n",
       " 'eeg',\n",
       " 'eeg',\n",
       " 'eeg',\n",
       " 'eeg',\n",
       " 'eeg',\n",
       " 'eeg',\n",
       " 'eeg',\n",
       " 'eeg',\n",
       " 'eeg',\n",
       " 'eeg',\n",
       " 'eeg',\n",
       " 'eeg',\n",
       " 'eeg',\n",
       " 'eeg',\n",
       " 'eeg',\n",
       " 'eeg',\n",
       " 'eeg',\n",
       " 'eeg',\n",
       " 'eeg',\n",
       " 'eeg',\n",
       " 'eeg',\n",
       " 'eeg',\n",
       " 'eeg',\n",
       " 'eeg',\n",
       " 'eeg',\n",
       " 'eeg',\n",
       " 'eeg',\n",
       " 'eeg',\n",
       " 'eeg',\n",
       " 'eeg',\n",
       " 'eeg',\n",
       " 'eeg',\n",
       " 'eeg',\n",
       " 'eeg',\n",
       " 'eeg',\n",
       " 'eeg',\n",
       " 'eeg',\n",
       " 'eeg',\n",
       " 'eeg',\n",
       " 'eeg',\n",
       " 'eeg',\n",
       " 'eeg',\n",
       " 'eeg',\n",
       " 'eeg',\n",
       " 'misc',\n",
       " 'misc',\n",
       " 'misc',\n",
       " 'misc',\n",
       " 'misc',\n",
       " 'misc',\n",
       " 'misc']"
      ]
     },
     "execution_count": 5,
     "metadata": {},
     "output_type": "execute_result"
    }
   ],
   "execution_count": 5
  },
  {
   "metadata": {
    "ExecuteTime": {
     "end_time": "2024-07-26T07:59:44.633869Z",
     "start_time": "2024-07-26T07:59:41.343027Z"
    }
   },
   "cell_type": "code",
   "source": [
    "tmp=raw.get_data()\n",
    "tmp[-3,:]=tmp[-3,:]*200\n",
    "raws = mne.io.RawArray(tmp, raw.info)\n",
    "raws.set_annotations(annot_from_events)\n",
    "raws.plot(n_channels=3)"
   ],
   "id": "91030833facaeac6",
   "outputs": [
    {
     "data": {
      "text/plain": [
       "<mne_qt_browser._pg_figure.MNEQtBrowser at 0x159268700>"
      ]
     },
     "execution_count": 17,
     "metadata": {},
     "output_type": "execute_result"
    }
   ],
   "execution_count": 17
  },
  {
   "metadata": {},
   "cell_type": "markdown",
   "source": [
    "![](img/3.png)   \n",
    "\n",
    "The correct starting time should be the yellow line, not the first (trigger line), nor the last one (EMG). Same happens to below:\n",
    "\n",
    "![](img/4.png)\n",
    "\n",
    "Some seems not right:\n",
    "\n",
    "![](img/5.png)"
   ],
   "id": "df390bab0b768681"
  },
  {
   "metadata": {
    "ExecuteTime": {
     "end_time": "2024-07-25T11:12:09.394296Z",
     "start_time": "2024-07-25T11:12:09.368640Z"
    }
   },
   "cell_type": "code",
   "source": [
    "tmin=-1\n",
    "tmax=5\n",
    "epochs_eeg = mne.Epochs(raw, events_eeg, tmin=tmin, tmax=tmax, baseline=None)\n",
    "epochs_emg = mne.Epochs(raw, events_emg, tmin=tmin, tmax=tmax, baseline=None)"
   ],
   "id": "17aa67129763d0ea",
   "outputs": [],
   "execution_count": 30
  },
  {
   "metadata": {
    "ExecuteTime": {
     "end_time": "2024-07-25T11:12:10.566855Z",
     "start_time": "2024-07-25T11:12:09.908445Z"
    }
   },
   "cell_type": "code",
   "source": [
    "epochs=epochs_eeg['3']\n",
    "data = epochs.get_data()\n",
    "pseudo_raw_data = np.hstack(data)\n",
    "pseudo_raw = mne.io.RawArray(pseudo_raw_data, epochs.info)"
   ],
   "id": "47712edbbb3836aa",
   "outputs": [],
   "execution_count": 31
  },
  {
   "metadata": {
    "ExecuteTime": {
     "end_time": "2024-07-25T11:13:41.671461Z",
     "start_time": "2024-07-25T11:13:40.931494Z"
    }
   },
   "cell_type": "code",
   "source": "pseudo_raw.plot(n_channels=3)",
   "id": "f5a4ff03b1371ac9",
   "outputs": [
    {
     "data": {
      "text/plain": [
       "<mne_qt_browser._pg_figure.MNEQtBrowser at 0x154f57d90>"
      ]
     },
     "execution_count": 34,
     "metadata": {},
     "output_type": "execute_result"
    }
   ],
   "execution_count": 34
  },
  {
   "metadata": {},
   "cell_type": "code",
   "outputs": [],
   "execution_count": null,
   "source": "",
   "id": "99507cd419918bba"
  }
 ],
 "metadata": {
  "kernelspec": {
   "display_name": "bci",
   "language": "python",
   "name": "bci"
  },
  "language_info": {
   "codemirror_mode": {
    "name": "ipython",
    "version": 2
   },
   "file_extension": ".py",
   "mimetype": "text/x-python",
   "name": "python",
   "nbconvert_exporter": "python",
   "pygments_lexer": "ipython2",
   "version": "2.7.6"
  }
 },
 "nbformat": 4,
 "nbformat_minor": 5
}
