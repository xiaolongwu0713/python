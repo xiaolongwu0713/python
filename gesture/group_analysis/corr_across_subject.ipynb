{
 "cells": [
  {
   "cell_type": "markdown",
   "id": "71f6172823970280",
   "metadata": {},
   "source": [
    "# This script was used to see how electrodes correlate across subjects. See another from: https://journals.plos.org/ploscompbiol/article?id=10.1371/journal.pcbi.1006769\n",
    "#\n"
   ]
  },
  {
   "cell_type": "code",
   "id": "22e10569e94d5bdc",
   "metadata": {
    "ExecuteTime": {
     "end_time": "2024-08-03T01:47:48.688324Z",
     "start_time": "2024-08-03T01:47:39.773297Z"
    }
   },
   "source": [
    "import numpy as np\n",
    "\n",
    "from gesture.utils import get_epoch,get_good_channels\n",
    "import matplotlib.pyplot as plt\n",
    "import scipy.io\n",
    "from gesture.config import *\n",
    "import h5py\n",
    "import pandas as pd\n",
    "from gesture.utils import sub_sf_dict"
   ],
   "outputs": [
    {
     "name": "stdout",
     "output_type": "stream",
     "text": [
      "========================================\n",
      "2024-08-03 09:47:43 - Start Program\n",
      "========================================\n",
      "\n",
      "pre_all: Running from CMD.\n"
     ]
    }
   ],
   "execution_count": 1
  },
  {
   "cell_type": "code",
   "id": "db4df50190ba1c4f",
   "metadata": {
    "ExecuteTime": {
     "end_time": "2024-08-03T01:48:01.326003Z",
     "start_time": "2024-08-03T01:48:01.294755Z"
    }
   },
   "source": [
    "filename=meta_dir+'ele_anat_position.npy'\n",
    "ele = np.load(filename,allow_pickle=True).item()\n",
    "good_channels=get_good_channels()"
   ],
   "outputs": [],
   "execution_count": 2
  },
  {
   "cell_type": "code",
   "id": "f34860fcb6c98f6d",
   "metadata": {
    "ExecuteTime": {
     "end_time": "2024-08-03T01:48:32.700063Z",
     "start_time": "2024-08-03T01:48:29.910730Z"
    }
   },
   "source": [
    "sid=2\n",
    "info_dict=sub_sf_dict()\n",
    "sf=info_dict[str(sid)]\n",
    "\n",
    "tmin=0\n",
    "tmax=0.5\n",
    "epochs=get_epoch(sid, sf,scaler='no',trigger='EMG',tmin=tmin,tmax=tmax)\n",
    "#epoch1=epochs['1']# 20 trials. 8001 time points per trial for 8s.\n",
    "#epoch2=epochs['2']\n",
    "epoch3=epochs['3'] # simple grasp\n",
    "total_ch_number=len(epoch3.info.ch_names)\n",
    "#epoch4=epochs['4']"
   ],
   "outputs": [],
   "execution_count": 3
  },
  {
   "cell_type": "code",
   "id": "c5169ac20a30166",
   "metadata": {
    "ExecuteTime": {
     "end_time": "2024-08-03T01:48:41.852104Z",
     "start_time": "2024-08-03T01:48:41.294074Z"
    }
   },
   "source": [
    "# mark bad channels\n",
    "good_channel=good_channels['sid'+str(sid)] # start from 1 (Matlab)\n",
    "good_channel=[i-1 for i in good_channel]\n",
    "bad_channels_ind=[i for i in range(len(epoch3.ch_names)-7) if i not in good_channel]\n",
    "bad_channels=[epoch3.ch_names[c] for c in bad_channels_ind]\n",
    "epoch3.load_data()\n",
    "epoch3.drop_channels(bad_channels)\n"
   ],
   "outputs": [
    {
     "data": {
      "text/plain": [
       "<Epochs |  20 events (all good), 0 - 0.5 sec, baseline off, ~9.4 MB, data loaded,\n",
       " '3': 20>"
      ],
      "text/html": [
       "<table class=\"table table-hover table-striped table-sm table-responsive small\">\n",
       "    <tr>\n",
       "        <th>Number of events</th>\n",
       "        <td>20</td>\n",
       "    </tr>\n",
       "    <tr>\n",
       "        <th>Events</th>\n",
       "        \n",
       "        <td>3: 20</td>\n",
       "        \n",
       "    </tr>\n",
       "    <tr>\n",
       "        <th>Time range</th>\n",
       "        <td>0.000 – 0.500 sec</td>\n",
       "    </tr>\n",
       "    <tr>\n",
       "        <th>Baseline</th>\n",
       "        <td>off</td>\n",
       "    </tr>\n",
       "</table>"
      ]
     },
     "execution_count": 4,
     "metadata": {},
     "output_type": "execute_result"
    }
   ],
   "execution_count": 4
  },
  {
   "cell_type": "markdown",
   "id": "9a1d6666d95aff64",
   "metadata": {},
   "source": [
    "### For sid2 with total 128 channels = 115good_channels (should be same length as new in below)\n",
    "### +6bad_channels +2*emg+emg_diff+emg_diff_env+env_smoth_deriv+trigger_index+trigger_index_emg"
   ]
  },
  {
   "cell_type": "code",
   "id": "ea12484ad3497b0a",
   "metadata": {},
   "source": [
    "# populate new channel name\n",
    "info_tmp=epoch3.info\n",
    "old=info_tmp.ch_names\n",
    "new=ele['sid'+str(sid)]['ana_label_id']\n",
    "mapping={old[i]:new[i] for i in range(len(new))}\n",
    "mne.rename_channels(info_tmp,mapping)\n",
    "epoch3.info=info_tmp\n",
    "\n",
    "assert len(good_channel)==len(new)\n",
    "assert total_ch_number==len(new)+len(bad_channels)+7"
   ],
   "outputs": [],
   "execution_count": null
  },
  {
   "cell_type": "code",
   "id": "f435cc78662a43cf",
   "metadata": {},
   "source": [
    "ch_names=epoch3.info.ch_names "
   ],
   "outputs": [],
   "execution_count": null
  },
  {
   "cell_type": "code",
   "id": "d33c5b160305a744",
   "metadata": {},
   "source": [
    "sorted_index=sorted(range(len(ch_names)),key=ch_names.__getitem__)\n",
    "ordered_ch_names=[ch_names[c] for c in sorted_index]"
   ],
   "outputs": [],
   "execution_count": null
  },
  {
   "cell_type": "code",
   "id": "11bbba3be8d61056",
   "metadata": {},
   "source": [
    "epoch3_ordered=epoch3.copy().reorder_channels(ordered_ch_names)"
   ],
   "outputs": [],
   "execution_count": null
  },
  {
   "cell_type": "code",
   "id": "12eaa7982ed2cdca",
   "metadata": {},
   "source": [
    "epoch3_ordered.plot()"
   ],
   "outputs": [],
   "execution_count": null
  },
  {
   "cell_type": "markdown",
   "id": "faaaebb1eb779e21",
   "metadata": {},
   "source": [
    "### re-ordered CC:"
   ]
  },
  {
   "cell_type": "code",
   "id": "3a67ce3b54389273",
   "metadata": {},
   "source": [
    "epoch=epoch3_ordered.copy().load_data().filter(l_freq=0.1,h_freq=3,picks=['eeg'])\n",
    "matrixes=[]\n",
    "data=epoch.get_data(picks=['eeg'])\n",
    "ch_number=data.shape[1]\n",
    "for trial in data: # trial: (115, 1000)\n",
    "    dataframe=pd.DataFrame(data=trial.transpose(),columns=[str(i) for i in range(ch_number)])\n",
    "    matrix = dataframe.corr(method='pearson')\n",
    "    matrixes.append(matrix)\n",
    "matrix_avg=np.average(np.asarray(matrixes),axis=0)"
   ],
   "outputs": [],
   "execution_count": null
  },
  {
   "cell_type": "code",
   "id": "ae35eb7cdaac1bae",
   "metadata": {},
   "source": [
    "%matplotlib inline\n",
    "#%matplotlib qt\n",
    "#%gui qt\n",
    "plt.imshow(matrix_avg, cmap='Blues')\n",
    "plt.colorbar()\n",
    "variables=ordered_ch_names[:-7] #ele['sid2']['ana_label_id']\n",
    "plt.xticks(range(len(matrix)), variables, rotation=90, ha='right')\n",
    "plt.yticks(range(len(matrix)), variables)\n",
    "plt.show()"
   ],
   "outputs": [],
   "execution_count": null
  },
  {
   "cell_type": "code",
   "id": "de6e5b814d1b9413",
   "metadata": {},
   "source": "",
   "outputs": [],
   "execution_count": null
  },
  {
   "cell_type": "markdown",
   "id": "716c26a017b1b587",
   "metadata": {},
   "source": [
    "### Wrap up above in a function, calculate_CC, and calculate the cross-subject CC between different subjects"
   ]
  },
  {
   "cell_type": "code",
   "id": "81b3992cbcde008f",
   "metadata": {
    "ExecuteTime": {
     "end_time": "2024-08-03T03:02:41.241459Z",
     "start_time": "2024-08-03T02:57:40.184109Z"
    }
   },
   "source": [
    "from gesture.group_analysis.util import calculate_CC\n",
    "\n",
    "sid1=2\n",
    "sid2=4\n",
    "sf1=1000\n",
    "sf2=1000\n",
    "\n",
    "matrixes,ordered_ch_names=calculate_CC(sid1, sf1, sid2, sf2, f1=0.1, f2=3,trigger='eeg',re_ordered=True)"
   ],
   "outputs": [
    {
     "name": "stdout",
     "output_type": "stream",
     "text": [
      "========================================\n",
      "2024-08-03 10:57:40 - Start Program\n",
      "========================================\n",
      "\n",
      "pre_all: Running from CMD.\n"
     ]
    }
   ],
   "execution_count": 1
  },
  {
   "cell_type": "code",
   "id": "9a56b0082be06f5c",
   "metadata": {
    "ExecuteTime": {
     "end_time": "2024-08-03T03:05:09.350941Z",
     "start_time": "2024-08-03T03:05:09.335668Z"
    }
   },
   "source": [
    "matrixes.shape"
   ],
   "outputs": [
    {
     "data": {
      "text/plain": [
       "(0,)"
      ]
     },
     "execution_count": 2,
     "metadata": {},
     "output_type": "execute_result"
    }
   ],
   "execution_count": 2
  },
  {
   "cell_type": "code",
   "id": "e863b7f4f1b68b48",
   "metadata": {},
   "source": [
    "%matplotlib inline\n",
    "#%matplotlib qt\n",
    "fig,ax=plt.subplots()\n",
    "cc_avg=np.average(matrixes,axis=0)\n",
    "im=ax.imshow(cc_avg)\n",
    "fig.colorbar(im)\n",
    "plt.yticks(range(len(ordered_ch_names[0])), ordered_ch_names[0], rotation=0, ha='right')\n",
    "plt.xticks(range(len(ordered_ch_names[1])), ordered_ch_names[1],rotation=90)\n",
    "plt.show()"
   ],
   "outputs": [],
   "execution_count": null
  },
  {
   "metadata": {},
   "cell_type": "markdown",
   "source": [
    "![](img/6.png)\n",
    "\n",
    "CC could be 0.4 even if shift sid 2 and 4 at random period.\n",
    "\n",
    "Below is cc obtained by aligning using EEG trigger:  matrixes,ordered_ch_names=calculate_CC(sid1, sf1, sid2, sf2, f1=0.1, f2=3,trigger='eeg',re_ordered=True):\n",
    "\n",
    "![](img/7.png)"
   ],
   "id": "3c400aba532603db"
  },
  {
   "metadata": {},
   "cell_type": "markdown",
   "source": "is it possible? still need investigation.",
   "id": "33237e7cb2b4f5ef"
  },
  {
   "metadata": {},
   "cell_type": "code",
   "source": "",
   "id": "1eae00d992cf09cd",
   "outputs": [],
   "execution_count": null
  }
 ],
 "metadata": {
  "kernelspec": {
   "name": "bci",
   "language": "python",
   "display_name": "bci"
  },
  "language_info": {
   "codemirror_mode": {
    "name": "ipython",
    "version": 3
   },
   "file_extension": ".py",
   "mimetype": "text/x-python",
   "name": "python",
   "nbconvert_exporter": "python",
   "pygments_lexer": "ipython3",
   "version": "3.12.4"
  }
 },
 "nbformat": 4,
 "nbformat_minor": 5
}
