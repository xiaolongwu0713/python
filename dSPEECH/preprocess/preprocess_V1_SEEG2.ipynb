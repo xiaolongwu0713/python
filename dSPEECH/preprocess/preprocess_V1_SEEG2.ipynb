{
 "cells": [
  {
   "metadata": {},
   "cell_type": "markdown",
   "source": [
    "## This script is that same as the pre_process_V1.py for SEEG2. \n",
    "### 100 setences.\n"
   ],
   "id": "ae85711ba3e1ca21"
  },
  {
   "metadata": {
    "ExecuteTime": {
     "end_time": "2024-07-27T09:31:57.642001Z",
     "start_time": "2024-07-27T09:31:57.638239Z"
    }
   },
   "cell_type": "code",
   "source": [
    "import calendar\n",
    "import datetime\n",
    "import glob\n",
    "from utils.util_MNE import delete_annotation, keep_annotation\n",
    "from dSPEECH.config import *\n",
    "#plott=False"
   ],
   "id": "83be8a6b2a6dff12",
   "outputs": [],
   "execution_count": 2
  },
  {
   "metadata": {
    "ExecuteTime": {
     "end_time": "2024-07-27T09:32:20.790310Z",
     "start_time": "2024-07-27T09:32:02.006536Z"
    }
   },
   "cell_type": "code",
   "source": [
    "sf=1024\n",
    "type='SEEG' #'SEEG/ECoG\n",
    "sid=2 # SEEG 1/2\n",
    "eeg_file=data_dir+'raw/'+type+str(sid)+'_*/EEG.edf' # SEEG1_datetime\n",
    "eeg_file=os.path.normpath(glob.glob(eeg_file)[0])\n",
    "raw = mne.io.read_raw_edf(eeg_file,preload=True)"
   ],
   "id": "ba9408404ff3a1e2",
   "outputs": [],
   "execution_count": 3
  },
  {
   "metadata": {
    "ExecuteTime": {
     "end_time": "2024-07-12T01:32:09.927270Z",
     "start_time": "2024-07-12T01:32:02.672691Z"
    }
   },
   "cell_type": "code",
   "source": "raw.plot()",
   "id": "7afdcf4b0315f8d6",
   "outputs": [
    {
     "data": {
      "text/plain": [
       "<mne_qt_browser._pg_figure.MNEQtBrowser at 0x13fa8c9d0>"
      ]
     },
     "execution_count": 3,
     "metadata": {},
     "output_type": "execute_result"
    }
   ],
   "execution_count": 3
  },
  {
   "metadata": {},
   "cell_type": "markdown",
   "source": "![](img/img7.png)",
   "id": "5a0b4f2251c6a2a"
  },
  {
   "metadata": {
    "ExecuteTime": {
     "end_time": "2024-07-27T09:34:16.317680Z",
     "start_time": "2024-07-27T09:33:54.825142Z"
    }
   },
   "cell_type": "code",
   "source": [
    "# get the channel names from the recon.ppt file\n",
    "channel_names=['TP','Am','HA','HP','BT1','BT2','OF','FO','ST1','PO','ST2','ST3','SM','LHA']\n",
    "# set the channel types\n",
    "#raw.info.get_channel_types() # All chs are type of 'eeg'\n",
    "ch_types={}\n",
    "for chi in raw.ch_names:\n",
    "    if any([tmp in chi for tmp in channel_names]):\n",
    "        ch_types[chi]='eeg'\n",
    "    else:\n",
    "        ch_types[chi] = 'misc'\n",
    "raw.set_channel_types(ch_types)\n",
    "raw.pick(['eeg'])"
   ],
   "id": "1a9a6df90169c5e1",
   "outputs": [
    {
     "data": {
      "text/plain": [
       "<RawEDF | EEG.edf, 150 x 3270016 (3193.4 s), ~3.65 GB, data loaded>"
      ],
      "text/html": [
       "<table class=\"table table-hover table-striped table-sm table-responsive small\">\n",
       "    <tr>\n",
       "        <th>Measurement date</th>\n",
       "        \n",
       "        <td>December 01, 2023  14:12:11 GMT</td>\n",
       "        \n",
       "    </tr>\n",
       "    <tr>\n",
       "        <th>Experimenter</th>\n",
       "        \n",
       "        <td>Unknown</td>\n",
       "        \n",
       "    </tr>\n",
       "        <th>Participant</th>\n",
       "        \n",
       "        <td>Unknown</td>\n",
       "        \n",
       "    </tr>\n",
       "    <tr>\n",
       "        <th>Digitized points</th>\n",
       "        \n",
       "        <td>Not available</td>\n",
       "        \n",
       "    </tr>\n",
       "    <tr>\n",
       "        <th>Good channels</th>\n",
       "        <td>150 EEG</td>\n",
       "    </tr>\n",
       "    <tr>\n",
       "        <th>Bad channels</th>\n",
       "        <td>None</td>\n",
       "    </tr>\n",
       "    <tr>\n",
       "        <th>EOG channels</th>\n",
       "        <td>Not available</td>\n",
       "    </tr>\n",
       "    <tr>\n",
       "        <th>ECG channels</th>\n",
       "        <td>Not available</td>\n",
       "    \n",
       "    <tr>\n",
       "        <th>Sampling frequency</th>\n",
       "        <td>1024.00 Hz</td>\n",
       "    </tr>\n",
       "    \n",
       "    \n",
       "    <tr>\n",
       "        <th>Highpass</th>\n",
       "        <td>0.00 Hz</td>\n",
       "    </tr>\n",
       "    \n",
       "    \n",
       "    <tr>\n",
       "        <th>Lowpass</th>\n",
       "        <td>512.00 Hz</td>\n",
       "    </tr>\n",
       "    \n",
       "    \n",
       "    \n",
       "    <tr>\n",
       "        <th>Filenames</th>\n",
       "        <td>EEG.edf</td>\n",
       "    </tr>\n",
       "    \n",
       "    <tr>\n",
       "        <th>Duration</th>\n",
       "        <td>00:53:14 (HH:MM:SS)</td>\n",
       "    </tr>\n",
       "</table>"
      ]
     },
     "execution_count": 4,
     "metadata": {},
     "output_type": "execute_result"
    }
   ],
   "execution_count": 4
  },
  {
   "metadata": {
    "ExecuteTime": {
     "end_time": "2024-07-27T09:36:03.794361Z",
     "start_time": "2024-07-27T09:36:03.777595Z"
    }
   },
   "cell_type": "code",
   "source": "len(raw.ch_names)",
   "id": "e32695ebef87c7fd",
   "outputs": [
    {
     "data": {
      "text/plain": [
       "150"
      ]
     },
     "execution_count": 5,
     "metadata": {},
     "output_type": "execute_result"
    }
   ],
   "execution_count": 5
  },
  {
   "metadata": {},
   "cell_type": "code",
   "source": "raw.plot_psd(tmin=0, tmax=600,average=False) # the one that is above the others is ST3-5 (not the spikes)",
   "id": "7e2168f09bf4c4cb",
   "outputs": [],
   "execution_count": null
  },
  {
   "metadata": {},
   "cell_type": "markdown",
   "source": "![](img8.png)",
   "id": "73405542412cc97c"
  },
  {
   "metadata": {
    "ExecuteTime": {
     "end_time": "2024-07-27T09:37:15.411848Z",
     "start_time": "2024-07-27T09:36:55.807763Z"
    }
   },
   "cell_type": "code",
   "source": [
    "raw.info[\"bads\"].append(\"ST3-5\") #raw.info[\"bads\"].remove(\"PR\")\n",
    "raw.pick(picks='all',exclude='bads')"
   ],
   "id": "924d5cf48e015396",
   "outputs": [
    {
     "data": {
      "text/plain": [
       "<RawEDF | EEG.edf, 149 x 3270016 (3193.4 s), ~3.63 GB, data loaded>"
      ],
      "text/html": [
       "<table class=\"table table-hover table-striped table-sm table-responsive small\">\n",
       "    <tr>\n",
       "        <th>Measurement date</th>\n",
       "        \n",
       "        <td>December 01, 2023  14:12:11 GMT</td>\n",
       "        \n",
       "    </tr>\n",
       "    <tr>\n",
       "        <th>Experimenter</th>\n",
       "        \n",
       "        <td>Unknown</td>\n",
       "        \n",
       "    </tr>\n",
       "        <th>Participant</th>\n",
       "        \n",
       "        <td>Unknown</td>\n",
       "        \n",
       "    </tr>\n",
       "    <tr>\n",
       "        <th>Digitized points</th>\n",
       "        \n",
       "        <td>Not available</td>\n",
       "        \n",
       "    </tr>\n",
       "    <tr>\n",
       "        <th>Good channels</th>\n",
       "        <td>149 EEG</td>\n",
       "    </tr>\n",
       "    <tr>\n",
       "        <th>Bad channels</th>\n",
       "        <td>None</td>\n",
       "    </tr>\n",
       "    <tr>\n",
       "        <th>EOG channels</th>\n",
       "        <td>Not available</td>\n",
       "    </tr>\n",
       "    <tr>\n",
       "        <th>ECG channels</th>\n",
       "        <td>Not available</td>\n",
       "    \n",
       "    <tr>\n",
       "        <th>Sampling frequency</th>\n",
       "        <td>1024.00 Hz</td>\n",
       "    </tr>\n",
       "    \n",
       "    \n",
       "    <tr>\n",
       "        <th>Highpass</th>\n",
       "        <td>0.00 Hz</td>\n",
       "    </tr>\n",
       "    \n",
       "    \n",
       "    <tr>\n",
       "        <th>Lowpass</th>\n",
       "        <td>512.00 Hz</td>\n",
       "    </tr>\n",
       "    \n",
       "    \n",
       "    \n",
       "    <tr>\n",
       "        <th>Filenames</th>\n",
       "        <td>EEG.edf</td>\n",
       "    </tr>\n",
       "    \n",
       "    <tr>\n",
       "        <th>Duration</th>\n",
       "        <td>00:53:14 (HH:MM:SS)</td>\n",
       "    </tr>\n",
       "</table>"
      ]
     },
     "execution_count": 6,
     "metadata": {},
     "output_type": "execute_result"
    }
   ],
   "execution_count": 6
  },
  {
   "metadata": {
    "ExecuteTime": {
     "end_time": "2024-07-27T09:37:50.202868Z",
     "start_time": "2024-07-27T09:37:50.190531Z"
    }
   },
   "cell_type": "code",
   "source": "len(raw.ch_names)",
   "id": "9adaca5eb8300919",
   "outputs": [
    {
     "data": {
      "text/plain": [
       "149"
      ]
     },
     "execution_count": 7,
     "metadata": {},
     "output_type": "execute_result"
    }
   ],
   "execution_count": 7
  },
  {
   "metadata": {
    "ExecuteTime": {
     "end_time": "2024-07-27T09:39:46.212733Z",
     "start_time": "2024-07-27T09:38:53.849089Z"
    }
   },
   "cell_type": "code",
   "source": [
    "# line noise\n",
    "freqs = (50,100,150,200,250,300,350,400,450)\n",
    "raw.notch_filter(freqs=freqs)\n",
    "# possible low frequency drift\n",
    "cutoff=0.1\n",
    "raw.filter(l_freq=cutoff, h_freq=None)"
   ],
   "id": "844292e4877ad358",
   "outputs": [
    {
     "data": {
      "text/plain": [
       "<RawEDF | EEG.edf, 149 x 3270016 (3193.4 s), ~3.63 GB, data loaded>"
      ],
      "text/html": [
       "<table class=\"table table-hover table-striped table-sm table-responsive small\">\n",
       "    <tr>\n",
       "        <th>Measurement date</th>\n",
       "        \n",
       "        <td>December 01, 2023  14:12:11 GMT</td>\n",
       "        \n",
       "    </tr>\n",
       "    <tr>\n",
       "        <th>Experimenter</th>\n",
       "        \n",
       "        <td>Unknown</td>\n",
       "        \n",
       "    </tr>\n",
       "        <th>Participant</th>\n",
       "        \n",
       "        <td>Unknown</td>\n",
       "        \n",
       "    </tr>\n",
       "    <tr>\n",
       "        <th>Digitized points</th>\n",
       "        \n",
       "        <td>Not available</td>\n",
       "        \n",
       "    </tr>\n",
       "    <tr>\n",
       "        <th>Good channels</th>\n",
       "        <td>149 EEG</td>\n",
       "    </tr>\n",
       "    <tr>\n",
       "        <th>Bad channels</th>\n",
       "        <td>None</td>\n",
       "    </tr>\n",
       "    <tr>\n",
       "        <th>EOG channels</th>\n",
       "        <td>Not available</td>\n",
       "    </tr>\n",
       "    <tr>\n",
       "        <th>ECG channels</th>\n",
       "        <td>Not available</td>\n",
       "    \n",
       "    <tr>\n",
       "        <th>Sampling frequency</th>\n",
       "        <td>1024.00 Hz</td>\n",
       "    </tr>\n",
       "    \n",
       "    \n",
       "    <tr>\n",
       "        <th>Highpass</th>\n",
       "        <td>0.10 Hz</td>\n",
       "    </tr>\n",
       "    \n",
       "    \n",
       "    <tr>\n",
       "        <th>Lowpass</th>\n",
       "        <td>512.00 Hz</td>\n",
       "    </tr>\n",
       "    \n",
       "    \n",
       "    \n",
       "    <tr>\n",
       "        <th>Filenames</th>\n",
       "        <td>EEG.edf</td>\n",
       "    </tr>\n",
       "    \n",
       "    <tr>\n",
       "        <th>Duration</th>\n",
       "        <td>00:53:14 (HH:MM:SS)</td>\n",
       "    </tr>\n",
       "</table>"
      ]
     },
     "execution_count": 8,
     "metadata": {},
     "output_type": "execute_result"
    }
   ],
   "execution_count": 8
  },
  {
   "metadata": {},
   "cell_type": "markdown",
   "source": "### Now look at the PSD profile to further check the bad channels.",
   "id": "1ddd5eb9d6e8c8ec"
  },
  {
   "metadata": {
    "ExecuteTime": {
     "end_time": "2024-07-27T09:45:36.196087Z",
     "start_time": "2024-07-27T09:45:31.163939Z"
    }
   },
   "cell_type": "code",
   "source": "raw.plot_psd(tmin=0, tmax=600, average=False, exclude=\"bads\") # Two more noisy channels, Am-6, Am-7, show strong artifacts around 50 and 150 Hz.",
   "id": "c9eb70145f2d9502",
   "outputs": [
    {
     "name": "stderr",
     "output_type": "stream",
     "text": [
      "/Users/xiaowu/opt/miniconda3/envs/bci/lib/python3.10/site-packages/mne/viz/utils.py:137: UserWarning: FigureCanvasAgg is non-interactive, and thus cannot be shown\n",
      "  (fig or plt).show(**kwargs)\n"
     ]
    },
    {
     "data": {
      "text/plain": [
       "<MNELineFigure size 1000x350 with 1 Axes>"
      ],
      "image/png": "[encoded data removed]"
     },
     "execution_count": 9,
     "metadata": {},
     "output_type": "execute_result"
    },
    {
     "data": {
      "text/plain": [
       "<MNELineFigure size 1000x350 with 1 Axes>"
      ],
      "image/png": "[encoded data removed]"
     },
     "metadata": {},
     "output_type": "display_data"
    }
   ],
   "execution_count": 9
  },
  {
   "metadata": {},
   "cell_type": "markdown",
   "source": "![](img/img9.png)",
   "id": "af2c9e8ad916593b"
  },
  {
   "metadata": {
    "ExecuteTime": {
     "end_time": "2024-07-27T09:46:20.519279Z",
     "start_time": "2024-07-27T09:46:15.102133Z"
    }
   },
   "cell_type": "code",
   "source": [
    "#raw.drop_channels(['Am-6','Am-7']) \n",
    "raw.info[\"bads\"].append(\"Am-6\") #raw.info[\"bads\"].remove(\"PR\")\n",
    "raw.info[\"bads\"].append(\"Am-7\")\n",
    "raw.pick(picks='all',exclude='bads')"
   ],
   "id": "c55c436716e8ee80",
   "outputs": [
    {
     "data": {
      "text/plain": [
       "<RawEDF | EEG.edf, 147 x 3270016 (3193.4 s), ~3.58 GB, data loaded>"
      ],
      "text/html": [
       "<table class=\"table table-hover table-striped table-sm table-responsive small\">\n",
       "    <tr>\n",
       "        <th>Measurement date</th>\n",
       "        \n",
       "        <td>December 01, 2023  14:12:11 GMT</td>\n",
       "        \n",
       "    </tr>\n",
       "    <tr>\n",
       "        <th>Experimenter</th>\n",
       "        \n",
       "        <td>Unknown</td>\n",
       "        \n",
       "    </tr>\n",
       "        <th>Participant</th>\n",
       "        \n",
       "        <td>Unknown</td>\n",
       "        \n",
       "    </tr>\n",
       "    <tr>\n",
       "        <th>Digitized points</th>\n",
       "        \n",
       "        <td>Not available</td>\n",
       "        \n",
       "    </tr>\n",
       "    <tr>\n",
       "        <th>Good channels</th>\n",
       "        <td>147 EEG</td>\n",
       "    </tr>\n",
       "    <tr>\n",
       "        <th>Bad channels</th>\n",
       "        <td>None</td>\n",
       "    </tr>\n",
       "    <tr>\n",
       "        <th>EOG channels</th>\n",
       "        <td>Not available</td>\n",
       "    </tr>\n",
       "    <tr>\n",
       "        <th>ECG channels</th>\n",
       "        <td>Not available</td>\n",
       "    \n",
       "    <tr>\n",
       "        <th>Sampling frequency</th>\n",
       "        <td>1024.00 Hz</td>\n",
       "    </tr>\n",
       "    \n",
       "    \n",
       "    <tr>\n",
       "        <th>Highpass</th>\n",
       "        <td>0.10 Hz</td>\n",
       "    </tr>\n",
       "    \n",
       "    \n",
       "    <tr>\n",
       "        <th>Lowpass</th>\n",
       "        <td>512.00 Hz</td>\n",
       "    </tr>\n",
       "    \n",
       "    \n",
       "    \n",
       "    <tr>\n",
       "        <th>Filenames</th>\n",
       "        <td>EEG.edf</td>\n",
       "    </tr>\n",
       "    \n",
       "    <tr>\n",
       "        <th>Duration</th>\n",
       "        <td>00:53:14 (HH:MM:SS)</td>\n",
       "    </tr>\n",
       "</table>"
      ]
     },
     "execution_count": 10,
     "metadata": {},
     "output_type": "execute_result"
    }
   ],
   "execution_count": 10
  },
  {
   "metadata": {},
   "cell_type": "markdown",
   "source": "### working with triggers",
   "id": "9755adf3c9edded7"
  },
  {
   "metadata": {
    "ExecuteTime": {
     "end_time": "2024-07-12T02:03:14.588812Z",
     "start_time": "2024-07-12T02:03:14.580367Z"
    }
   },
   "cell_type": "code",
   "source": [
    "plot_scale=100e-5\n",
    "plot_channels=5\n",
    "#raw.plot(duration=100,time_format='clock',n_channels=plot_channels, scalings=dict(eeg=50e-5))\n"
   ],
   "id": "73d0ad99cb4af292",
   "outputs": [],
   "execution_count": 7
  },
  {
   "metadata": {
    "ExecuteTime": {
     "end_time": "2024-07-27T09:46:39.982034Z",
     "start_time": "2024-07-27T09:46:39.976714Z"
    }
   },
   "cell_type": "code",
   "source": [
    "##  extract annotations='TRIG[001]:1'\n",
    "anno_natus=raw.annotations # annotations come from existing trigger info\n",
    "if type=='ECoG':\n",
    "    event_descripion='Patient Event'\n",
    "else:\n",
    "    event_descripion = 'TRIG[001]:1'"
   ],
   "id": "ed3cecf97541c008",
   "outputs": [],
   "execution_count": 11
  },
  {
   "metadata": {
    "ExecuteTime": {
     "end_time": "2024-07-27T09:46:42.045230Z",
     "start_time": "2024-07-27T09:46:42.037162Z"
    }
   },
   "cell_type": "code",
   "source": "anno_natus[1]",
   "id": "15d9e07f3fa18ebf",
   "outputs": [
    {
     "data": {
      "text/plain": [
       "OrderedDict([('onset', 20.941406),\n",
       "             ('duration', 0.0),\n",
       "             ('description', 'TRIG[001]:1'),\n",
       "             ('orig_time',\n",
       "              datetime.datetime(2023, 12, 1, 14, 12, 11, tzinfo=datetime.timezone.utc))])"
      ]
     },
     "execution_count": 12,
     "metadata": {},
     "output_type": "execute_result"
    }
   ],
   "execution_count": 12
  },
  {
   "metadata": {},
   "cell_type": "markdown",
   "source": "### some annotation is not task-related, such as those marked by the nurse.",
   "id": "5f1e3571e7eabec1"
  },
  {
   "metadata": {},
   "cell_type": "markdown",
   "source": "![](img/img2.png)",
   "id": "3abccd33d5d1e919"
  },
  {
   "metadata": {
    "ExecuteTime": {
     "end_time": "2024-07-27T09:47:02.081797Z",
     "start_time": "2024-07-27T09:47:01.991673Z"
    }
   },
   "cell_type": "code",
   "source": [
    "# keep only these trigger with description of 'TRIG[001]:1'.\n",
    "anno_natus=keep_annotation(anno_natus,event_descripion)\n",
    "raw.set_annotations(anno_natus)"
   ],
   "id": "c4b17a632c96ec53",
   "outputs": [
    {
     "data": {
      "text/plain": [
       "<RawEDF | EEG.edf, 147 x 3270016 (3193.4 s), ~3.58 GB, data loaded>"
      ],
      "text/html": [
       "<table class=\"table table-hover table-striped table-sm table-responsive small\">\n",
       "    <tr>\n",
       "        <th>Measurement date</th>\n",
       "        \n",
       "        <td>December 01, 2023  14:12:11 GMT</td>\n",
       "        \n",
       "    </tr>\n",
       "    <tr>\n",
       "        <th>Experimenter</th>\n",
       "        \n",
       "        <td>Unknown</td>\n",
       "        \n",
       "    </tr>\n",
       "        <th>Participant</th>\n",
       "        \n",
       "        <td>Unknown</td>\n",
       "        \n",
       "    </tr>\n",
       "    <tr>\n",
       "        <th>Digitized points</th>\n",
       "        \n",
       "        <td>Not available</td>\n",
       "        \n",
       "    </tr>\n",
       "    <tr>\n",
       "        <th>Good channels</th>\n",
       "        <td>147 EEG</td>\n",
       "    </tr>\n",
       "    <tr>\n",
       "        <th>Bad channels</th>\n",
       "        <td>None</td>\n",
       "    </tr>\n",
       "    <tr>\n",
       "        <th>EOG channels</th>\n",
       "        <td>Not available</td>\n",
       "    </tr>\n",
       "    <tr>\n",
       "        <th>ECG channels</th>\n",
       "        <td>Not available</td>\n",
       "    \n",
       "    <tr>\n",
       "        <th>Sampling frequency</th>\n",
       "        <td>1024.00 Hz</td>\n",
       "    </tr>\n",
       "    \n",
       "    \n",
       "    <tr>\n",
       "        <th>Highpass</th>\n",
       "        <td>0.10 Hz</td>\n",
       "    </tr>\n",
       "    \n",
       "    \n",
       "    <tr>\n",
       "        <th>Lowpass</th>\n",
       "        <td>512.00 Hz</td>\n",
       "    </tr>\n",
       "    \n",
       "    \n",
       "    \n",
       "    <tr>\n",
       "        <th>Filenames</th>\n",
       "        <td>EEG.edf</td>\n",
       "    </tr>\n",
       "    \n",
       "    <tr>\n",
       "        <th>Duration</th>\n",
       "        <td>00:53:14 (HH:MM:SS)</td>\n",
       "    </tr>\n",
       "</table>"
      ]
     },
     "execution_count": 13,
     "metadata": {},
     "output_type": "execute_result"
    }
   ],
   "execution_count": 13
  },
  {
   "metadata": {
    "ExecuteTime": {
     "end_time": "2024-07-12T02:03:53.091524Z",
     "start_time": "2024-07-12T02:03:48.795655Z"
    }
   },
   "cell_type": "code",
   "source": [
    "# plot it for visual checking: now triggers with other colors are removed\n",
    "raw.plot(duration=100,n_channels=plot_channels,scalings=dict(eeg=50e-5))"
   ],
   "id": "978e0d485119864f",
   "outputs": [
    {
     "data": {
      "text/plain": [
       "<mne_qt_browser._pg_figure.MNEQtBrowser at 0x13e8b0dc0>"
      ]
     },
     "execution_count": 11,
     "metadata": {},
     "output_type": "execute_result"
    }
   ],
   "execution_count": 11
  },
  {
   "metadata": {},
   "cell_type": "markdown",
   "source": "![](img/img11.png)",
   "id": "8a1c8417748bb20f"
  },
  {
   "metadata": {},
   "cell_type": "markdown",
   "source": [
    "### Read trigger info from matlab\n",
    "1, export prompts to inf.txt from matlab using export_logfile_to_text.m file;\n",
    "\n",
    "2, (Fixed in version 2) Manually add time stamp to 'Resumeing' event. The time of resuming is the same as that of next sentence;\n",
    "\n",
    "2.5, Save the file;\n",
    "\n",
    "3, Read inf.txt, and format it to lines in the form of \"time, sentence\";"
   ],
   "id": "7b5b1577d3b79272"
  },
  {
   "metadata": {
    "ExecuteTime": {
     "end_time": "2024-07-27T09:47:25.584611Z",
     "start_time": "2024-07-27T09:47:25.578613Z"
    }
   },
   "cell_type": "code",
   "source": [
    "filename=data_dir+'raw/'+type+str(sid)+'_*/matlab/inf.txt'\n",
    "filename=os.path.normpath(glob.glob(filename)[0])\n",
    "#filename=r'D:\\data\\speech_Southmead\\raw\\SEEG1\\matlab\\inf.txt'\n",
    "with open(filename,\"r\") as infile:\n",
    "    lines_tmp=infile.read().split('\\n')\n",
    "prompts_tmp=[tmpi for tmpi in lines_tmp if len(tmpi)>0]"
   ],
   "id": "7f0d082c73c5a57e",
   "outputs": [],
   "execution_count": 14
  },
  {
   "metadata": {
    "ExecuteTime": {
     "end_time": "2024-07-27T09:47:26.997687Z",
     "start_time": "2024-07-27T09:47:26.990025Z"
    }
   },
   "cell_type": "code",
   "source": "prompts_tmp",
   "id": "eba7f43e0e21db21",
   "outputs": [
    {
     "data": {
      "text/plain": [
       "['01-Dec-2023 14:18:57',\n",
       " 'A cheap tattoo can be obscene.',\n",
       " '01-Dec-2023 14:19:12',\n",
       " 'The sea is teal, not blue or green.',\n",
       " '01-Dec-2023 14:19:27',\n",
       " 'The waxing moon will beam in June.',\n",
       " '01-Dec-2023 14:19:42',\n",
       " 'At noon when we will do Tai Chi.',\n",
       " '01-Dec-2023 14:19:57',\n",
       " 'A group of geese attacked the brat.',\n",
       " '01-Dec-2023 14:20:12',\n",
       " 'The actor sued the camera crew.',\n",
       " '01-Dec-2023 14:20:27',\n",
       " 'The hooves on moose are flat and black.',\n",
       " '01-Dec-2023 14:20:43',\n",
       " 'A tea is brewed with leaves or bags.',\n",
       " '01-Dec-2023 14:20:58',\n",
       " 'A lack of shoes to pad my feet.',\n",
       " '01-Dec-2023 14:21:13',\n",
       " 'I plan my meetings back-to-back.',\n",
       " '01-Dec-2023 14:21:28',\n",
       " 'The steel tycoons will flash their cash.',\n",
       " '01-Dec-2023 14:21:43',\n",
       " 'We scan the beach for scraps of trash.',\n",
       " '01-Dec-2023 14:21:58',\n",
       " 'The bluebird preens its beak and back.',\n",
       " '01-Dec-2023 14:22:13',\n",
       " 'A sleuth will handle tampered clues.',\n",
       " '01-Dec-2023 14:22:28',\n",
       " 'To clean your teeth; remove the plaque.',\n",
       " '01-Dec-2023 14:22:43',\n",
       " 'The poodle sat and wagged for food.',\n",
       " '01-Dec-2023 14:22:59',\n",
       " 'A jab is due with seasonal flu.',\n",
       " '01-Dec-2023 14:23:14',\n",
       " 'We need to leave to catch the tram.',\n",
       " '01-Dec-2023 14:23:29',\n",
       " 'Amused to view TV cartoons.',\n",
       " '01-Dec-2023 14:23:44',\n",
       " 'A snooze or back to sleep and dream.',\n",
       " '01-Dec-2023 14:23:59',\n",
       " 'I swam the channel to see Toulouse.',\n",
       " '01-Dec-2023 14:24:14',\n",
       " 'The theme was deemed to be taboo.',\n",
       " '01-Dec-2023 14:24:26',\n",
       " 'Pausing',\n",
       " '01-Dec-2023 14:28:29',\n",
       " 'Resuming',\n",
       " '01-Dec-2023 14:28:29',\n",
       " 'The theme was deemed to be taboo.',\n",
       " '01-Dec-2023 14:28:44',\n",
       " 'Improve the mood with background jazz.',\n",
       " '01-Dec-2023 14:29:00',\n",
       " 'You snooze, you lose, and that is that.',\n",
       " '01-Dec-2023 14:29:15',\n",
       " 'The zoo has sea lions, and big cats.',\n",
       " '01-Dec-2023 14:29:30',\n",
       " 'A massive pack to heave and move.',\n",
       " '01-Dec-2023 14:29:45',\n",
       " 'A panda eats bamboo and leaves.',\n",
       " '01-Dec-2023 14:30:00',\n",
       " 'The rats will flee in twos and threes.',\n",
       " '01-Dec-2023 14:30:16',\n",
       " 'A bad shampoo will ooze like glue.',\n",
       " '01-Dec-2023 14:30:31',\n",
       " \"And we will plan a coup d'etates.\",\n",
       " '01-Dec-2023 14:30:46',\n",
       " \"And choose to speak what's true to me.\",\n",
       " '01-Dec-2023 14:31:01',\n",
       " \"I mean, now that's a fancy cruise!\",\n",
       " '01-Dec-2023 14:31:16',\n",
       " 'She has the knack to read a room.',\n",
       " '01-Dec-2023 14:31:32',\n",
       " 'The statue had accrued some weeds.',\n",
       " '01-Dec-2023 14:31:47',\n",
       " 'And we will meet and chew the fat.',\n",
       " '01-Dec-2023 14:32:02',\n",
       " 'I see the dazzling ruby gleam.',\n",
       " '01-Dec-2023 14:32:17',\n",
       " 'In fields with dew some sheep will moo.',\n",
       " '01-Dec-2023 14:32:32',\n",
       " 'A bruised apple lacks appeal.',\n",
       " '01-Dec-2023 14:32:48',\n",
       " 'The alley cats will mew for treats.',\n",
       " '01-Dec-2023 14:33:03',\n",
       " 'And we conclude that he is rude.',\n",
       " '01-Dec-2023 14:33:18',\n",
       " 'The cannons boomed for battle in Greece.',\n",
       " '01-Dec-2023 14:33:33',\n",
       " 'Balloons that squeak and can go bang.',\n",
       " '01-Dec-2023 14:33:49',\n",
       " 'And he was rude and crude of speech.',\n",
       " '01-Dec-2023 14:34:04',\n",
       " 'A spoon for soup in fancy meals.',\n",
       " '01-Dec-2023 14:34:19',\n",
       " 'With two degrees of freedom, move.',\n",
       " '01-Dec-2023 14:34:34',\n",
       " 'He chewed into the gooey sweet.',\n",
       " '01-Dec-2023 14:34:50',\n",
       " 'I use a broom to sweep the street.',\n",
       " '01-Dec-2023 14:35:05',\n",
       " 'Monsoons will leave my boots wet through.',\n",
       " '01-Dec-2023 14:35:20',\n",
       " 'A groovy beat to move your feet.',\n",
       " '01-Dec-2023 14:35:21',\n",
       " 'Pausing',\n",
       " '01-Dec-2023 14:43:02',\n",
       " 'Resuming',\n",
       " '01-Dec-2023 14:43:02',\n",
       " 'A groovy beat to move your feet.',\n",
       " '01-Dec-2023 14:43:17',\n",
       " 'The flapping bats will eat the gnats.',\n",
       " '01-Dec-2023 14:43:33',\n",
       " 'I need to crack my creaky back.',\n",
       " '01-Dec-2023 14:43:48',\n",
       " 'An angry camel broods for weeks.',\n",
       " '01-Dec-2023 14:44:03',\n",
       " 'Outdrank the stag and groom-to-be.',\n",
       " '01-Dec-2023 14:44:19',\n",
       " 'But can you read the magic runes.',\n",
       " '01-Dec-2023 14:44:34',\n",
       " 'And prunes are sweet and easy snacks.',\n",
       " '01-Dec-2023 14:44:49',\n",
       " 'Antique and classic canvas stands.',\n",
       " '01-Dec-2023 14:45:04',\n",
       " 'Reveal the clue to prove to you.',\n",
       " '01-Dec-2023 14:45:20',\n",
       " \"I'm at the loom to weave a mat.\",\n",
       " '01-Dec-2023 14:45:35',\n",
       " 'The claggy sand at blue lagoons.',\n",
       " '01-Dec-2023 14:45:50',\n",
       " 'Pontoons are manned in crews of three.',\n",
       " '01-Dec-2023 14:46:06',\n",
       " 'Canoes at sea may crash with ease.',\n",
       " '01-Dec-2023 14:46:21',\n",
       " 'Romance and woo the match for you.',\n",
       " '01-Dec-2023 14:46:36',\n",
       " 'A flume can be a helix screw.',\n",
       " '01-Dec-2023 14:46:52',\n",
       " 'Baboons will grieve to lose a tree.',\n",
       " '01-Dec-2023 14:47:07',\n",
       " 'A tube of wax will grease the wheel.',\n",
       " '01-Dec-2023 14:47:22',\n",
       " 'You need to prove that fact to me.',\n",
       " '01-Dec-2023 14:47:38',\n",
       " 'The greedy cat was fat and slack.',\n",
       " '01-Dec-2023 14:47:53',\n",
       " 'The battle leaves debris in streets.',\n",
       " '01-Dec-2023 14:48:08',\n",
       " 'Typhoons may leave some trees intact.',\n",
       " '01-Dec-2023 14:48:24',\n",
       " 'The booze is brewed with rancid wheat.',\n",
       " '01-Dec-2023 14:48:39',\n",
       " 'The people sang of doom and gloom.',\n",
       " '01-Dec-2023 14:48:55',\n",
       " 'The flag is tatty and maroon.',\n",
       " '01-Dec-2023 14:49:10',\n",
       " 'Raccoons will act like canny thieves. ',\n",
       " '01-Dec-2023 14:49:25',\n",
       " 'A group of goons who crash and bash.',\n",
       " '01-Dec-2023 14:49:41',\n",
       " \"And he's a really sad buffoon.\",\n",
       " '01-Dec-2023 14:49:56',\n",
       " \"In Egypt's grand and sandy tombs.\",\n",
       " '01-Dec-2023 14:50:12',\n",
       " 'The new recruits of tank platoons.',\n",
       " '01-Dec-2023 14:50:27',\n",
       " 'The facts were addled by sleazy ads.',\n",
       " '01-Dec-2023 14:50:32',\n",
       " 'Pausing',\n",
       " '01-Dec-2023 14:58:26',\n",
       " 'Resuming',\n",
       " '01-Dec-2023 14:58:26',\n",
       " 'The facts were addled by sleazy ads.',\n",
       " '01-Dec-2023 14:58:41',\n",
       " 'CDs that loop reveal a scratch.',\n",
       " '01-Dec-2023 14:58:56',\n",
       " \"A sleeping bag's a blue cocoon.\",\n",
       " '01-Dec-2023 14:59:12',\n",
       " 'The plastic bags festoon the street.',\n",
       " '01-Dec-2023 14:59:27',\n",
       " 'A rat will eat a wheel of cheese.',\n",
       " '01-Dec-2023 14:59:43',\n",
       " 'A shrewd man foresees defeat.',\n",
       " '01-Dec-2023 14:59:58',\n",
       " 'The deal precludes a sneaky fee',\n",
       " '01-Dec-2023 15:00:13',\n",
       " 'When breezing through the creaky tree.',\n",
       " '01-Dec-2023 15:00:29',\n",
       " 'And she disproves of fashion brands .',\n",
       " '01-Dec-2023 15:00:44',\n",
       " 'At sea the galleys cram harpoons.',\n",
       " '01-Dec-2023 15:01:00',\n",
       " 'If you can catch an angry bee.',\n",
       " '01-Dec-2023 15:01:15',\n",
       " 'His soothing speech alludes to peace.',\n",
       " '01-Dec-2023 15:01:31',\n",
       " 'The trees occlude the Eastern view.',\n",
       " '01-Dec-2023 15:01:46',\n",
       " 'But can you see the tulips bloom.',\n",
       " '01-Dec-2023 15:02:02',\n",
       " 'Remove your boots; relax your feet.',\n",
       " '01-Dec-2023 15:02:17',\n",
       " 'And scheme with me to hatch a plan.',\n",
       " '01-Dec-2023 15:02:32',\n",
       " 'The added feature camera zoom. ',\n",
       " '01-Dec-2023 15:02:48',\n",
       " 'The plan of action she approved.',\n",
       " '01-Dec-2023 15:03:03',\n",
       " 'If she is Sue and he is Luke.',\n",
       " '01-Dec-2023 15:03:19',\n",
       " 'Saloons sell booze, and taverns, too.',\n",
       " '01-Dec-2023 15:03:34',\n",
       " 'Now Sam is seated; hands in lap.',\n",
       " '01-Dec-2023 15:03:50',\n",
       " 'We move in blue and baggy jeans.',\n",
       " '01-Dec-2023 15:04:05',\n",
       " 'A kangaroo has ragged knees.']"
      ]
     },
     "execution_count": 15,
     "metadata": {},
     "output_type": "execute_result"
    }
   ],
   "execution_count": 15
  },
  {
   "metadata": {
    "ExecuteTime": {
     "end_time": "2024-07-27T09:47:30.456740Z",
     "start_time": "2024-07-27T09:47:30.450857Z"
    }
   },
   "cell_type": "code",
   "source": [
    "# format to lines of the form \"time, sentence\";\n",
    "prompts=[] # 106\n",
    "for i in range(int(len(prompts_tmp)/2)):\n",
    "    tmp=[]\n",
    "    tmp.append(prompts_tmp[i*2])\n",
    "    tmp.append(prompts_tmp[i*2+1])\n",
    "    prompts.append(tmp)"
   ],
   "id": "b1762ca5aee17ab3",
   "outputs": [],
   "execution_count": 16
  },
  {
   "metadata": {
    "ExecuteTime": {
     "end_time": "2024-07-27T09:48:01.580038Z",
     "start_time": "2024-07-27T09:48:01.564849Z"
    }
   },
   "cell_type": "code",
   "source": [
    "## create matlab annotation from the prompts : append(onset, duration, description, ch_names=None)\n",
    "import datetime\n",
    "calendar_dict={month: index for index, month in enumerate(calendar.month_abbr) if month}\n",
    "orig_time=anno_natus[0]['orig_time']#datetime.datetime(2023, 11, 17, 9, 51, 34, tzinfo=datetime.timezone.utc)\n",
    "onsets=[]\n",
    "durations=[]\n",
    "descriptions=[]\n",
    "for prompt in prompts:\n",
    "    time=prompt[0]\n",
    "    year=int(time.split(' ')[0].split('-')[-1])\n",
    "    month_tmp = time.split(' ')[0].split('-')[1]\n",
    "    month=calendar_dict[month_tmp]\n",
    "    day = int(time.split(' ')[0].split('-')[0])\n",
    "    hour = int(time.split(' ')[1].split(':')[0])\n",
    "    min = int(time.split(' ')[1].split(':')[1])\n",
    "    sec = int(time.split(' ')[1].split(':')[2])\n",
    "    ts=datetime.datetime(year, month, day, hour, min, sec, tzinfo=datetime.timezone.utc)\n",
    "\n",
    "    onset=(ts-orig_time).total_seconds()\n",
    "    onsets.append(onset)\n",
    "    durations.append(0)\n",
    "    if prompt[1]=='Pausing':\n",
    "        descriptions.append('pause')\n",
    "    elif prompt[1]=='Resuming':\n",
    "        descriptions.append('resume')\n",
    "    elif prompt[1]=='Escape':\n",
    "        descriptions.append('escape')\n",
    "    else:\n",
    "        descriptions.append('TRIG-matlab')\n",
    "anno_matlab=mne.Annotations(onset=onsets,duration=durations,description=descriptions,orig_time=orig_time)# 106=102triggers+4pauses"
   ],
   "id": "e7c9dd53ab52fcb0",
   "outputs": [],
   "execution_count": 17
  },
  {
   "metadata": {
    "ExecuteTime": {
     "end_time": "2024-07-27T09:48:19.862777Z",
     "start_time": "2024-07-27T09:48:11.744264Z"
    }
   },
   "cell_type": "code",
   "source": [
    "## combine annotation from natus and matlab\n",
    "ann_comb=anno_natus.__add__(anno_matlab)\n",
    "raw1=raw.copy()\n",
    "raw1.set_annotations(ann_comb)"
   ],
   "id": "4f61036d229f1a70",
   "outputs": [
    {
     "data": {
      "text/plain": [
       "<RawEDF | EEG.edf, 147 x 3270016 (3193.4 s), ~3.58 GB, data loaded>"
      ],
      "text/html": [
       "<table class=\"table table-hover table-striped table-sm table-responsive small\">\n",
       "    <tr>\n",
       "        <th>Measurement date</th>\n",
       "        \n",
       "        <td>December 01, 2023  14:12:11 GMT</td>\n",
       "        \n",
       "    </tr>\n",
       "    <tr>\n",
       "        <th>Experimenter</th>\n",
       "        \n",
       "        <td>Unknown</td>\n",
       "        \n",
       "    </tr>\n",
       "        <th>Participant</th>\n",
       "        \n",
       "        <td>Unknown</td>\n",
       "        \n",
       "    </tr>\n",
       "    <tr>\n",
       "        <th>Digitized points</th>\n",
       "        \n",
       "        <td>Not available</td>\n",
       "        \n",
       "    </tr>\n",
       "    <tr>\n",
       "        <th>Good channels</th>\n",
       "        <td>147 EEG</td>\n",
       "    </tr>\n",
       "    <tr>\n",
       "        <th>Bad channels</th>\n",
       "        <td>None</td>\n",
       "    </tr>\n",
       "    <tr>\n",
       "        <th>EOG channels</th>\n",
       "        <td>Not available</td>\n",
       "    </tr>\n",
       "    <tr>\n",
       "        <th>ECG channels</th>\n",
       "        <td>Not available</td>\n",
       "    \n",
       "    <tr>\n",
       "        <th>Sampling frequency</th>\n",
       "        <td>1024.00 Hz</td>\n",
       "    </tr>\n",
       "    \n",
       "    \n",
       "    <tr>\n",
       "        <th>Highpass</th>\n",
       "        <td>0.10 Hz</td>\n",
       "    </tr>\n",
       "    \n",
       "    \n",
       "    <tr>\n",
       "        <th>Lowpass</th>\n",
       "        <td>512.00 Hz</td>\n",
       "    </tr>\n",
       "    \n",
       "    \n",
       "    \n",
       "    <tr>\n",
       "        <th>Filenames</th>\n",
       "        <td>EEG.edf</td>\n",
       "    </tr>\n",
       "    \n",
       "    <tr>\n",
       "        <th>Duration</th>\n",
       "        <td>00:53:14 (HH:MM:SS)</td>\n",
       "    </tr>\n",
       "</table>"
      ]
     },
     "execution_count": 18,
     "metadata": {},
     "output_type": "execute_result"
    }
   ],
   "execution_count": 18
  },
  {
   "metadata": {
    "ExecuteTime": {
     "end_time": "2024-07-11T13:32:40.060553Z",
     "start_time": "2024-07-11T13:32:35.712453Z"
    }
   },
   "cell_type": "code",
   "source": [
    "# check annotations of both natus and matlab\n",
    "raw1.plot(duration=100,n_channels=plot_channels,scalings=dict(eeg=50e-5))"
   ],
   "id": "408c330e8cbb459f",
   "outputs": [
    {
     "data": {
      "text/plain": [
       "<mne_qt_browser._pg_figure.MNEQtBrowser at 0x154981f30>"
      ]
     },
     "execution_count": 55,
     "metadata": {},
     "output_type": "execute_result"
    }
   ],
   "execution_count": 55
  },
  {
   "metadata": {},
   "cell_type": "markdown",
   "source": [
    "## visually compare triggers from Natus and matlab;\n",
    "\n",
    "### Add two annotations (program_start, program_end in annotation mode).\n",
    "\n",
    "Method 1: using GUI:\n",
    "\n",
    "1,Press 'a' enter annotation mode; \n",
    "\n",
    "2, type program_start, then hit enter; \n",
    "\n",
    "3, click and drag will create program_start point;\n",
    "\n",
    "4, type program_end, then hit enter; \n",
    "\n",
    "5, click and drag will create program_end point;)\n",
    "\n",
    "The raw1.annotation will reflect the modified annotation in real-time\n",
    "(no need to close the figure);"
   ],
   "id": "49e8fd2a0097cdac"
  },
  {
   "metadata": {
    "ExecuteTime": {
     "end_time": "2024-07-11T13:24:42.578578Z",
     "start_time": "2024-07-11T13:24:40.313039Z"
    }
   },
   "cell_type": "code",
   "source": "raw1.plot(duration=100,n_channels=plot_channels,scalings=dict(eeg=50e-5)) # put the program_start before the first TRIG[001]:1 (waiting for pressing space bar to start the paradigm), as indicated by the green line below.",
   "id": "802f0394c964d594",
   "outputs": [
    {
     "data": {
      "text/plain": [
       "<mne_qt_browser._pg_figure.MNEQtBrowser at 0x163918af0>"
      ]
     },
     "execution_count": 53,
     "metadata": {},
     "output_type": "execute_result"
    }
   ],
   "execution_count": 53
  },
  {
   "metadata": {},
   "cell_type": "markdown",
   "source": "![](img4.png)",
   "id": "6242d6bde386509d"
  },
  {
   "metadata": {},
   "cell_type": "markdown",
   "source": "### Or, add these two annotations by constructing the annotations objects using time and duration, like below:",
   "id": "30436a69c96c795e"
  },
  {
   "metadata": {
    "ExecuteTime": {
     "end_time": "2024-07-27T09:49:00.456075Z",
     "start_time": "2024-07-27T09:49:00.303906Z"
    }
   },
   "cell_type": "code",
   "source": [
    "onsets = [356, 3160]  # s\n",
    "durations = [5, 5]  # s\n",
    "descriptions = ['program_start', 'program_end']\n",
    "anno_start_end = mne.Annotations(onset=onsets, duration=durations, description=descriptions, orig_time=orig_time)\n",
    "ann_comb = ann_comb.__add__(anno_start_end)\n",
    "raw1.set_annotations(ann_comb)"
   ],
   "id": "d2abb9c4779b4419",
   "outputs": [
    {
     "data": {
      "text/plain": [
       "<RawEDF | EEG.edf, 147 x 3270016 (3193.4 s), ~3.58 GB, data loaded>"
      ],
      "text/html": [
       "<table class=\"table table-hover table-striped table-sm table-responsive small\">\n",
       "    <tr>\n",
       "        <th>Measurement date</th>\n",
       "        \n",
       "        <td>December 01, 2023  14:12:11 GMT</td>\n",
       "        \n",
       "    </tr>\n",
       "    <tr>\n",
       "        <th>Experimenter</th>\n",
       "        \n",
       "        <td>Unknown</td>\n",
       "        \n",
       "    </tr>\n",
       "        <th>Participant</th>\n",
       "        \n",
       "        <td>Unknown</td>\n",
       "        \n",
       "    </tr>\n",
       "    <tr>\n",
       "        <th>Digitized points</th>\n",
       "        \n",
       "        <td>Not available</td>\n",
       "        \n",
       "    </tr>\n",
       "    <tr>\n",
       "        <th>Good channels</th>\n",
       "        <td>147 EEG</td>\n",
       "    </tr>\n",
       "    <tr>\n",
       "        <th>Bad channels</th>\n",
       "        <td>None</td>\n",
       "    </tr>\n",
       "    <tr>\n",
       "        <th>EOG channels</th>\n",
       "        <td>Not available</td>\n",
       "    </tr>\n",
       "    <tr>\n",
       "        <th>ECG channels</th>\n",
       "        <td>Not available</td>\n",
       "    \n",
       "    <tr>\n",
       "        <th>Sampling frequency</th>\n",
       "        <td>1024.00 Hz</td>\n",
       "    </tr>\n",
       "    \n",
       "    \n",
       "    <tr>\n",
       "        <th>Highpass</th>\n",
       "        <td>0.10 Hz</td>\n",
       "    </tr>\n",
       "    \n",
       "    \n",
       "    <tr>\n",
       "        <th>Lowpass</th>\n",
       "        <td>512.00 Hz</td>\n",
       "    </tr>\n",
       "    \n",
       "    \n",
       "    \n",
       "    <tr>\n",
       "        <th>Filenames</th>\n",
       "        <td>EEG.edf</td>\n",
       "    </tr>\n",
       "    \n",
       "    <tr>\n",
       "        <th>Duration</th>\n",
       "        <td>00:53:14 (HH:MM:SS)</td>\n",
       "    </tr>\n",
       "</table>"
      ]
     },
     "execution_count": 19,
     "metadata": {},
     "output_type": "execute_result"
    }
   ],
   "execution_count": 19
  },
  {
   "metadata": {
    "ExecuteTime": {
     "end_time": "2024-07-27T09:49:20.177204Z",
     "start_time": "2024-07-27T09:49:20.155456Z"
    }
   },
   "cell_type": "code",
   "source": [
    "## extract the experimental data by only keeping program_start and program_end triggers;\n",
    "seg_anno=raw1.annotations.copy()\n",
    "seg_anno=keep_annotation(seg_anno, ['program_start','program_end'])\n",
    "# get start time from 'program_start' trigger\n",
    "tmin=seg_anno[0]['onset']-5 # extra 5 seconds\n",
    "tmax=seg_anno[1]['onset']+seg_anno[1]['duration']+5 # extra 5 seconds\n"
   ],
   "id": "b8a37e54e07a2819",
   "outputs": [],
   "execution_count": 20
  },
  {
   "metadata": {
    "ExecuteTime": {
     "end_time": "2024-07-27T09:49:22.874164Z",
     "start_time": "2024-07-27T09:49:22.863396Z"
    }
   },
   "cell_type": "code",
   "source": "tmax",
   "id": "5d3a254202936ae9",
   "outputs": [
    {
     "data": {
      "text/plain": [
       "3170.0"
      ]
     },
     "execution_count": 21,
     "metadata": {},
     "output_type": "execute_result"
    }
   ],
   "execution_count": 21
  },
  {
   "metadata": {
    "ExecuteTime": {
     "end_time": "2024-07-27T09:49:51.023223Z",
     "start_time": "2024-07-27T09:49:24.561911Z"
    }
   },
   "cell_type": "code",
   "source": "raw1.crop(tmin=tmin,tmax=tmax)",
   "id": "5187eee5748edc96",
   "outputs": [
    {
     "data": {
      "text/plain": [
       "<RawEDF | EEG.edf, 147 x 2886657 (2819.0 s), ~3.16 GB, data loaded>"
      ],
      "text/html": [
       "<table class=\"table table-hover table-striped table-sm table-responsive small\">\n",
       "    <tr>\n",
       "        <th>Measurement date</th>\n",
       "        \n",
       "        <td>December 01, 2023  14:12:11 GMT</td>\n",
       "        \n",
       "    </tr>\n",
       "    <tr>\n",
       "        <th>Experimenter</th>\n",
       "        \n",
       "        <td>Unknown</td>\n",
       "        \n",
       "    </tr>\n",
       "        <th>Participant</th>\n",
       "        \n",
       "        <td>Unknown</td>\n",
       "        \n",
       "    </tr>\n",
       "    <tr>\n",
       "        <th>Digitized points</th>\n",
       "        \n",
       "        <td>Not available</td>\n",
       "        \n",
       "    </tr>\n",
       "    <tr>\n",
       "        <th>Good channels</th>\n",
       "        <td>147 EEG</td>\n",
       "    </tr>\n",
       "    <tr>\n",
       "        <th>Bad channels</th>\n",
       "        <td>None</td>\n",
       "    </tr>\n",
       "    <tr>\n",
       "        <th>EOG channels</th>\n",
       "        <td>Not available</td>\n",
       "    </tr>\n",
       "    <tr>\n",
       "        <th>ECG channels</th>\n",
       "        <td>Not available</td>\n",
       "    \n",
       "    <tr>\n",
       "        <th>Sampling frequency</th>\n",
       "        <td>1024.00 Hz</td>\n",
       "    </tr>\n",
       "    \n",
       "    \n",
       "    <tr>\n",
       "        <th>Highpass</th>\n",
       "        <td>0.10 Hz</td>\n",
       "    </tr>\n",
       "    \n",
       "    \n",
       "    <tr>\n",
       "        <th>Lowpass</th>\n",
       "        <td>512.00 Hz</td>\n",
       "    </tr>\n",
       "    \n",
       "    \n",
       "    \n",
       "    <tr>\n",
       "        <th>Filenames</th>\n",
       "        <td>EEG.edf</td>\n",
       "    </tr>\n",
       "    \n",
       "    <tr>\n",
       "        <th>Duration</th>\n",
       "        <td>00:46:59 (HH:MM:SS)</td>\n",
       "    </tr>\n",
       "</table>"
      ]
     },
     "execution_count": 22,
     "metadata": {},
     "output_type": "execute_result"
    }
   ],
   "execution_count": 22
  },
  {
   "metadata": {
    "ExecuteTime": {
     "end_time": "2024-07-27T09:50:04.896363Z",
     "start_time": "2024-07-27T09:50:04.844918Z"
    }
   },
   "cell_type": "code",
   "source": [
    "## SEEG1,SEEG2: replace the first 'TRIG[001]:1' with 'keyboard_wait'\n",
    "# trigger sequence: 'program_start', 'TRIG[001]:1 (should be keyboard_wait)',.....,'program_end';\n",
    "anno_tmp=raw1.annotations.copy()\n",
    "replace_anno=mne.Annotations(onset=anno_tmp[1]['onset'],duration=anno_tmp[1]['duration'],description='keyboard_wait',orig_time=anno_tmp[1]['orig_time'])\n",
    "anno_tmp.delete(1) # the second trigger of ('program_start', 'TRIG[001]:1',.....,'program_end')\n",
    "ann_comb2=anno_tmp+replace_anno\n",
    "raw1.set_annotations(ann_comb2)"
   ],
   "id": "352308afa9eb2118",
   "outputs": [
    {
     "data": {
      "text/plain": [
       "<RawEDF | EEG.edf, 147 x 2886657 (2819.0 s), ~3.16 GB, data loaded>"
      ],
      "text/html": [
       "<table class=\"table table-hover table-striped table-sm table-responsive small\">\n",
       "    <tr>\n",
       "        <th>Measurement date</th>\n",
       "        \n",
       "        <td>December 01, 2023  14:12:11 GMT</td>\n",
       "        \n",
       "    </tr>\n",
       "    <tr>\n",
       "        <th>Experimenter</th>\n",
       "        \n",
       "        <td>Unknown</td>\n",
       "        \n",
       "    </tr>\n",
       "        <th>Participant</th>\n",
       "        \n",
       "        <td>Unknown</td>\n",
       "        \n",
       "    </tr>\n",
       "    <tr>\n",
       "        <th>Digitized points</th>\n",
       "        \n",
       "        <td>Not available</td>\n",
       "        \n",
       "    </tr>\n",
       "    <tr>\n",
       "        <th>Good channels</th>\n",
       "        <td>147 EEG</td>\n",
       "    </tr>\n",
       "    <tr>\n",
       "        <th>Bad channels</th>\n",
       "        <td>None</td>\n",
       "    </tr>\n",
       "    <tr>\n",
       "        <th>EOG channels</th>\n",
       "        <td>Not available</td>\n",
       "    </tr>\n",
       "    <tr>\n",
       "        <th>ECG channels</th>\n",
       "        <td>Not available</td>\n",
       "    \n",
       "    <tr>\n",
       "        <th>Sampling frequency</th>\n",
       "        <td>1024.00 Hz</td>\n",
       "    </tr>\n",
       "    \n",
       "    \n",
       "    <tr>\n",
       "        <th>Highpass</th>\n",
       "        <td>0.10 Hz</td>\n",
       "    </tr>\n",
       "    \n",
       "    \n",
       "    <tr>\n",
       "        <th>Lowpass</th>\n",
       "        <td>512.00 Hz</td>\n",
       "    </tr>\n",
       "    \n",
       "    \n",
       "    \n",
       "    <tr>\n",
       "        <th>Filenames</th>\n",
       "        <td>EEG.edf</td>\n",
       "    </tr>\n",
       "    \n",
       "    <tr>\n",
       "        <th>Duration</th>\n",
       "        <td>00:46:59 (HH:MM:SS)</td>\n",
       "    </tr>\n",
       "</table>"
      ]
     },
     "execution_count": 23,
     "metadata": {},
     "output_type": "execute_result"
    }
   ],
   "execution_count": 23
  },
  {
   "metadata": {
    "ExecuteTime": {
     "end_time": "2024-07-27T09:50:40.666192Z",
     "start_time": "2024-07-27T09:50:34.016996Z"
    }
   },
   "cell_type": "code",
   "source": [
    "# check again\n",
    "raw1.plot(duration=100,time_format='float',n_channels=10,scalings=dict(eeg=50e-5))"
   ],
   "id": "36ff41061b922eaa",
   "outputs": [
    {
     "data": {
      "text/plain": [
       "<mne_qt_browser._pg_figure.MNEQtBrowser at 0x12a2b9900>"
      ]
     },
     "execution_count": 25,
     "metadata": {},
     "output_type": "execute_result"
    }
   ],
   "execution_count": 25
  },
  {
   "metadata": {},
   "cell_type": "markdown",
   "source": "###  deal with the missing natus triggers, for example:",
   "id": "55c1063561ae1679"
  },
  {
   "metadata": {},
   "cell_type": "markdown",
   "source": "![](img/img5.png)",
   "id": "19e5724ba2de2ae5"
  },
  {
   "metadata": {
    "ExecuteTime": {
     "end_time": "2024-07-27T09:51:27.074569Z",
     "start_time": "2024-07-27T09:51:27.056407Z"
    }
   },
   "cell_type": "code",
   "source": [
    "n_natus=[tmp for tmp in raw1.annotations if tmp['description']=='TRIG[001]:1' ]\n",
    "n_matlab=[tmp for tmp in raw1.annotations if tmp['description']=='TRIG-matlab' ]\n",
    "diff=len(n_matlab)-len(n_natus) # 4 triggers missing in n_natus"
   ],
   "id": "397c2c33d40d3749",
   "outputs": [],
   "execution_count": 26
  },
  {
   "metadata": {
    "ExecuteTime": {
     "end_time": "2024-07-12T02:17:18.338959Z",
     "start_time": "2024-07-12T02:17:18.333698Z"
    }
   },
   "cell_type": "code",
   "source": [
    "# First, estimate the time difference between triggers\n",
    "raw1.annotations[4]['onset']-raw1.annotations[2]['onset'] # 15.11/15.099/15.08/15.11/15.08/15.08/15.08/15.08/15.10/"
   ],
   "id": "172284545b49b63a",
   "outputs": [
    {
     "data": {
      "text/plain": [
       "15.118163999999979"
      ]
     },
     "execution_count": 34,
     "metadata": {},
     "output_type": "execute_result"
    }
   ],
   "execution_count": 34
  },
  {
   "metadata": {
    "ExecuteTime": {
     "end_time": "2024-07-27T09:54:18.010541Z",
     "start_time": "2024-07-27T09:54:17.835074Z"
    }
   },
   "cell_type": "code",
   "source": "trigger_diff=15.09",
   "id": "a006ae558cd52543",
   "outputs": [],
   "execution_count": 29
  },
  {
   "metadata": {},
   "cell_type": "markdown",
   "source": "### indicate the time range of missing triggers",
   "id": "8fd5c309e88698b"
  },
  {
   "metadata": {
    "ExecuteTime": {
     "end_time": "2024-07-27T09:54:23.397406Z",
     "start_time": "2024-07-27T09:54:23.390077Z"
    }
   },
   "cell_type": "code",
   "source": [
    "missings=[[740,756],[860,877],[1598,1614],[2691,2708]] # SEEG2\n",
    "insert = []\n",
    "for m in missings:\n",
    "    for n in n_natus:\n",
    "        if m[0] + tmin < n['onset'] + 15 < m[1] + tmin:\n",
    "            insert.append(n['onset'] + trigger_diff)  # s"
   ],
   "id": "16daaa85d51a73f0",
   "outputs": [],
   "execution_count": 30
  },
  {
   "metadata": {
    "ExecuteTime": {
     "end_time": "2024-07-27T09:54:37.286770Z",
     "start_time": "2024-07-27T09:54:37.253938Z"
    }
   },
   "cell_type": "code",
   "source": [
    "onsets=[]\n",
    "durations=[]\n",
    "descriptions=[]\n",
    "for i in insert:\n",
    "    onsets.append(i)\n",
    "    durations.append(0)\n",
    "    descriptions.append('TRIG[001]:1:inserted')\n",
    "anno_missing=mne.Annotations(onset=onsets,duration=durations,description=descriptions,orig_time=orig_time)# 106=102triggers+4pauses\n",
    "ann_comb2_added=ann_comb2.__add__(anno_missing)\n",
    "raw1.set_annotations(ann_comb2_added)"
   ],
   "id": "21c32a1e869320c2",
   "outputs": [
    {
     "data": {
      "text/plain": [
       "<RawEDF | EEG.edf, 147 x 2886657 (2819.0 s), ~3.16 GB, data loaded>"
      ],
      "text/html": [
       "<table class=\"table table-hover table-striped table-sm table-responsive small\">\n",
       "    <tr>\n",
       "        <th>Measurement date</th>\n",
       "        \n",
       "        <td>December 01, 2023  14:12:11 GMT</td>\n",
       "        \n",
       "    </tr>\n",
       "    <tr>\n",
       "        <th>Experimenter</th>\n",
       "        \n",
       "        <td>Unknown</td>\n",
       "        \n",
       "    </tr>\n",
       "        <th>Participant</th>\n",
       "        \n",
       "        <td>Unknown</td>\n",
       "        \n",
       "    </tr>\n",
       "    <tr>\n",
       "        <th>Digitized points</th>\n",
       "        \n",
       "        <td>Not available</td>\n",
       "        \n",
       "    </tr>\n",
       "    <tr>\n",
       "        <th>Good channels</th>\n",
       "        <td>147 EEG</td>\n",
       "    </tr>\n",
       "    <tr>\n",
       "        <th>Bad channels</th>\n",
       "        <td>None</td>\n",
       "    </tr>\n",
       "    <tr>\n",
       "        <th>EOG channels</th>\n",
       "        <td>Not available</td>\n",
       "    </tr>\n",
       "    <tr>\n",
       "        <th>ECG channels</th>\n",
       "        <td>Not available</td>\n",
       "    \n",
       "    <tr>\n",
       "        <th>Sampling frequency</th>\n",
       "        <td>1024.00 Hz</td>\n",
       "    </tr>\n",
       "    \n",
       "    \n",
       "    <tr>\n",
       "        <th>Highpass</th>\n",
       "        <td>0.10 Hz</td>\n",
       "    </tr>\n",
       "    \n",
       "    \n",
       "    <tr>\n",
       "        <th>Lowpass</th>\n",
       "        <td>512.00 Hz</td>\n",
       "    </tr>\n",
       "    \n",
       "    \n",
       "    \n",
       "    <tr>\n",
       "        <th>Filenames</th>\n",
       "        <td>EEG.edf</td>\n",
       "    </tr>\n",
       "    \n",
       "    <tr>\n",
       "        <th>Duration</th>\n",
       "        <td>00:46:59 (HH:MM:SS)</td>\n",
       "    </tr>\n",
       "</table>"
      ]
     },
     "execution_count": 31,
     "metadata": {},
     "output_type": "execute_result"
    }
   ],
   "execution_count": 31
  },
  {
   "metadata": {
    "ExecuteTime": {
     "end_time": "2024-07-27T09:54:43.137961Z",
     "start_time": "2024-07-27T09:54:43.128701Z"
    }
   },
   "cell_type": "code",
   "source": "len(ann_comb2_added)",
   "id": "def0dc073de2596d",
   "outputs": [
    {
     "data": {
      "text/plain": [
       "215"
      ]
     },
     "execution_count": 32,
     "metadata": {},
     "output_type": "execute_result"
    }
   ],
   "execution_count": 32
  },
  {
   "metadata": {},
   "cell_type": "markdown",
   "source": "missing triggers were added, as in below two green lines: (blue ones: matlab triggers; orange ones: natus triggers; green： missing ones)",
   "id": "d8eaff72cc504fd8"
  },
  {
   "metadata": {},
   "cell_type": "markdown",
   "source": "![](img/img6.png)",
   "id": "d308d5ed8e9c3d13"
  },
  {
   "metadata": {},
   "cell_type": "markdown",
   "source": [
    "### In GUI, delete trials (incomplete trials) right before 'pause' in annotation mode: press 'a' and enter the annotation mode, check the TRIG-matlab annotation and select (click and drag a period) the annotation line, then right-click; do the same for 'TRIG[001]:1'/'TRIG[001]:1:inserted'\n",
    "\n",
    "4 annotations were deleted."
   ],
   "id": "56a61ff8154b5867"
  },
  {
   "metadata": {
    "ExecuteTime": {
     "end_time": "2024-07-27T09:55:38.268492Z",
     "start_time": "2024-07-27T09:55:36.173186Z"
    }
   },
   "cell_type": "code",
   "source": "raw1.plot(duration=100,time_format='float',n_channels=10,scalings=dict(eeg=50e-5)) # delete these annotations (3*2=6) in GUI",
   "id": "db505d08cf188cc8",
   "outputs": [
    {
     "data": {
      "text/plain": [
       "<mne_qt_browser._pg_figure.MNEQtBrowser at 0x14be86050>"
      ]
     },
     "execution_count": 34,
     "metadata": {},
     "output_type": "execute_result"
    }
   ],
   "execution_count": 34
  },
  {
   "metadata": {
    "ExecuteTime": {
     "end_time": "2024-07-27T09:58:25.739428Z",
     "start_time": "2024-07-27T09:58:25.736716Z"
    }
   },
   "cell_type": "code",
   "source": "ann_comb2_added=raw1.annotations",
   "id": "7ab83f5fc0862bad",
   "outputs": [],
   "execution_count": 35
  },
  {
   "metadata": {
    "ExecuteTime": {
     "end_time": "2024-07-27T09:58:26.421314Z",
     "start_time": "2024-07-27T09:58:26.416209Z"
    }
   },
   "cell_type": "code",
   "source": "len(ann_comb2_added)",
   "id": "d0b84b3c6af1a6f1",
   "outputs": [
    {
     "data": {
      "text/plain": [
       "209"
      ]
     },
     "execution_count": 36,
     "metadata": {},
     "output_type": "execute_result"
    }
   ],
   "execution_count": 36
  },
  {
   "metadata": {
    "ExecuteTime": {
     "end_time": "2024-07-27T09:58:33.533799Z",
     "start_time": "2024-07-27T09:58:33.491831Z"
    }
   },
   "cell_type": "code",
   "source": [
    "## delete 'program_start'+'keyboard_wait'+'pause'(3)+'resume'(3)+'program_end'\n",
    "ann_comb2_added=delete_annotation(ann_comb2_added,['program_start','keyboard_wait','pause','resume','program_end'])\n",
    "raw1.set_annotations(ann_comb2_added)"
   ],
   "id": "dee99c8fcc4cdeb5",
   "outputs": [
    {
     "data": {
      "text/plain": [
       "<RawEDF | EEG.edf, 147 x 2886657 (2819.0 s), ~3.16 GB, data loaded>"
      ],
      "text/html": [
       "<table class=\"table table-hover table-striped table-sm table-responsive small\">\n",
       "    <tr>\n",
       "        <th>Measurement date</th>\n",
       "        \n",
       "        <td>December 01, 2023  14:12:11 GMT</td>\n",
       "        \n",
       "    </tr>\n",
       "    <tr>\n",
       "        <th>Experimenter</th>\n",
       "        \n",
       "        <td>Unknown</td>\n",
       "        \n",
       "    </tr>\n",
       "        <th>Participant</th>\n",
       "        \n",
       "        <td>Unknown</td>\n",
       "        \n",
       "    </tr>\n",
       "    <tr>\n",
       "        <th>Digitized points</th>\n",
       "        \n",
       "        <td>Not available</td>\n",
       "        \n",
       "    </tr>\n",
       "    <tr>\n",
       "        <th>Good channels</th>\n",
       "        <td>147 EEG</td>\n",
       "    </tr>\n",
       "    <tr>\n",
       "        <th>Bad channels</th>\n",
       "        <td>None</td>\n",
       "    </tr>\n",
       "    <tr>\n",
       "        <th>EOG channels</th>\n",
       "        <td>Not available</td>\n",
       "    </tr>\n",
       "    <tr>\n",
       "        <th>ECG channels</th>\n",
       "        <td>Not available</td>\n",
       "    \n",
       "    <tr>\n",
       "        <th>Sampling frequency</th>\n",
       "        <td>1024.00 Hz</td>\n",
       "    </tr>\n",
       "    \n",
       "    \n",
       "    <tr>\n",
       "        <th>Highpass</th>\n",
       "        <td>0.10 Hz</td>\n",
       "    </tr>\n",
       "    \n",
       "    \n",
       "    <tr>\n",
       "        <th>Lowpass</th>\n",
       "        <td>512.00 Hz</td>\n",
       "    </tr>\n",
       "    \n",
       "    \n",
       "    \n",
       "    <tr>\n",
       "        <th>Filenames</th>\n",
       "        <td>EEG.edf</td>\n",
       "    </tr>\n",
       "    \n",
       "    <tr>\n",
       "        <th>Duration</th>\n",
       "        <td>00:46:59 (HH:MM:SS)</td>\n",
       "    </tr>\n",
       "</table>"
      ]
     },
     "execution_count": 37,
     "metadata": {},
     "output_type": "execute_result"
    }
   ],
   "execution_count": 37
  },
  {
   "metadata": {
    "ExecuteTime": {
     "end_time": "2024-07-27T09:58:37.365720Z",
     "start_time": "2024-07-27T09:58:37.360298Z"
    }
   },
   "cell_type": "code",
   "source": "len(ann_comb2_added)",
   "id": "1fc637a2bcefd4b6",
   "outputs": [
    {
     "data": {
      "text/plain": [
       "200"
      ]
     },
     "execution_count": 38,
     "metadata": {},
     "output_type": "execute_result"
    }
   ],
   "execution_count": 38
  },
  {
   "metadata": {
    "ExecuteTime": {
     "end_time": "2024-07-27T09:58:45.510532Z",
     "start_time": "2024-07-27T09:58:45.475618Z"
    }
   },
   "cell_type": "code",
   "source": [
    "## delete 'TRIG-matlab', keep 'TRIG[001]:1'/'TRIG[001]:1:inserted' only\n",
    "ann_natus_added=delete_annotation(ann_comb2_added,'TRIG-matlab')\n",
    "raw1.set_annotations(ann_natus_added)"
   ],
   "id": "5d6f580fd3f3b79c",
   "outputs": [
    {
     "data": {
      "text/plain": [
       "<RawEDF | EEG.edf, 147 x 2886657 (2819.0 s), ~3.16 GB, data loaded>"
      ],
      "text/html": [
       "<table class=\"table table-hover table-striped table-sm table-responsive small\">\n",
       "    <tr>\n",
       "        <th>Measurement date</th>\n",
       "        \n",
       "        <td>December 01, 2023  14:12:11 GMT</td>\n",
       "        \n",
       "    </tr>\n",
       "    <tr>\n",
       "        <th>Experimenter</th>\n",
       "        \n",
       "        <td>Unknown</td>\n",
       "        \n",
       "    </tr>\n",
       "        <th>Participant</th>\n",
       "        \n",
       "        <td>Unknown</td>\n",
       "        \n",
       "    </tr>\n",
       "    <tr>\n",
       "        <th>Digitized points</th>\n",
       "        \n",
       "        <td>Not available</td>\n",
       "        \n",
       "    </tr>\n",
       "    <tr>\n",
       "        <th>Good channels</th>\n",
       "        <td>147 EEG</td>\n",
       "    </tr>\n",
       "    <tr>\n",
       "        <th>Bad channels</th>\n",
       "        <td>None</td>\n",
       "    </tr>\n",
       "    <tr>\n",
       "        <th>EOG channels</th>\n",
       "        <td>Not available</td>\n",
       "    </tr>\n",
       "    <tr>\n",
       "        <th>ECG channels</th>\n",
       "        <td>Not available</td>\n",
       "    \n",
       "    <tr>\n",
       "        <th>Sampling frequency</th>\n",
       "        <td>1024.00 Hz</td>\n",
       "    </tr>\n",
       "    \n",
       "    \n",
       "    <tr>\n",
       "        <th>Highpass</th>\n",
       "        <td>0.10 Hz</td>\n",
       "    </tr>\n",
       "    \n",
       "    \n",
       "    <tr>\n",
       "        <th>Lowpass</th>\n",
       "        <td>512.00 Hz</td>\n",
       "    </tr>\n",
       "    \n",
       "    \n",
       "    \n",
       "    <tr>\n",
       "        <th>Filenames</th>\n",
       "        <td>EEG.edf</td>\n",
       "    </tr>\n",
       "    \n",
       "    <tr>\n",
       "        <th>Duration</th>\n",
       "        <td>00:46:59 (HH:MM:SS)</td>\n",
       "    </tr>\n",
       "</table>"
      ]
     },
     "execution_count": 39,
     "metadata": {},
     "output_type": "execute_result"
    }
   ],
   "execution_count": 39
  },
  {
   "metadata": {
    "ExecuteTime": {
     "end_time": "2024-07-27T09:58:49.655935Z",
     "start_time": "2024-07-27T09:58:49.645561Z"
    }
   },
   "cell_type": "code",
   "source": "len(ann_comb2_added)",
   "id": "1002d5c8989b10bd",
   "outputs": [
    {
     "data": {
      "text/plain": [
       "100"
      ]
     },
     "execution_count": 40,
     "metadata": {},
     "output_type": "execute_result"
    }
   ],
   "execution_count": 40
  },
  {
   "metadata": {
    "ExecuteTime": {
     "end_time": "2024-07-27T09:59:01.965962Z",
     "start_time": "2024-07-27T09:59:01.946480Z"
    }
   },
   "cell_type": "code",
   "source": [
    "## epoch: 15 seconds after trigger\n",
    "all_events, all_event_id = mne.events_from_annotations(raw1)\n",
    "epochs = mne.Epochs(raw1, all_events, tmin=0, tmax=15,baseline=None)"
   ],
   "id": "a873ac4785c7de6b",
   "outputs": [],
   "execution_count": 41
  },
  {
   "metadata": {
    "ExecuteTime": {
     "end_time": "2024-07-27T09:59:03.952252Z",
     "start_time": "2024-07-27T09:59:03.947862Z"
    }
   },
   "cell_type": "code",
   "source": [
    "## sentence,delete 'Pausing' and 'Resuming'\n",
    "prompts2=[]\n",
    "for p in range(len(prompts)):\n",
    "    if prompts[p][1] not in ['Pausing','Resuming']:\n",
    "        if p<=len(prompts)-2 and prompts[p+1][1]!='Pausing': # A pause will repeat the previous unfinished sentence.\n",
    "            prompts2.append(prompts[p][1])\n",
    "        if p == len(prompts) - 1 and prompts[p][1]!='Pausing':\n",
    "            prompts2.append(prompts[p][1])"
   ],
   "id": "e4819d21c23ca5c8",
   "outputs": [],
   "execution_count": 42
  },
  {
   "metadata": {
    "ExecuteTime": {
     "end_time": "2024-07-27T09:59:05.981824Z",
     "start_time": "2024-07-27T09:59:05.974128Z"
    }
   },
   "cell_type": "code",
   "source": "len(epochs.events)==len(prompts2) # must be equal",
   "id": "9422137bd75a00a5",
   "outputs": [
    {
     "data": {
      "text/plain": [
       "True"
      ]
     },
     "execution_count": 43,
     "metadata": {},
     "output_type": "execute_result"
    }
   ],
   "execution_count": 43
  },
  {
   "metadata": {},
   "cell_type": "markdown",
   "source": "### save everything: epoch and sentences",
   "id": "5cbcd07c36f3e5c3"
  },
  {
   "metadata": {
    "ExecuteTime": {
     "end_time": "2024-07-27T10:04:59.487347Z",
     "start_time": "2024-07-27T10:04:24.499814Z"
    }
   },
   "cell_type": "code",
   "source": [
    "filename=data_dir+'processed/'+type+str(sid)+'/SEEG'+str(sid)+'-raw.fif'\n",
    "raw1.save(filename, overwrite=True)\n",
    "\n",
    "filename=data_dir+'processed/'+type+str(sid)+'/SEEG'+str(sid)+'-epo.fif'\n",
    "epochs.save(filename, overwrite=True)\n",
    "sentences=np.array(prompts2, dtype=object)\n",
    "filename2=data_dir+'processed/'+type+str(sid)+'/sentences.npy'\n",
    "np.save(filename2,sentences)\n",
    "#sentences2=np.load(filename2,allow_pickle=True)\n"
   ],
   "id": "a7df19fbed283664",
   "outputs": [],
   "execution_count": 46
  },
  {
   "metadata": {},
   "cell_type": "code",
   "outputs": [],
   "execution_count": null,
   "source": "",
   "id": "a733f8539e8eefac"
  }
 ],
 "metadata": {
  "kernelspec": {
   "display_name": "bci",
   "language": "python",
   "name": "bci"
  },
  "language_info": {
   "codemirror_mode": {
    "name": "ipython",
    "version": 2
   },
   "file_extension": ".py",
   "mimetype": "text/x-python",
   "name": "python",
   "nbconvert_exporter": "python",
   "pygments_lexer": "ipython2",
   "version": "2.7.6"
  }
 },
 "nbformat": 4,
 "nbformat_minor": 5
}
