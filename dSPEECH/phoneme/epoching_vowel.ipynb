{
 "cells": [
  {
   "metadata": {},
   "cell_type": "markdown",
   "source": [
    "### This script performs epoching of the raw eeg data based on three vowel phones |iy|/|uw|/|ae|\n",
    "The timing of these three vowels are determined by the corresponding syllables."
   ],
   "id": "764b9607815d1d6f"
  },
  {
   "metadata": {
    "ExecuteTime": {
     "end_time": "2024-08-19T06:32:23.806193Z",
     "start_time": "2024-08-19T06:32:19.715758Z"
    }
   },
   "cell_type": "code",
   "source": [
    "import os\n",
    "\n",
    "import numpy as np\n",
    "from scipy.io import wavfile\n",
    "from dSPEECH.config import *\n",
    "import json"
   ],
   "id": "98303eea80f6cd0f",
   "outputs": [
    {
     "name": "stdout",
     "output_type": "stream",
     "text": [
      "========================================\n",
      "2024-08-19 14:32:20 - Start Program\n",
      "========================================\n",
      "\n",
      "pre_all: Running from CMD.\n",
      "common_dl.py: Using CUDA.\n"
     ]
    }
   ],
   "execution_count": 1
  },
  {
   "metadata": {
    "ExecuteTime": {
     "end_time": "2024-08-19T06:32:26.360765Z",
     "start_time": "2024-08-19T06:32:26.353587Z"
    }
   },
   "cell_type": "code",
   "source": [
    "sid=2\n",
    "folder=meta_dir+'SEEG'+str(sid)+'/forced_alignment/' #alignment/'\n",
    "filename=folder+'/syllable_time.npy'\n",
    "result=np.load(filename, allow_pickle=True).item()"
   ],
   "id": "e3289a990d953c28",
   "outputs": [],
   "execution_count": 2
  },
  {
   "metadata": {
    "ExecuteTime": {
     "end_time": "2024-08-19T06:49:52.610650Z",
     "start_time": "2024-08-19T06:49:52.604577Z"
    }
   },
   "cell_type": "code",
   "source": [
    "on_beats=result['on_beats']\n",
    "off_beats=result['off_beats']\n",
    "on_beats2=result['on_beats2'] # 100\n",
    "off_beats2=result['off_beats2'] # 100\n",
    "on_beats_phones=result['on_beats_phones']\n",
    "off_beats_phones=result['off_beats_phones']"
   ],
   "id": "90f7d0ad37cf954d",
   "outputs": [],
   "execution_count": 28
  },
  {
   "metadata": {
    "ExecuteTime": {
     "end_time": "2024-08-19T06:53:46.969446Z",
     "start_time": "2024-08-19T06:53:46.960849Z"
    }
   },
   "cell_type": "code",
   "source": [
    "sentences=on_beats2+off_beats2 # 200=100+100\n",
    "iy=[]\n",
    "ae=[]\n",
    "uw=[]\n",
    "for i in range(100):\n",
    "    beats=off_beats2[i]+on_beats2[i]\n",
    "    iy_tmp=[]\n",
    "    ae_tmp=[]\n",
    "    uw_tmp=[]\n",
    "    for syllable in beats:\n",
    "        key=list(syllable.keys())[0]\n",
    "        if 'iy' in key:\n",
    "            iy_tmp.append(syllable)\n",
    "        elif 'ae' in key:\n",
    "            ae_tmp.append(syllable)\n",
    "        elif 'uw' in key:\n",
    "            uw_tmp.append(syllable)\n",
    "    iy.append(iy_tmp)\n",
    "    ae.append(ae_tmp)\n",
    "    uw.append(uw_tmp)"
   ],
   "id": "5f61abdfb5c0321a",
   "outputs": [],
   "execution_count": 39
  },
  {
   "metadata": {
    "ExecuteTime": {
     "end_time": "2024-08-19T06:47:59.327358Z",
     "start_time": "2024-08-19T06:47:52.355449Z"
    }
   },
   "cell_type": "code",
   "source": [
    "modality='SEEG'\n",
    "sid=2 # 1/2\n",
    "sf=1024\n",
    "## load epochs and sentences\n",
    "filename=data_dir+'processed/'+modality+str(sid)+'/'+modality+str(sid)+'-epo.fif'\n",
    "epochs=mne.read_epochs(filename)\n",
    "filename2=data_dir+'processed/'+modality+str(sid)+'/sentences.npy'\n",
    "sentences=np.load(filename2,allow_pickle=True)\n",
    "\n",
    "# two events: 1 stands for 'TRIG[001]:1' and 2 stands for 'TRIG[001]:1:inserted'\n",
    "epoch1=epochs['1'].get_data() # (99, 150, 15361)\n",
    "epoch2=epochs['2'].get_data() # (4, 150, 15361)\n",
    "epochs=np.concatenate((epoch1,epoch2),axis=0) # (100 trials, 150 channels, 15361 time)\n"
   ],
   "id": "5d773d6eb35db505",
   "outputs": [],
   "execution_count": 27
  },
  {
   "metadata": {
    "ExecuteTime": {
     "end_time": "2024-08-10T12:34:03.916562Z",
     "start_time": "2024-08-10T12:34:03.912665Z"
    }
   },
   "cell_type": "code",
   "source": "epochs=epochs[:,:,int(5*sf):int(10*sf)]",
   "id": "8159dee745c8f972",
   "outputs": [],
   "execution_count": 14
  },
  {
   "metadata": {
    "ExecuteTime": {
     "end_time": "2024-08-19T07:05:13.025285Z",
     "start_time": "2024-08-19T07:05:13.013109Z"
    }
   },
   "cell_type": "code",
   "source": [
    "epoch_iy=[]\n",
    "epoch_ae=[]\n",
    "epoch_uw=[]\n",
    "for i, (iy_sent,ae_sent,uw_sent) in enumerate(zip(iy,ae,uw)):\n",
    "    for syllable in iy_sent:\n",
    "        interv=list(syllable.values())[0]\n",
    "        start=int(sf*interv[0])\n",
    "        end=int(sf*interv[1])\n",
    "        epoch_iy.append(epochs[i,:,start:end])\n",
    "    for syllable in ae_sent:\n",
    "        interv=list(syllable.values())[0]\n",
    "        start=int(sf*interv[0])\n",
    "        end=int(sf*interv[1])\n",
    "        epoch_ae.append(epochs[i,:,start:end])\n",
    "    for syllable in uw_sent:\n",
    "        interv=list(syllable.values())[0]\n",
    "        start=int(sf*interv[0])\n",
    "        end=int(sf*interv[1])\n",
    "        epoch_uw.append(epochs[i,:,start:end])"
   ],
   "id": "c2bc9e30588d15ad",
   "outputs": [],
   "execution_count": 66
  },
  {
   "metadata": {
    "ExecuteTime": {
     "end_time": "2024-08-19T07:10:46.709261Z",
     "start_time": "2024-08-19T07:10:46.697602Z"
    }
   },
   "cell_type": "code",
   "source": [
    "epoch_iy=[tmp.transpose() for tmp in epoch_iy] # transpose(): when the leading dimmen is different, no problem. but if the tailing dimmen is different, then np.save failed.\n",
    "epoch_ae=[tmp.transpose() for tmp in epoch_ae]\n",
    "epoch_uw=[tmp.transpose() for tmp in epoch_uw]\n",
    "print('Len of iy: '+str(len(epoch_iy))+'; len of ae: '+str(len(epoch_ae))+'; len of uw: '+str(len(epoch_uw))+'.')"
   ],
   "id": "f49ad8802658d8bd",
   "outputs": [
    {
     "name": "stdout",
     "output_type": "stream",
     "text": [
      "Len of iy: 160; len of ae: 171; len of uw: 133.\n"
     ]
    }
   ],
   "execution_count": 71
  },
  {
   "metadata": {
    "ExecuteTime": {
     "end_time": "2024-08-19T07:10:50.324169Z",
     "start_time": "2024-08-19T07:10:49.722818Z"
    }
   },
   "cell_type": "code",
   "source": [
    "result={}\n",
    "result['epoch_iy']=np.array(epoch_iy,dtype=object)\n",
    "result['epoch_ae']=np.array(epoch_ae,dtype=object)\n",
    "result['epoch_uw']=np.array(epoch_uw,dtype=object)\n",
    "filename=data_dir+'processed/'+modality+str(sid)+'/CV/vowel_epoch.npy'\n",
    "np.save(filename, result)"
   ],
   "id": "9297bf2ffa598c24",
   "outputs": [],
   "execution_count": 72
  },
  {
   "metadata": {},
   "cell_type": "code",
   "outputs": [],
   "execution_count": null,
   "source": "",
   "id": "6f8d274f3f355fc4"
  }
 ],
 "metadata": {
  "kernelspec": {
   "display_name": "bci",
   "language": "python",
   "name": "bci"
  },
  "language_info": {
   "codemirror_mode": {
    "name": "ipython",
    "version": 2
   },
   "file_extension": ".py",
   "mimetype": "text/x-python",
   "name": "python",
   "nbconvert_exporter": "python",
   "pygments_lexer": "ipython2",
   "version": "2.7.6"
  }
 },
 "nbformat": 4,
 "nbformat_minor": 5
}
