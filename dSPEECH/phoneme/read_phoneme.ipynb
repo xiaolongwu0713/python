{
 "cells": [
  {
   "metadata": {},
   "cell_type": "markdown",
   "source": "## This script read alignment obtained by Gentle",
   "id": "78a6cf956eec7d7e"
  },
  {
   "metadata": {
    "ExecuteTime": {
     "end_time": "2024-07-13T08:42:59.351901Z",
     "start_time": "2024-07-13T08:42:53.756222Z"
    }
   },
   "cell_type": "code",
   "source": [
    "import os\n",
    "from scipy.io import wavfile\n",
    "from dSPEECH.config import *"
   ],
   "id": "64cfed15a6ba1083",
   "outputs": [
    {
     "name": "stdout",
     "output_type": "stream",
     "text": [
      "========================================\n",
      "2024-07-13 16:42:54 - Start Program\n",
      "========================================\n",
      "\n",
      "pre_all: Running from CMD.\n"
     ]
    }
   ],
   "execution_count": 2
  },
  {
   "metadata": {
    "ExecuteTime": {
     "end_time": "2024-07-13T08:57:00.326105Z",
     "start_time": "2024-07-13T08:57:00.321937Z"
    }
   },
   "cell_type": "code",
   "source": [
    "sid=2\n",
    "folder=data_dir+'processed/SEEG'+str(sid)+'/' #alignment/'\n"
   ],
   "id": "8bbde1d5deaf8c28",
   "outputs": [],
   "execution_count": 11
  },
  {
   "metadata": {
    "ExecuteTime": {
     "end_time": "2024-07-13T08:58:04.646622Z",
     "start_time": "2024-07-13T08:58:04.641169Z"
    }
   },
   "cell_type": "code",
   "source": [
    "clip=0\n",
    "json_file=folder+'alignment/'+str(clip)+'.json'\n",
    "sentences_file=folder+'sentences.npy'"
   ],
   "id": "2178884683a9499b",
   "outputs": [],
   "execution_count": 16
  },
  {
   "metadata": {
    "ExecuteTime": {
     "end_time": "2024-07-13T08:58:40.263033Z",
     "start_time": "2024-07-13T08:58:40.256613Z"
    }
   },
   "cell_type": "code",
   "source": [
    "import json\n",
    "with open(json_file) as f:\n",
    "    align_dict=json.load(f)\n",
    "\n",
    "sentences=np.load(sentences_file,allow_pickle=True)"
   ],
   "id": "e472ef70238f5037",
   "outputs": [],
   "execution_count": 19
  },
  {
   "metadata": {
    "ExecuteTime": {
     "end_time": "2024-07-13T08:58:44.915458Z",
     "start_time": "2024-07-13T08:58:44.903858Z"
    }
   },
   "cell_type": "code",
   "source": "align_dict['words']",
   "id": "9b50ec4388d36f3e",
   "outputs": [
    {
     "data": {
      "text/plain": [
       "[{'alignedWord': 'a',\n",
       "  'case': 'success',\n",
       "  'end': 0.91,\n",
       "  'endOffset': 1,\n",
       "  'phones': [{'duration': 0.11, 'phone': 'ah_S'}],\n",
       "  'start': 0.8,\n",
       "  'startOffset': 0,\n",
       "  'word': 'A'},\n",
       " {'alignedWord': 'cheap',\n",
       "  'case': 'success',\n",
       "  'end': 1.4300000000000002,\n",
       "  'endOffset': 7,\n",
       "  'phones': [{'duration': 0.2, 'phone': 'ch_B'},\n",
       "   {'duration': 0.13, 'phone': 'iy_I'},\n",
       "   {'duration': 0.19, 'phone': 'p_E'}],\n",
       "  'start': 0.91,\n",
       "  'startOffset': 2,\n",
       "  'word': 'cheap'},\n",
       " {'alignedWord': 'tattoo',\n",
       "  'case': 'success',\n",
       "  'end': 2.2199999999999998,\n",
       "  'endOffset': 14,\n",
       "  'phones': [{'duration': 0.13, 'phone': 't_B'},\n",
       "   {'duration': 0.1, 'phone': 'ae_I'},\n",
       "   {'duration': 0.16, 'phone': 't_I'},\n",
       "   {'duration': 0.32, 'phone': 'uw_E'}],\n",
       "  'start': 1.51,\n",
       "  'startOffset': 8,\n",
       "  'word': 'tattoo'},\n",
       " {'alignedWord': 'can',\n",
       "  'case': 'success',\n",
       "  'end': 2.69,\n",
       "  'endOffset': 18,\n",
       "  'phones': [{'duration': 0.1, 'phone': 'k_B'},\n",
       "   {'duration': 0.07, 'phone': 'ah_I'},\n",
       "   {'duration': 0.12, 'phone': 'n_E'}],\n",
       "  'start': 2.4,\n",
       "  'startOffset': 15,\n",
       "  'word': 'can'},\n",
       " {'alignedWord': 'be',\n",
       "  'case': 'success',\n",
       "  'end': 3.04,\n",
       "  'endOffset': 21,\n",
       "  'phones': [{'duration': 0.09, 'phone': 'b_B'},\n",
       "   {'duration': 0.24, 'phone': 'iy_E'}],\n",
       "  'start': 2.71,\n",
       "  'startOffset': 19,\n",
       "  'word': 'be'},\n",
       " {'alignedWord': 'obscene',\n",
       "  'case': 'success',\n",
       "  'end': 3.82,\n",
       "  'endOffset': 29,\n",
       "  'phones': [{'duration': 0.11, 'phone': 'ah_B'},\n",
       "   {'duration': 0.11, 'phone': 'b_I'},\n",
       "   {'duration': 0.14, 'phone': 's_I'},\n",
       "   {'duration': 0.01, 'phone': 'iy_I'},\n",
       "   {'duration': 0.01, 'phone': 'n_E'}],\n",
       "  'start': 3.44,\n",
       "  'startOffset': 22,\n",
       "  'word': 'obscene'}]"
      ]
     },
     "execution_count": 20,
     "metadata": {},
     "output_type": "execute_result"
    }
   ],
   "execution_count": 20
  },
  {
   "metadata": {
    "ExecuteTime": {
     "end_time": "2024-07-13T08:58:52.356611Z",
     "start_time": "2024-07-13T08:58:52.349906Z"
    }
   },
   "cell_type": "code",
   "source": "sentences",
   "id": "49e2a35e6cfd2618",
   "outputs": [
    {
     "data": {
      "text/plain": [
       "array(['A cheap tattoo can be obscene.',\n",
       "       'The sea is teal, not blue or green.',\n",
       "       'The waxing moon will beam in June.',\n",
       "       'At noon when we will do Tai Chi.',\n",
       "       'A group of geese attacked the brat.',\n",
       "       'The actor sued the camera crew.',\n",
       "       'The hooves on moose are flat and black.',\n",
       "       'A tea is brewed with leaves or bags.',\n",
       "       'A lack of shoes to pad my feet.',\n",
       "       'I plan my meetings back-to-back.',\n",
       "       'The steel tycoons will flash their cash.',\n",
       "       'We scan the beach for scraps of trash.',\n",
       "       'The bluebird preens its beak and back.',\n",
       "       'A sleuth will handle tampered clues.',\n",
       "       'To clean your teeth; remove the plaque.',\n",
       "       'The poodle sat and wagged for food.',\n",
       "       'A jab is due with seasonal flu.',\n",
       "       'We need to leave to catch the tram.',\n",
       "       'Amused to view TV cartoons.',\n",
       "       'A snooze or back to sleep and dream.',\n",
       "       'I swam the channel to see Toulouse.',\n",
       "       'The theme was deemed to be taboo.',\n",
       "       'Improve the mood with background jazz.',\n",
       "       'You snooze, you lose, and that is that.',\n",
       "       'The zoo has sea lions, and big cats.',\n",
       "       'A massive pack to heave and move.',\n",
       "       'A panda eats bamboo and leaves.',\n",
       "       'The rats will flee in twos and threes.',\n",
       "       'A bad shampoo will ooze like glue.',\n",
       "       \"And we will plan a coup d'etates.\",\n",
       "       \"And choose to speak what's true to me.\",\n",
       "       \"I mean, now that's a fancy cruise!\",\n",
       "       'She has the knack to read a room.',\n",
       "       'The statue had accrued some weeds.',\n",
       "       'And we will meet and chew the fat.',\n",
       "       'I see the dazzling ruby gleam.',\n",
       "       'In fields with dew some sheep will moo.',\n",
       "       'A bruised apple lacks appeal.',\n",
       "       'The alley cats will mew for treats.',\n",
       "       'And we conclude that he is rude.',\n",
       "       'The cannons boomed for battle in Greece.',\n",
       "       'Balloons that squeak and can go bang.',\n",
       "       'And he was rude and crude of speech.',\n",
       "       'A spoon for soup in fancy meals.',\n",
       "       'With two degrees of freedom, move.',\n",
       "       'He chewed into the gooey sweet.',\n",
       "       'I use a broom to sweep the street.',\n",
       "       'Monsoons will leave my boots wet through.',\n",
       "       'A groovy beat to move your feet.',\n",
       "       'The flapping bats will eat the gnats.',\n",
       "       'I need to crack my creaky back.',\n",
       "       'An angry camel broods for weeks.',\n",
       "       'Outdrank the stag and groom-to-be.',\n",
       "       'But can you read the magic runes.',\n",
       "       'And prunes are sweet and easy snacks.',\n",
       "       'Antique and classic canvas stands.',\n",
       "       'Reveal the clue to prove to you.',\n",
       "       \"I'm at the loom to weave a mat.\",\n",
       "       'The claggy sand at blue lagoons.',\n",
       "       'Pontoons are manned in crews of three.',\n",
       "       'Canoes at sea may crash with ease.',\n",
       "       'Romance and woo the match for you.',\n",
       "       'A flume can be a helix screw.',\n",
       "       'Baboons will grieve to lose a tree.',\n",
       "       'A tube of wax will grease the wheel.',\n",
       "       'You need to prove that fact to me.',\n",
       "       'The greedy cat was fat and slack.',\n",
       "       'The battle leaves debris in streets.',\n",
       "       'Typhoons may leave some trees intact.',\n",
       "       'The booze is brewed with rancid wheat.',\n",
       "       'The people sang of doom and gloom.',\n",
       "       'The flag is tatty and maroon.',\n",
       "       'Raccoons will act like canny thieves. ',\n",
       "       'A group of goons who crash and bash.',\n",
       "       \"And he's a really sad buffoon.\",\n",
       "       \"In Egypt's grand and sandy tombs.\",\n",
       "       'The new recruits of tank platoons.',\n",
       "       'The facts were addled by sleazy ads.',\n",
       "       'CDs that loop reveal a scratch.',\n",
       "       \"A sleeping bag's a blue cocoon.\",\n",
       "       'The plastic bags festoon the street.',\n",
       "       'A rat will eat a wheel of cheese.',\n",
       "       'A shrewd man foresees defeat.', 'The deal precludes a sneaky fee',\n",
       "       'When breezing through the creaky tree.',\n",
       "       'And she disproves of fashion brands .',\n",
       "       'At sea the galleys cram harpoons.',\n",
       "       'If you can catch an angry bee.',\n",
       "       'His soothing speech alludes to peace.',\n",
       "       'The trees occlude the Eastern view.',\n",
       "       'But can you see the tulips bloom.',\n",
       "       'Remove your boots; relax your feet.',\n",
       "       'And scheme with me to hatch a plan.',\n",
       "       'The added feature camera zoom. ',\n",
       "       'The plan of action she approved.',\n",
       "       'If she is Sue and he is Luke.',\n",
       "       'Saloons sell booze, and taverns, too.',\n",
       "       'Now Sam is seated; hands in lap.',\n",
       "       'We move in blue and baggy jeans.', 'A kangaroo has ragged knees.'],\n",
       "      dtype=object)"
      ]
     },
     "execution_count": 21,
     "metadata": {},
     "output_type": "execute_result"
    }
   ],
   "execution_count": 21
  },
  {
   "metadata": {
    "ExecuteTime": {
     "end_time": "2024-07-13T09:08:31.104637Z",
     "start_time": "2024-07-13T09:08:31.095188Z"
    }
   },
   "cell_type": "code",
   "source": "align_dict['words']",
   "id": "bae24dc51db882c2",
   "outputs": [
    {
     "data": {
      "text/plain": [
       "[{'alignedWord': 'a',\n",
       "  'case': 'success',\n",
       "  'end': 0.91,\n",
       "  'endOffset': 1,\n",
       "  'phones': [{'duration': 0.11, 'phone': 'ah_S'}],\n",
       "  'start': 0.8,\n",
       "  'startOffset': 0,\n",
       "  'word': 'A'},\n",
       " {'alignedWord': 'cheap',\n",
       "  'case': 'success',\n",
       "  'end': 1.4300000000000002,\n",
       "  'endOffset': 7,\n",
       "  'phones': [{'duration': 0.2, 'phone': 'ch_B'},\n",
       "   {'duration': 0.13, 'phone': 'iy_I'},\n",
       "   {'duration': 0.19, 'phone': 'p_E'}],\n",
       "  'start': 0.91,\n",
       "  'startOffset': 2,\n",
       "  'word': 'cheap'},\n",
       " {'alignedWord': 'tattoo',\n",
       "  'case': 'success',\n",
       "  'end': 2.2199999999999998,\n",
       "  'endOffset': 14,\n",
       "  'phones': [{'duration': 0.13, 'phone': 't_B'},\n",
       "   {'duration': 0.1, 'phone': 'ae_I'},\n",
       "   {'duration': 0.16, 'phone': 't_I'},\n",
       "   {'duration': 0.32, 'phone': 'uw_E'}],\n",
       "  'start': 1.51,\n",
       "  'startOffset': 8,\n",
       "  'word': 'tattoo'},\n",
       " {'alignedWord': 'can',\n",
       "  'case': 'success',\n",
       "  'end': 2.69,\n",
       "  'endOffset': 18,\n",
       "  'phones': [{'duration': 0.1, 'phone': 'k_B'},\n",
       "   {'duration': 0.07, 'phone': 'ah_I'},\n",
       "   {'duration': 0.12, 'phone': 'n_E'}],\n",
       "  'start': 2.4,\n",
       "  'startOffset': 15,\n",
       "  'word': 'can'},\n",
       " {'alignedWord': 'be',\n",
       "  'case': 'success',\n",
       "  'end': 3.04,\n",
       "  'endOffset': 21,\n",
       "  'phones': [{'duration': 0.09, 'phone': 'b_B'},\n",
       "   {'duration': 0.24, 'phone': 'iy_E'}],\n",
       "  'start': 2.71,\n",
       "  'startOffset': 19,\n",
       "  'word': 'be'},\n",
       " {'alignedWord': 'obscene',\n",
       "  'case': 'success',\n",
       "  'end': 3.82,\n",
       "  'endOffset': 29,\n",
       "  'phones': [{'duration': 0.11, 'phone': 'ah_B'},\n",
       "   {'duration': 0.11, 'phone': 'b_I'},\n",
       "   {'duration': 0.14, 'phone': 's_I'},\n",
       "   {'duration': 0.01, 'phone': 'iy_I'},\n",
       "   {'duration': 0.01, 'phone': 'n_E'}],\n",
       "  'start': 3.44,\n",
       "  'startOffset': 22,\n",
       "  'word': 'obscene'}]"
      ]
     },
     "execution_count": 34,
     "metadata": {},
     "output_type": "execute_result"
    }
   ],
   "execution_count": 34
  },
  {
   "metadata": {
    "ExecuteTime": {
     "end_time": "2024-07-13T09:03:22.228136Z",
     "start_time": "2024-07-13T09:03:22.221970Z"
    }
   },
   "cell_type": "code",
   "source": "sentences[0].count(' ')+1==len(align_dict['words']) # the aligned words should be the same as the original prompts",
   "id": "509620793094da12",
   "outputs": [
    {
     "data": {
      "text/plain": [
       "True"
      ]
     },
     "execution_count": 30,
     "metadata": {},
     "output_type": "execute_result"
    }
   ],
   "execution_count": 30
  },
  {
   "metadata": {
    "ExecuteTime": {
     "end_time": "2024-07-13T10:19:38.892736Z",
     "start_time": "2024-07-13T10:19:38.872385Z"
    }
   },
   "cell_type": "code",
   "source": [
    "# parse them in a loop\n",
    "phone_list_sentences=[]\n",
    "failed_sentences=folder+'alignment/failed_sentences.txt'\n",
    "sentences_file=folder+'sentences.npy'\n",
    "sentences=np.load(sentences_file,allow_pickle=True)\n",
    "for i in range(20): # 100 sentences\n",
    "    json_file=folder+'alignment/'+str(i)+'.json'\n",
    "    with open(json_file) as f:\n",
    "        align_sentence=json.load(f)\n",
    "    phone_list_sentence=[]\n",
    "    for word in align_sentence['words']:\n",
    "        if word['case']=='success':\n",
    "            phone_list_word=[]\n",
    "            start=word['start']\n",
    "            end=word['end']\n",
    "            for j, phone in enumerate(word['phones']):\n",
    "                tmp={}\n",
    "                tmp['sentence_index']=i\n",
    "                tmp['word']=word['word']\n",
    "                tmp['status']='success'\n",
    "                tmp['duration']=phone['duration']\n",
    "                tmp['phone']=phone['phone']\n",
    "                if j==0:\n",
    "                    tmp['start']=start\n",
    "                    start2=start+phone['duration']\n",
    "                else:\n",
    "                    tmp['start']=start2\n",
    "                    start2=start2+phone['duration']\n",
    "                phone_list_word.append(tmp)\n",
    "            phone_list_sentence.append(phone_list_word)\n",
    "        else:\n",
    "            with open(failed_sentences,'w') as f:\n",
    "                f.write(\"%s\\n\" %i)\n",
    "            tmp={}\n",
    "            tmp['sentence_index']=i\n",
    "            tmp['status']=word['case']\n",
    "            tmp['word']=word['word']\n",
    "            \n",
    "    phone_list_sentences.append(phone_list_sentence)"
   ],
   "id": "7fa8cb9cee5a1ad7",
   "outputs": [],
   "execution_count": 74
  },
  {
   "metadata": {
    "ExecuteTime": {
     "end_time": "2024-07-13T10:06:44.909865Z",
     "start_time": "2024-07-13T10:06:44.891552Z"
    }
   },
   "cell_type": "code",
   "source": "phone_list_sentences[0] # check the content",
   "id": "d8cc870e2162e696",
   "outputs": [
    {
     "data": {
      "text/plain": [
       "[[{'sentence_index': 19,\n",
       "   'word': 'A',\n",
       "   'status': 'success',\n",
       "   'duration': 0.11,\n",
       "   'phone': 'ah_S',\n",
       "   'start': 0.73}],\n",
       " [{'sentence_index': 19,\n",
       "   'word': 'snooze',\n",
       "   'status': 'success',\n",
       "   'duration': 0.2,\n",
       "   'phone': 's_B',\n",
       "   'start': 0.84},\n",
       "  {'sentence_index': 19,\n",
       "   'word': 'snooze',\n",
       "   'status': 'success',\n",
       "   'duration': 0.08,\n",
       "   'phone': 'n_I',\n",
       "   'start': 1.04},\n",
       "  {'sentence_index': 19,\n",
       "   'word': 'snooze',\n",
       "   'status': 'success',\n",
       "   'duration': 0.19,\n",
       "   'phone': 'uw_I',\n",
       "   'start': 1.12},\n",
       "  {'sentence_index': 19,\n",
       "   'word': 'snooze',\n",
       "   'status': 'success',\n",
       "   'duration': 0.16,\n",
       "   'phone': 'z_E',\n",
       "   'start': 1.31}],\n",
       " [{'sentence_index': 19,\n",
       "   'word': 'or',\n",
       "   'status': 'success',\n",
       "   'duration': 0.13,\n",
       "   'phone': 'ao_B',\n",
       "   'start': 1.62},\n",
       "  {'sentence_index': 19,\n",
       "   'word': 'or',\n",
       "   'status': 'success',\n",
       "   'duration': 0.09,\n",
       "   'phone': 'r_E',\n",
       "   'start': 1.75}],\n",
       " [{'sentence_index': 19,\n",
       "   'word': 'back',\n",
       "   'status': 'success',\n",
       "   'duration': 0.1,\n",
       "   'phone': 'b_B',\n",
       "   'start': 1.87},\n",
       "  {'sentence_index': 19,\n",
       "   'word': 'back',\n",
       "   'status': 'success',\n",
       "   'duration': 0.16,\n",
       "   'phone': 'ae_I',\n",
       "   'start': 1.9700000000000002},\n",
       "  {'sentence_index': 19,\n",
       "   'word': 'back',\n",
       "   'status': 'success',\n",
       "   'duration': 0.31,\n",
       "   'phone': 'k_E',\n",
       "   'start': 2.1300000000000003}],\n",
       " [{'sentence_index': 19,\n",
       "   'word': 'to',\n",
       "   'status': 'success',\n",
       "   'duration': 0.11,\n",
       "   'phone': 't_B',\n",
       "   'start': 2.59},\n",
       "  {'sentence_index': 19,\n",
       "   'word': 'to',\n",
       "   'status': 'success',\n",
       "   'duration': 0.11,\n",
       "   'phone': 'ih_E',\n",
       "   'start': 2.6999999999999997}],\n",
       " [{'sentence_index': 19,\n",
       "   'word': 'sleep',\n",
       "   'status': 'success',\n",
       "   'duration': 0.13,\n",
       "   'phone': 's_B',\n",
       "   'start': 2.81},\n",
       "  {'sentence_index': 19,\n",
       "   'word': 'sleep',\n",
       "   'status': 'success',\n",
       "   'duration': 0.1,\n",
       "   'phone': 'l_I',\n",
       "   'start': 2.94},\n",
       "  {'sentence_index': 19,\n",
       "   'word': 'sleep',\n",
       "   'status': 'success',\n",
       "   'duration': 0.12,\n",
       "   'phone': 'iy_I',\n",
       "   'start': 3.04},\n",
       "  {'sentence_index': 19,\n",
       "   'word': 'sleep',\n",
       "   'status': 'success',\n",
       "   'duration': 0.27,\n",
       "   'phone': 'p_E',\n",
       "   'start': 3.16}],\n",
       " [{'sentence_index': 19,\n",
       "   'word': 'and',\n",
       "   'status': 'success',\n",
       "   'duration': 0.06,\n",
       "   'phone': 'ae_B',\n",
       "   'start': 3.7},\n",
       "  {'sentence_index': 19,\n",
       "   'word': 'and',\n",
       "   'status': 'success',\n",
       "   'duration': 0.08,\n",
       "   'phone': 'n_I',\n",
       "   'start': 3.7600000000000002},\n",
       "  {'sentence_index': 19,\n",
       "   'word': 'and',\n",
       "   'status': 'success',\n",
       "   'duration': 0.08,\n",
       "   'phone': 'd_E',\n",
       "   'start': 3.8400000000000003}],\n",
       " [{'sentence_index': 19,\n",
       "   'word': 'dream',\n",
       "   'status': 'success',\n",
       "   'duration': 0.07,\n",
       "   'phone': 'd_B',\n",
       "   'start': 3.93},\n",
       "  {'sentence_index': 19,\n",
       "   'word': 'dream',\n",
       "   'status': 'success',\n",
       "   'duration': 0.08,\n",
       "   'phone': 'r_I',\n",
       "   'start': 4.0},\n",
       "  {'sentence_index': 19,\n",
       "   'word': 'dream',\n",
       "   'status': 'success',\n",
       "   'duration': 0.18,\n",
       "   'phone': 'iy_I',\n",
       "   'start': 4.08},\n",
       "  {'sentence_index': 19,\n",
       "   'word': 'dream',\n",
       "   'status': 'success',\n",
       "   'duration': 0.17,\n",
       "   'phone': 'm_E',\n",
       "   'start': 4.26}]]"
      ]
     },
     "execution_count": 73,
     "metadata": {},
     "output_type": "execute_result"
    }
   ],
   "execution_count": 73
  },
  {
   "metadata": {
    "ExecuteTime": {
     "end_time": "2024-07-13T10:02:06.261009Z",
     "start_time": "2024-07-13T10:02:06.253072Z"
    }
   },
   "cell_type": "code",
   "source": [
    "filename=folder+'alignment/phone_list_all_sentences.npy'\n",
    "np.save(filename, np.array(phone_list_sentences, dtype=object), allow_pickle=True)"
   ],
   "id": "c1587fec02bc8db7",
   "outputs": [],
   "execution_count": 68
  },
  {
   "metadata": {
    "ExecuteTime": {
     "end_time": "2024-07-13T10:02:27.558041Z",
     "start_time": "2024-07-13T10:02:27.551262Z"
    }
   },
   "cell_type": "code",
   "source": [
    "# load\n",
    "#filename=folder+'alignment/phone_list_all_sentences.npy'\n",
    "#a=np.load(filename,allow_pickle=True)"
   ],
   "id": "4925ebe2e01e13e9",
   "outputs": [],
   "execution_count": 69
  },
  {
   "metadata": {},
   "cell_type": "code",
   "outputs": [],
   "execution_count": null,
   "source": "",
   "id": "f8d5a8b1acf94611"
  }
 ],
 "metadata": {
  "kernelspec": {
   "display_name": "Python 3",
   "language": "python",
   "name": "python3"
  },
  "language_info": {
   "codemirror_mode": {
    "name": "ipython",
    "version": 2
   },
   "file_extension": ".py",
   "mimetype": "text/x-python",
   "name": "python",
   "nbconvert_exporter": "python",
   "pygments_lexer": "ipython2",
   "version": "2.7.6"
  }
 },
 "nbformat": 4,
 "nbformat_minor": 5
}
