{
 "cells": [
  {
   "metadata": {},
   "cell_type": "markdown",
   "source": [
    "## This script read alignment obtained by Gentle\n",
    "\n",
    "Issue: syllables in the paradigm (spreadsheet) are broken into phonemes by Gentle, how to program to combine them?"
   ],
   "id": "78a6cf956eec7d7e"
  },
  {
   "metadata": {
    "ExecuteTime": {
     "end_time": "2024-08-09T10:04:37.913088Z",
     "start_time": "2024-08-09T10:04:35.769501Z"
    }
   },
   "cell_type": "code",
   "source": [
    "import os\n",
    "from scipy.io import wavfile\n",
    "from dSPEECH.config import *\n",
    "import json"
   ],
   "id": "64cfed15a6ba1083",
   "outputs": [
    {
     "name": "stdout",
     "output_type": "stream",
     "text": [
      "========================================\n",
      "2024-08-09 18:04:35 - Start Program\n",
      "========================================\n",
      "\n",
      "pre_all: Running from CMD.\n",
      "common_dl.py: Using CUDA.\n"
     ]
    }
   ],
   "execution_count": 1
  },
  {
   "metadata": {
    "ExecuteTime": {
     "end_time": "2024-08-09T10:04:37.916693Z",
     "start_time": "2024-08-09T10:04:37.914105Z"
    }
   },
   "cell_type": "code",
   "source": [
    "sid=2\n",
    "folder=meta_dir+'SEEG'+str(sid)+'/forced_alignment/' #alignment/'"
   ],
   "id": "8bbde1d5deaf8c28",
   "outputs": [],
   "execution_count": 2
  },
  {
   "metadata": {},
   "cell_type": "markdown",
   "source": "### checking",
   "id": "ed2abf6d7f6eb5f5"
  },
  {
   "metadata": {
    "ExecuteTime": {
     "end_time": "2024-08-08T05:42:04.918901Z",
     "start_time": "2024-08-08T05:42:04.915343Z"
    }
   },
   "cell_type": "code",
   "source": [
    "clip=0\n",
    "json_file=folder+'/json/'+str(clip)+'.json'\n",
    "sentences_file=meta_dir+'sentences/sentences.npy'"
   ],
   "id": "2178884683a9499b",
   "outputs": [],
   "execution_count": 4
  },
  {
   "metadata": {
    "ExecuteTime": {
     "end_time": "2024-07-13T08:58:40.263033Z",
     "start_time": "2024-07-13T08:58:40.256613Z"
    }
   },
   "cell_type": "code",
   "source": [
    "with open(json_file) as f:\n",
    "    align_dict=json.load(f)\n",
    "sentences=np.load(sentences_file,allow_pickle=True)"
   ],
   "id": "e472ef70238f5037",
   "outputs": [],
   "execution_count": 19
  },
  {
   "metadata": {
    "ExecuteTime": {
     "end_time": "2024-07-13T09:03:22.228136Z",
     "start_time": "2024-07-13T09:03:22.221970Z"
    }
   },
   "cell_type": "code",
   "source": "sentences[0].count(' ')+1==len(align_dict['words']) # the aligned words should be the same as the original prompts",
   "id": "509620793094da12",
   "outputs": [
    {
     "data": {
      "text/plain": [
       "True"
      ]
     },
     "execution_count": 30,
     "metadata": {},
     "output_type": "execute_result"
    }
   ],
   "execution_count": 30
  },
  {
   "metadata": {},
   "cell_type": "markdown",
   "source": "### Method 1: extract detailed Gentle infor ",
   "id": "3f890531f5ba0162"
  },
  {
   "metadata": {
    "ExecuteTime": {
     "end_time": "2024-08-09T09:17:00.900760Z",
     "start_time": "2024-08-09T09:17:00.881845Z"
    }
   },
   "cell_type": "code",
   "source": [
    "# parse them in a loop\n",
    "phone_list_sentences=[]\n",
    "failed_sentences=folder+'failed_sentences.txt'\n",
    "if os.path.exists(failed_sentences):\n",
    "  os.remove(failed_sentences)\n",
    "sentences_file=meta_dir+'sentences/'+'sentences.npy'\n",
    "sentences=np.load(sentences_file,allow_pickle=True)\n",
    "for i in range(100): # 100 sentences\n",
    "    json_file=folder+'json/'+str(i)+'.json'\n",
    "    with open(json_file) as f:\n",
    "        align_sentence=json.load(f)\n",
    "    phone_list_sentence=[]\n",
    "    for word in align_sentence['words']:\n",
    "        if word['case']=='success':\n",
    "            phone_list_word=[]\n",
    "            start=word['start']\n",
    "            end=word['end']\n",
    "            for j, phone in enumerate(word['phones']):\n",
    "                tmp={}\n",
    "                tmp['sentence_index']=i\n",
    "                tmp['word']=word['word']\n",
    "                tmp['status']='success'\n",
    "                tmp['duration']=phone['duration']\n",
    "                tmp['phone']=phone['phone']\n",
    "                if j==0:\n",
    "                    tmp['start']=start\n",
    "                    start2=start+phone['duration']\n",
    "                else:\n",
    "                    tmp['start']=start2\n",
    "                    start2=start2+phone['duration']\n",
    "                phone_list_word.append(tmp)\n",
    "            phone_list_sentence.append(phone_list_word)\n",
    "        else:\n",
    "            with open(failed_sentences,'a') as f:\n",
    "                f.write(\"%s\\n\" %i)\n",
    "            tmp={}\n",
    "            tmp['sentence_index']=i\n",
    "            tmp['status']=word['case']\n",
    "            tmp['word']=word['word']\n",
    "            \n",
    "    phone_list_sentences.append(phone_list_sentence)"
   ],
   "id": "7fa8cb9cee5a1ad7",
   "outputs": [],
   "execution_count": 3
  },
  {
   "metadata": {
    "ExecuteTime": {
     "end_time": "2024-08-09T09:17:01.581051Z",
     "start_time": "2024-08-09T09:17:01.573840Z"
    }
   },
   "cell_type": "code",
   "source": "phone_list_sentences[0] # phone list in a sentence",
   "id": "d8cc870e2162e696",
   "outputs": [
    {
     "data": {
      "text/plain": [
       "[[{'sentence_index': 0,\n",
       "   'word': 'A',\n",
       "   'status': 'success',\n",
       "   'duration': 0.11,\n",
       "   'phone': 'ah_S',\n",
       "   'start': 0.8}],\n",
       " [{'sentence_index': 0,\n",
       "   'word': 'cheap',\n",
       "   'status': 'success',\n",
       "   'duration': 0.2,\n",
       "   'phone': 'ch_B',\n",
       "   'start': 0.91},\n",
       "  {'sentence_index': 0,\n",
       "   'word': 'cheap',\n",
       "   'status': 'success',\n",
       "   'duration': 0.13,\n",
       "   'phone': 'iy_I',\n",
       "   'start': 1.11},\n",
       "  {'sentence_index': 0,\n",
       "   'word': 'cheap',\n",
       "   'status': 'success',\n",
       "   'duration': 0.19,\n",
       "   'phone': 'p_E',\n",
       "   'start': 1.2400000000000002}],\n",
       " [{'sentence_index': 0,\n",
       "   'word': 'tattoo',\n",
       "   'status': 'success',\n",
       "   'duration': 0.13,\n",
       "   'phone': 't_B',\n",
       "   'start': 1.51},\n",
       "  {'sentence_index': 0,\n",
       "   'word': 'tattoo',\n",
       "   'status': 'success',\n",
       "   'duration': 0.1,\n",
       "   'phone': 'ae_I',\n",
       "   'start': 1.6400000000000001},\n",
       "  {'sentence_index': 0,\n",
       "   'word': 'tattoo',\n",
       "   'status': 'success',\n",
       "   'duration': 0.16,\n",
       "   'phone': 't_I',\n",
       "   'start': 1.7400000000000002},\n",
       "  {'sentence_index': 0,\n",
       "   'word': 'tattoo',\n",
       "   'status': 'success',\n",
       "   'duration': 0.32,\n",
       "   'phone': 'uw_E',\n",
       "   'start': 1.9000000000000001}],\n",
       " [{'sentence_index': 0,\n",
       "   'word': 'can',\n",
       "   'status': 'success',\n",
       "   'duration': 0.1,\n",
       "   'phone': 'k_B',\n",
       "   'start': 2.4},\n",
       "  {'sentence_index': 0,\n",
       "   'word': 'can',\n",
       "   'status': 'success',\n",
       "   'duration': 0.07,\n",
       "   'phone': 'ah_I',\n",
       "   'start': 2.5},\n",
       "  {'sentence_index': 0,\n",
       "   'word': 'can',\n",
       "   'status': 'success',\n",
       "   'duration': 0.12,\n",
       "   'phone': 'n_E',\n",
       "   'start': 2.57}],\n",
       " [{'sentence_index': 0,\n",
       "   'word': 'be',\n",
       "   'status': 'success',\n",
       "   'duration': 0.09,\n",
       "   'phone': 'b_B',\n",
       "   'start': 2.71},\n",
       "  {'sentence_index': 0,\n",
       "   'word': 'be',\n",
       "   'status': 'success',\n",
       "   'duration': 0.24,\n",
       "   'phone': 'iy_E',\n",
       "   'start': 2.8}],\n",
       " [{'sentence_index': 0,\n",
       "   'word': 'obscene',\n",
       "   'status': 'success',\n",
       "   'duration': 0.11,\n",
       "   'phone': 'ah_B',\n",
       "   'start': 3.44},\n",
       "  {'sentence_index': 0,\n",
       "   'word': 'obscene',\n",
       "   'status': 'success',\n",
       "   'duration': 0.11,\n",
       "   'phone': 'b_I',\n",
       "   'start': 3.55},\n",
       "  {'sentence_index': 0,\n",
       "   'word': 'obscene',\n",
       "   'status': 'success',\n",
       "   'duration': 0.14,\n",
       "   'phone': 's_I',\n",
       "   'start': 3.6599999999999997},\n",
       "  {'sentence_index': 0,\n",
       "   'word': 'obscene',\n",
       "   'status': 'success',\n",
       "   'duration': 0.01,\n",
       "   'phone': 'iy_I',\n",
       "   'start': 3.8},\n",
       "  {'sentence_index': 0,\n",
       "   'word': 'obscene',\n",
       "   'status': 'success',\n",
       "   'duration': 0.01,\n",
       "   'phone': 'n_E',\n",
       "   'start': 3.8099999999999996}]]"
      ]
     },
     "execution_count": 4,
     "metadata": {},
     "output_type": "execute_result"
    }
   ],
   "execution_count": 4
  },
  {
   "metadata": {
    "ExecuteTime": {
     "end_time": "2024-08-09T09:17:02.935451Z",
     "start_time": "2024-08-09T09:17:02.930583Z"
    }
   },
   "cell_type": "code",
   "source": [
    "filename=folder+'/phone_list_all_sentences.npy'\n",
    "np.save(filename, np.array(phone_list_sentences, dtype=object), allow_pickle=True)"
   ],
   "id": "c1587fec02bc8db7",
   "outputs": [],
   "execution_count": 5
  },
  {
   "metadata": {
    "ExecuteTime": {
     "end_time": "2024-08-09T09:11:35.696592Z",
     "start_time": "2024-08-09T09:11:35.694321Z"
    }
   },
   "cell_type": "code",
   "source": [
    "# load\n",
    "#filename=folder+'alignment/phone_list_all_sentences.npy'\n",
    "#a=np.load(filename,allow_pickle=True)"
   ],
   "id": "4925ebe2e01e13e9",
   "outputs": [],
   "execution_count": 6
  },
  {
   "metadata": {},
   "cell_type": "markdown",
   "source": "### Method 2: simplify the phone_list_all_sentences file",
   "id": "99cbdd2698d08fee"
  },
  {
   "metadata": {
    "ExecuteTime": {
     "end_time": "2024-08-09T10:04:42.751322Z",
     "start_time": "2024-08-09T10:04:42.730591Z"
    }
   },
   "cell_type": "code",
   "source": [
    "failed_sentences=folder+'failed_sentences.txt'\n",
    "if os.path.exists(failed_sentences):\n",
    "  os.remove(failed_sentences)\n",
    "phone_list_sentences=[]\n",
    "oovs=[]\n",
    "nfia=[]\n",
    "for i in range(100): # 100 sentences\n",
    "    json_file=folder+'json/'+str(i)+'.json'\n",
    "    with open(json_file) as f:\n",
    "        align_sentence=json.load(f)\n",
    "    phone_list_sentence=[]\n",
    "    for word in align_sentence['words']:\n",
    "        if word['case']=='success': # including those oov situations\n",
    "            phone_list_word=[]\n",
    "            start=word['start']\n",
    "            end=word['end']\n",
    "            for j, phone in enumerate(word['phones']):\n",
    "                tmp={}\n",
    "                key=phone['phone'][:-2] # get ride of last two, eg '_S','_B', '_E','_I'\n",
    "                #tmp['sentence_index']=i\n",
    "                #tmp['word']=word['word']\n",
    "                #tmp['status']='success'\n",
    "                #tmp['duration']=phone['duration']\n",
    "                #tmp['phone']=phone['phone']\n",
    "                if key=='oov':\n",
    "                    info=[start,0]\n",
    "                    oovs.append(i)\n",
    "                else:\n",
    "                    if j==0:\n",
    "                        start_p=start\n",
    "                        start2=start+phone['duration']\n",
    "                    else:\n",
    "                        start_p=start2\n",
    "                        start2=start2+phone['duration']\n",
    "                    \n",
    "                    info=[start_p,phone['duration']]\n",
    "                \n",
    "                tmp[key]=info\n",
    "                phone_list_sentence.append(tmp)\n",
    "\n",
    "        elif word['case']=='not-found-in-audio':\n",
    "            nfia.append(i)\n",
    "            try:\n",
    "                start=word['start'] # manually add start time to nfia if it is right after a regular syllable: this start time will be used to calculate duration of that syllable.\n",
    "            except:\n",
    "                start=0\n",
    "            for j, phone in enumerate(word['phones']):\n",
    "                tmp={}\n",
    "                info=[start,0]\n",
    "                key=phone['phone'][:-2]\n",
    "                tmp[key]=info\n",
    "                phone_list_sentence.append(tmp)\n",
    "        else:\n",
    "            with open(failed_sentences,'a') as f:\n",
    "                f.write(\"%s\\n\" %i)\n",
    "            tmp={}\n",
    "            tmp['sentence_index']=i\n",
    "            tmp['status']=word['case']\n",
    "            tmp['word']=word['word']\n",
    "            \n",
    "    phone_list_sentences.append(phone_list_sentence)\n",
    "\n",
    "print('There are '+str(len(oovs))+' oov syllables; '+str(len(nfia))+' not-found-in-audio words.')  # Surprise that There are 145 oovs."
   ],
   "id": "148ac5f5020e547d",
   "outputs": [
    {
     "name": "stdout",
     "output_type": "stream",
     "text": [
      "There are 145 oov syllables; 5 not-found-in-audio words.\n"
     ]
    }
   ],
   "execution_count": 3
  },
  {
   "metadata": {
    "ExecuteTime": {
     "end_time": "2024-08-09T10:04:51.367008Z",
     "start_time": "2024-08-09T10:04:51.359356Z"
    }
   },
   "cell_type": "code",
   "source": "phone_list_sentences[7] # one example oov (setence begining);",
   "id": "9881b26ecc334ed7",
   "outputs": [
    {
     "data": {
      "text/plain": [
       "[{'ah': [0.0, 0.01]},\n",
       " {'t': [1.05, 0.08]},\n",
       " {'iy': [1.1300000000000001, 0.36]},\n",
       " {'ih': [1.84, 0.11]},\n",
       " {'z': [1.9500000000000002, 0.09]},\n",
       " {'b': [2.11, 0.08]},\n",
       " {'r': [2.19, 0.09]},\n",
       " {'uw': [2.28, 0.2]},\n",
       " {'d': [2.48, 0.15]},\n",
       " {'w': [3.11, 0.01]},\n",
       " {'ih': [3.1199999999999997, 0.01]},\n",
       " {'th': [3.1299999999999994, 0.01]},\n",
       " {'l': [3.15, 0.09]},\n",
       " {'iy': [3.2399999999999998, 0.18]},\n",
       " {'v': [3.42, 0.08]},\n",
       " {'z': [3.5, 0.22]},\n",
       " {'ao': [4.24, 0.15]},\n",
       " {'r': [4.390000000000001, 0.1]},\n",
       " {'not-found-in-aud': [4.49, 0]},\n",
       " {'not-found-in-aud': [4.49, 0]},\n",
       " {'not-found-in-aud': [4.49, 0]},\n",
       " {'not-found-in-aud': [4.49, 0]}]"
      ]
     },
     "execution_count": 5,
     "metadata": {},
     "output_type": "execute_result"
    }
   ],
   "execution_count": 5
  },
  {
   "metadata": {
    "ExecuteTime": {
     "end_time": "2024-08-09T10:04:56.449048Z",
     "start_time": "2024-08-09T10:04:56.445926Z"
    }
   },
   "cell_type": "code",
   "source": "nfia # [7*3, 36*2, 61*8, 61, 61]=3+2+8=13 phones\n",
   "id": "df897ecc2c8eb1c",
   "outputs": [
    {
     "data": {
      "text/plain": [
       "[7, 36, 61, 61, 61]"
      ]
     },
     "execution_count": 6,
     "metadata": {},
     "output_type": "execute_result"
    }
   ],
   "execution_count": 6
  },
  {
   "metadata": {
    "ExecuteTime": {
     "end_time": "2024-08-09T10:06:46.717081Z",
     "start_time": "2024-08-09T10:06:46.713180Z"
    }
   },
   "cell_type": "code",
   "source": [
    "filename=folder+'/phone_list_all_sentences2.npy'\n",
    "np.save(filename, np.array(phone_list_sentences, dtype=object), allow_pickle=True)"
   ],
   "id": "3ea01a812aa1d3b0",
   "outputs": [],
   "execution_count": 15
  },
  {
   "metadata": {},
   "cell_type": "markdown",
   "source": "## add on/off beat marks",
   "id": "beb1185239722e04"
  },
  {
   "metadata": {
    "ExecuteTime": {
     "end_time": "2024-08-09T10:06:48.632506Z",
     "start_time": "2024-08-09T10:06:48.629516Z"
    }
   },
   "cell_type": "code",
   "source": [
    "import pandas\n",
    "import copy"
   ],
   "id": "98753a6d5dbc46e0",
   "outputs": [],
   "execution_count": 16
  },
  {
   "metadata": {
    "ExecuteTime": {
     "end_time": "2024-08-09T10:06:49.222973Z",
     "start_time": "2024-08-09T10:06:49.216442Z"
    }
   },
   "cell_type": "code",
   "source": [
    "sid=2\n",
    "folder=meta_dir+'SEEG'+str(sid)+'/forced_alignment/' #alignment/'\n",
    "filename=folder+'/phone_list_all_sentences2.npy'\n",
    "phone_list_gentle=np.load(filename,allow_pickle=True)"
   ],
   "id": "60db1527679b0b9f",
   "outputs": [],
   "execution_count": 17
  },
  {
   "metadata": {
    "ExecuteTime": {
     "end_time": "2024-08-09T10:06:51.389814Z",
     "start_time": "2024-08-09T10:06:51.369517Z"
    }
   },
   "cell_type": "code",
   "source": [
    "# read the excel file\n",
    "filename=meta_dir+'sentences/sentences_v3.xlsx'\n",
    "tmp=pandas.read_excel(filename)\n",
    "sentences_para=tmp.to_numpy()[0:-1,1:9]"
   ],
   "id": "256ccfcf4cec8407",
   "outputs": [],
   "execution_count": 18
  },
  {
   "metadata": {
    "ExecuteTime": {
     "end_time": "2024-08-09T10:06:52.495542Z",
     "start_time": "2024-08-09T10:06:52.491395Z"
    }
   },
   "cell_type": "code",
   "source": [
    "# find the nan entries\n",
    "nans=[i for i, sentence in enumerate(sentences_para) for syllable in sentence if isinstance(syllable,float) ]\n",
    "print(nans) # [37, 82]"
   ],
   "id": "12c508ec4e85a684",
   "outputs": [
    {
     "name": "stdout",
     "output_type": "stream",
     "text": [
      "[37, 82]\n"
     ]
    }
   ],
   "execution_count": 19
  },
  {
   "metadata": {
    "ExecuteTime": {
     "end_time": "2024-08-09T10:06:52.900315Z",
     "start_time": "2024-08-09T10:06:52.894647Z"
    }
   },
   "cell_type": "code",
   "source": [
    "counts=[len(syllable.split('|')[1:-1]) for sentence in sentences_para for syllable in sentence if not isinstance(syllable,float)]\n",
    "sum(counts) # 2181 phones"
   ],
   "id": "1c2845052722fdbe",
   "outputs": [
    {
     "data": {
      "text/plain": [
       "2181"
      ]
     },
     "execution_count": 20,
     "metadata": {},
     "output_type": "execute_result"
    }
   ],
   "execution_count": 20
  },
  {
   "metadata": {
    "ExecuteTime": {
     "end_time": "2024-08-09T10:06:53.173903Z",
     "start_time": "2024-08-09T10:06:53.169292Z"
    }
   },
   "cell_type": "code",
   "source": [
    "tmp=[]\n",
    "for i, sentence in enumerate(phone_list_gentle):\n",
    "    for phone in sentence:\n",
    "        if list(phone.keys())[0]=='oov':\n",
    "            tmp.append(i)\n",
    "print(len(tmp)) # 145 oov"
   ],
   "id": "a913b1a149f2dd8f",
   "outputs": [
    {
     "name": "stdout",
     "output_type": "stream",
     "text": [
      "145\n"
     ]
    }
   ],
   "execution_count": 21
  },
  {
   "metadata": {
    "ExecuteTime": {
     "end_time": "2024-08-09T10:06:53.725467Z",
     "start_time": "2024-08-09T10:06:53.719190Z"
    }
   },
   "cell_type": "code",
   "source": [
    "tmp # files with oov: [1, 12, 12, 29, 38, 51, 52, 52, 54, 58, 58, 62, 62, 63, 72, 72, 75, 76, 77, 79, 80, 82, 82, 84, 86, 86, 88, 89]\n",
    "# Manually add the missing phonemes of the oov word to Gentle JSON file."
   ],
   "id": "6de8e7ef0298282a",
   "outputs": [
    {
     "data": {
      "text/plain": [
       "[1,\n",
       " 1,\n",
       " 1,\n",
       " 12,\n",
       " 12,\n",
       " 12,\n",
       " 12,\n",
       " 12,\n",
       " 12,\n",
       " 12,\n",
       " 12,\n",
       " 12,\n",
       " 12,\n",
       " 12,\n",
       " 29,\n",
       " 29,\n",
       " 29,\n",
       " 29,\n",
       " 38,\n",
       " 38,\n",
       " 38,\n",
       " 51,\n",
       " 51,\n",
       " 51,\n",
       " 51,\n",
       " 51,\n",
       " 52,\n",
       " 52,\n",
       " 52,\n",
       " 52,\n",
       " 52,\n",
       " 52,\n",
       " 52,\n",
       " 52,\n",
       " 52,\n",
       " 52,\n",
       " 52,\n",
       " 54,\n",
       " 54,\n",
       " 54,\n",
       " 54,\n",
       " 54,\n",
       " 58,\n",
       " 58,\n",
       " 58,\n",
       " 58,\n",
       " 58,\n",
       " 58,\n",
       " 58,\n",
       " 58,\n",
       " 58,\n",
       " 58,\n",
       " 58,\n",
       " 62,\n",
       " 62,\n",
       " 62,\n",
       " 62,\n",
       " 62,\n",
       " 62,\n",
       " 62,\n",
       " 62,\n",
       " 62,\n",
       " 62,\n",
       " 63,\n",
       " 63,\n",
       " 63,\n",
       " 63,\n",
       " 63,\n",
       " 63,\n",
       " 72,\n",
       " 72,\n",
       " 72,\n",
       " 72,\n",
       " 72,\n",
       " 72,\n",
       " 72,\n",
       " 72,\n",
       " 72,\n",
       " 72,\n",
       " 75,\n",
       " 75,\n",
       " 75,\n",
       " 75,\n",
       " 75,\n",
       " 75,\n",
       " 76,\n",
       " 76,\n",
       " 76,\n",
       " 76,\n",
       " 76,\n",
       " 76,\n",
       " 76,\n",
       " 77,\n",
       " 77,\n",
       " 77,\n",
       " 77,\n",
       " 77,\n",
       " 79,\n",
       " 79,\n",
       " 79,\n",
       " 79,\n",
       " 80,\n",
       " 80,\n",
       " 80,\n",
       " 80,\n",
       " 80,\n",
       " 80,\n",
       " 82,\n",
       " 82,\n",
       " 82,\n",
       " 82,\n",
       " 82,\n",
       " 82,\n",
       " 82,\n",
       " 82,\n",
       " 82,\n",
       " 82,\n",
       " 84,\n",
       " 84,\n",
       " 84,\n",
       " 84,\n",
       " 84,\n",
       " 84,\n",
       " 86,\n",
       " 86,\n",
       " 86,\n",
       " 86,\n",
       " 86,\n",
       " 86,\n",
       " 86,\n",
       " 86,\n",
       " 86,\n",
       " 86,\n",
       " 86,\n",
       " 86,\n",
       " 88,\n",
       " 88,\n",
       " 88,\n",
       " 88,\n",
       " 88,\n",
       " 89,\n",
       " 89,\n",
       " 89,\n",
       " 89,\n",
       " 89]"
      ]
     },
     "execution_count": 22,
     "metadata": {},
     "output_type": "execute_result"
    }
   ],
   "execution_count": 22
  },
  {
   "metadata": {
    "ExecuteTime": {
     "end_time": "2024-08-09T10:06:54.027208Z",
     "start_time": "2024-08-09T10:06:54.024178Z"
    }
   },
   "cell_type": "code",
   "source": [
    "# gentle file might still contain \"not-found-in-audio\", check it.\n",
    "# Manually add missing phonemes (belongs to the not-found-in-audio word) to Gentle file.\n"
   ],
   "id": "18c9b2ed594ae866",
   "outputs": [],
   "execution_count": 23
  },
  {
   "metadata": {
    "ExecuteTime": {
     "end_time": "2024-08-09T10:06:54.549676Z",
     "start_time": "2024-08-09T10:06:54.541534Z"
    }
   },
   "cell_type": "code",
   "source": [
    "# the length between Gentle and paradigm might not the same: this might because one phoneme from one file were split in its counterpart\n",
    "# Found these files: 11 15 30 38 43; Corrected;\n",
    "# Modify the Gentle file to reflect the paradigm sequence.\n",
    "import math\n",
    "for i,phone_list_para in enumerate(sentences_para):\n",
    "    tt1=0\n",
    "    for syllable in phone_list_para:\n",
    "        if isinstance(syllable,float):\n",
    "            if math.isnan(syllable):\n",
    "                continue\n",
    "        else:\n",
    "            for phone in syllable.split('|')[1:-1]:\n",
    "                tt1+=1\n",
    "    #tt1=sum([1 for syllable in phone_list_para if isinstance(syllable,float) and not math.isnan(syllable) for phone in syllable.split('|')[1:-1]])\n",
    "    tt2=len(phone_list_gentle[i])\n",
    "    if tt1!=tt2:\n",
    "        print(i)\n",
    "        "
   ],
   "id": "6bf9166a83789b10",
   "outputs": [],
   "execution_count": 24
  },
  {
   "metadata": {
    "ExecuteTime": {
     "end_time": "2024-08-09T10:06:57.453189Z",
     "start_time": "2024-08-09T10:06:57.437532Z"
    }
   },
   "cell_type": "code",
   "source": [
    "# read Gentle and excel, and add on/off beat info in the excel to Gentle\n",
    "phone_list_sentences2=[]\n",
    "for i,phone_list_para in enumerate(sentences_para):\n",
    "    phones_aligned=phone_list_gentle[i] # list of dicts: ['phone':[start, duration], 'phone':[], 'phone':[], ]\n",
    "    phones_aligned2=copy.deepcopy(phones_aligned)# list of dicts: ['phone':[start, duration, on(1)/off(-1) beat], 'phone':[], 'phone':[], ]\n",
    "    beat=-1\n",
    "    index=0\n",
    "    for j,syllable in enumerate(phone_list_para):\n",
    "        if not isinstance(syllable,float): # one of the syllable is nan (a blank in the excel sheet)\n",
    "            for k,phone in enumerate(syllable.split('|')[1:-1]):\n",
    "                phone_aligned=list(phones_aligned[index].keys())[0]\n",
    "                if phone_aligned=='oov':\n",
    "                    info=phones_aligned[index]['oov']\n",
    "                    info.append(beat) # denote oov as 0\n",
    "                    phones_aligned2[index]['oov']=info\n",
    "                    index=index+1\n",
    "                elif phone_aligned != phone:\n",
    "                    print(str(i)+ ' key mismatch: '+phone_aligned+' is not '+phone+'.')\n",
    "                    info=phones_aligned[index][phone_aligned] # time\n",
    "                    info.append(beat) # mark\n",
    "                    if phone_aligned =='not-found-in-aud':\n",
    "                        phones_aligned2[index]['not-found-in-aud']=info\n",
    "                    else:\n",
    "                        phones_aligned2[index].pop(phone_aligned)\n",
    "                        phones_aligned2[index][phone]=info\n",
    "                    index=index+1\n",
    "                else: # todo: mark the a/i/u instance;\n",
    "                    info=phones_aligned[index][phone]\n",
    "                    info.append(beat)\n",
    "                    phones_aligned2[index][phone]=info\n",
    "                    index=index+1\n",
    "                \n",
    "            beat=beat*(-1)\n",
    "    phone_list_sentences2.append(phones_aligned2)         \n",
    "        "
   ],
   "id": "1df1cab5dc41e2f1",
   "outputs": [
    {
     "name": "stdout",
     "output_type": "stream",
     "text": [
      "7 key mismatch: not-found-in-aud is not b.\n",
      "7 key mismatch: not-found-in-aud is not ae.\n",
      "7 key mismatch: not-found-in-aud is not g.\n",
      "7 key mismatch: not-found-in-aud is not z.\n",
      "12 key mismatch: ah is not ae.\n",
      "15 key mismatch: ah is not ae.\n",
      "17 key mismatch: ah is not ih.\n",
      "18 key mismatch: ih is not ah.\n",
      "20 key mismatch: uw is not ih.\n",
      "21 key mismatch: ih is not uw.\n",
      "23 key mismatch: ah is not ae.\n",
      "23 key mismatch: ah is not ae.\n",
      "25 key mismatch: ih is not ah.\n",
      "26 key mismatch: ey is not ah.\n",
      "26 key mismatch: ah is not ae.\n",
      "27 key mismatch: ah is not ae.\n",
      "29 key mismatch: ah is not ae.\n",
      "29 key mismatch: ah is not ey.\n",
      "30 key mismatch: uw is not ih.\n",
      "34 key mismatch: ah is not ae.\n",
      "36 key mismatch: not-found-in-aud is not m.\n",
      "36 key mismatch: not-found-in-aud is not uw.\n",
      "39 key mismatch: ah is not ae.\n",
      "41 key mismatch: ah is not ae.\n",
      "42 key mismatch: ah is not ae.\n",
      "42 key mismatch: ah is not ae.\n",
      "45 key mismatch: ah is not iy.\n",
      "48 key mismatch: uh is not ao.\n",
      "50 key mismatch: ih is not ah.\n",
      "51 key mismatch: ah is not ae.\n",
      "52 key mismatch: ah is not ae.\n",
      "54 key mismatch: ah is not ae.\n",
      "54 key mismatch: ah is not ae.\n",
      "55 key mismatch: ah is not ae.\n",
      "56 key mismatch: ih is not ah.\n",
      "61 key mismatch: ah is not ae.\n",
      "61 key mismatch: iy is not ah.\n",
      "61 key mismatch: not-found-in-aud is not m.\n",
      "61 key mismatch: not-found-in-aud is not ae.\n",
      "61 key mismatch: not-found-in-aud is not ch.\n",
      "61 key mismatch: not-found-in-aud is not f.\n",
      "61 key mismatch: not-found-in-aud is not ao.\n",
      "61 key mismatch: not-found-in-aud is not r.\n",
      "61 key mismatch: not-found-in-aud is not y.\n",
      "61 key mismatch: not-found-in-aud is not uw.\n",
      "62 key mismatch: ah is not ae.\n",
      "62 key mismatch: ah is not ey.\n",
      "65 key mismatch: ih is not ah.\n",
      "66 key mismatch: ah is not ae.\n",
      "70 key mismatch: ah is not ae.\n",
      "73 key mismatch: ah is not ae.\n",
      "74 key mismatch: ah is not ae.\n",
      "75 key mismatch: ah is not ae.\n",
      "76 key mismatch: ih is not ah.\n",
      "79 key mismatch: ey is not ah.\n",
      "86 key mismatch: ah is not iy.\n",
      "87 key mismatch: ah is not ae.\n",
      "88 key mismatch: uw is not ah.\n",
      "91 key mismatch: iy is not ih.\n",
      "92 key mismatch: ah is not ae.\n",
      "92 key mismatch: ih is not ah.\n",
      "96 key mismatch: ah is not ae.\n",
      "98 key mismatch: ah is not ae.\n"
     ]
    }
   ],
   "execution_count": 25
  },
  {
   "metadata": {},
   "cell_type": "markdown",
   "source": "",
   "id": "6a68f0e32a9c8b73"
  },
  {
   "metadata": {},
   "cell_type": "markdown",
   "source": [
    "### below are some key errors:\n",
    "\n",
    "7 key error: not-found-in-aud is not b.\n",
    "7 key error: not-found-in-aud is not ae.\n",
    "7 key error: not-found-in-aud is not g.\n",
    "7 key error: not-found-in-aud is not z.\n",
    "12 key error: ah is not ae.\n",
    "15 key error: ah is not ae.\n",
    "17 key error: ah is not ih.\n",
    "18 key error: ih is not ah.\n",
    "20 key error: uw is not ih.\n",
    "21 key error: ih is not uw.\n",
    "23 key error: ah is not ae.\n",
    "23 key error: ah is not ae.\n",
    "25 key error: ih is not ah.\n",
    "26 key error: ey is not ah.\n",
    "26 key error: ah is not ae.\n",
    "27 key error: ah is not ae.\n",
    "29 key error: ah is not ae.\n",
    "29 key error: ah is not ey.\n",
    "30 key error: uw is not ih.\n",
    "34 key error: ah is not ae.\n",
    "36 key error: not-found-in-aud is not m.\n",
    "36 key error: not-found-in-aud is not uw.\n",
    "39 key error: ah is not ae.\n",
    "41 key error: ah is not ae.\n",
    "42 key error: ah is not ae.\n",
    "42 key error: ah is not ae.\n",
    "45 key error: ah is not iy.\n",
    "48 key error: uh is not ao.\n",
    "50 key error: ih is not ah.\n",
    "51 key error: ah is not ae.\n",
    "52 key error: ah is not ae.\n",
    "54 key error: ah is not ae.\n",
    "54 key error: ah is not ae.\n",
    "55 key error: ah is not ae.\n",
    "56 key error: ih is not ah.\n",
    "61 key error: ah is not ae.\n",
    "61 key error: iy is not ah.\n",
    "61 key error: not-found-in-aud is not m.\n",
    "61 key error: not-found-in-aud is not ae.\n",
    "61 key error: not-found-in-aud is not ch.\n",
    "61 key error: not-found-in-aud is not f.\n",
    "61 key error: not-found-in-aud is not ao.\n",
    "61 key error: not-found-in-aud is not r.\n",
    "61 key error: not-found-in-aud is not y.\n",
    "61 key error: not-found-in-aud is not uw.\n",
    "62 key error: ah is not ae.\n",
    "62 key error: ah is not ey.\n",
    "65 key error: ih is not ah.\n",
    "66 key error: ah is not ae.\n",
    "70 key error: ah is not ae.\n",
    "73 key error: ah is not ae.\n",
    "74 key error: ah is not ae.\n",
    "75 key error: ah is not ae.\n",
    "76 key error: ih is not ah.\n",
    "79 key error: ey is not ah.\n",
    "86 key error: ah is not iy.\n",
    "87 key error: ah is not ae.\n",
    "88 key error: uw is not ah.\n",
    "91 key error: iy is not ih.\n",
    "92 key error: ah is not ae.\n",
    "92 key error: ih is not ah.\n",
    "96 key error: ah is not ae.\n",
    "98 key error: ah is not ae.\n",
    "\n",
    "\n",
    "When differs, use the paradigm phones."
   ],
   "id": "db385026e6c1aede"
  },
  {
   "metadata": {
    "ExecuteTime": {
     "end_time": "2024-08-09T10:07:03.345416Z",
     "start_time": "2024-08-09T10:07:03.342015Z"
    }
   },
   "cell_type": "code",
   "source": [
    "# check\n",
    "phone_list_sentences2[7]"
   ],
   "id": "59c0da422dcbe368",
   "outputs": [
    {
     "data": {
      "text/plain": [
       "[{'ah': [0.0, 0.01, -1]},\n",
       " {'t': [1.05, 0.08, 1]},\n",
       " {'iy': [1.1300000000000001, 0.36, 1]},\n",
       " {'ih': [1.84, 0.11, -1]},\n",
       " {'z': [1.9500000000000002, 0.09, -1]},\n",
       " {'b': [2.11, 0.08, 1]},\n",
       " {'r': [2.19, 0.09, 1]},\n",
       " {'uw': [2.28, 0.2, 1]},\n",
       " {'d': [2.48, 0.15, 1]},\n",
       " {'w': [3.11, 0.01, -1]},\n",
       " {'ih': [3.1199999999999997, 0.01, -1]},\n",
       " {'th': [3.1299999999999994, 0.01, -1]},\n",
       " {'l': [3.15, 0.09, 1]},\n",
       " {'iy': [3.2399999999999998, 0.18, 1]},\n",
       " {'v': [3.42, 0.08, 1]},\n",
       " {'z': [3.5, 0.22, 1]},\n",
       " {'ao': [4.24, 0.15, -1]},\n",
       " {'r': [4.390000000000001, 0.1, -1]},\n",
       " {'not-found-in-aud': [4.49, 0, 1]},\n",
       " {'not-found-in-aud': [4.49, 0, 1]},\n",
       " {'not-found-in-aud': [4.49, 0, 1]},\n",
       " {'not-found-in-aud': [4.49, 0, 1]}]"
      ]
     },
     "execution_count": 27,
     "metadata": {},
     "output_type": "execute_result"
    }
   ],
   "execution_count": 27
  },
  {
   "metadata": {
    "ExecuteTime": {
     "end_time": "2024-08-09T10:07:06.343806Z",
     "start_time": "2024-08-09T10:07:06.339641Z"
    }
   },
   "cell_type": "code",
   "source": [
    "filename=folder+'/phone_list_onoff_beat.npy'\n",
    "np.save(filename, np.array(phone_list_sentences2, dtype=object), allow_pickle=True)"
   ],
   "id": "1f5db1bf4cea0e43",
   "outputs": [],
   "execution_count": 28
  },
  {
   "metadata": {},
   "cell_type": "code",
   "outputs": [],
   "execution_count": null,
   "source": "",
   "id": "c1042c6bfab22d4e"
  }
 ],
 "metadata": {
  "kernelspec": {
   "display_name": "bci",
   "language": "python",
   "name": "bci"
  },
  "language_info": {
   "codemirror_mode": {
    "name": "ipython",
    "version": 2
   },
   "file_extension": ".py",
   "mimetype": "text/x-python",
   "name": "python",
   "nbconvert_exporter": "python",
   "pygments_lexer": "ipython2",
   "version": "2.7.6"
  }
 },
 "nbformat": 4,
 "nbformat_minor": 5
}
