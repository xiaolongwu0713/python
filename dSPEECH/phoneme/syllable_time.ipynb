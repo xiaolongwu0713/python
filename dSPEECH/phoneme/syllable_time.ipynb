{
 "cells": [
  {
   "metadata": {},
   "cell_type": "markdown",
   "source": "### This script output a big list containing syllable intervals: [ [{syllable:[interval]}, {}, {},...  ], [sentence 2], [sentence 3], [], [], .... ]",
   "id": "9af2306b78d1a3fc"
  },
  {
   "metadata": {
    "ExecuteTime": {
     "end_time": "2024-08-19T06:26:36.404266Z",
     "start_time": "2024-08-19T06:26:36.398890Z"
    }
   },
   "cell_type": "code",
   "source": [
    "import os\n",
    "from scipy.io import wavfile\n",
    "from dSPEECH.config import *\n",
    "import json"
   ],
   "id": "86cff563638a8e3d",
   "outputs": [],
   "execution_count": 2
  },
  {
   "cell_type": "code",
   "id": "initial_id",
   "metadata": {
    "collapsed": true,
    "ExecuteTime": {
     "end_time": "2024-08-19T06:26:38.873707Z",
     "start_time": "2024-08-19T06:26:38.859005Z"
    }
   },
   "source": [
    "sid=2\n",
    "folder=meta_dir+'SEEG'+str(sid)+'/forced_alignment/' #alignment/'\n",
    "filename=folder+'/phone_list_onoff_beat.npy'\n",
    "phones_all=np.load(filename,allow_pickle=True)"
   ],
   "outputs": [],
   "execution_count": 3
  },
  {
   "metadata": {
    "ExecuteTime": {
     "end_time": "2024-08-19T06:26:46.074778Z",
     "start_time": "2024-08-19T06:26:46.054417Z"
    }
   },
   "cell_type": "code",
   "source": [
    "# group phones into syllables, and get syllable period (start, end).\n",
    "\n",
    "# The duration can be syllable_start+pohone_duration+phone_duration+...; \n",
    "on_beats=[]\n",
    "off_beats=[]\n",
    "# or it can be calculated as difference between syllable starting points;\n",
    "# The syllable duration is usually longer than the previous method\n",
    "on_beats2=[]\n",
    "off_beats2=[]\n",
    "\n",
    "on_beats_phones=[]\n",
    "off_beats_phones=[]\n",
    "oov_num=0\n",
    "exclude=['oov','not-found-in-aud']\n",
    "for i, phones_sentence in enumerate(phones_all):\n",
    "    # log the text phone/syllable\n",
    "    on_beats_sentence=[]\n",
    "    off_beats_sentence=[]\n",
    "    on_beats_syllable=[]\n",
    "    off_beats_syllable=[]\n",
    "    # syllable intervals within a sentence\n",
    "    on_beats_sentenceT=[]\n",
    "    off_beats_sentenceT=[]\n",
    "    # syllable intervals within a sentence, calculated as difference between syllable starts\n",
    "    on_beats_sentenceT2=[]\n",
    "    off_beats_sentenceT2=[]\n",
    "    for j,phone_dict in enumerate(phones_sentence):\n",
    "        key=list(phone_dict.keys())[0]\n",
    "        value=phone_dict[key]\n",
    "        phone_start=value[0]\n",
    "        phone_duration=value[1]\n",
    "        beat=value[-1]\n",
    "        if key=='oov':\n",
    "            oov_num=oov_num+1\n",
    "        #elif key=='not-found-in-aud':\n",
    "        #    print('haha')\n",
    "        #else: \n",
    "        if j==0:\n",
    "            pre_beat=-1\n",
    "            pre_key=key\n",
    "            pre_syllable_start=phone_start\n",
    "            pre_syllable_end=pre_syllable_start+phone_duration\n",
    "            #off_beats_sentence.append(pre_key)\n",
    "            #off_beats_syllable.append(pre_key)\n",
    "        else:\n",
    "            if beat!=pre_beat: # start a new syllable\n",
    "                if pre_beat==-1: # fetch last the phone of previous syllable\n",
    "                    off_beats_syllable.append(pre_key)\n",
    "                    off_beats_sentence.append(off_beats_syllable)\n",
    "                else:\n",
    "                    on_beats_syllable.append(pre_key)\n",
    "                    on_beats_sentence.append(on_beats_syllable)\n",
    "\n",
    "                if pre_beat==-1:\n",
    "                    #off_beats_sentence.append(pre_key)\n",
    "                    if pre_key not in exclude: off_beats_sentenceT.append(\n",
    "                        {''.join([i for i in off_beats_syllable]):[pre_syllable_start,pre_syllable_end]}) #off_beats\n",
    "                    # difference between syllable starts\n",
    "                    if pre_key not in exclude: off_beats_sentenceT2.append(\n",
    "                        {''.join([i for i in off_beats_syllable]):[pre_syllable_start,phone_start]}) \n",
    "                    off_beats_syllable=[]\n",
    "                    #off_beats_syllable.append(pre_key)\n",
    "                elif pre_beat==1:\n",
    "                    #on_beats_sentence.append(pre_key)\n",
    "                    if pre_key not in exclude:on_beats_sentenceT.append(\n",
    "                        {''.join([i for i in on_beats_syllable]):[pre_syllable_start,pre_syllable_end]})\n",
    "                    if pre_key not in exclude:on_beats_sentenceT2.append(\n",
    "                        {''.join([i for i in on_beats_syllable]):[pre_syllable_start,phone_start]}) \n",
    "                    on_beats_syllable=[]\n",
    "                    #on_beats_syllable.append(pre_key)\n",
    "                pre_syllable_start=phone_start\n",
    "                pre_syllable_end=pre_syllable_start+phone_duration\n",
    "                pre_key=key\n",
    "            else: # still within the same syllable\n",
    "                pre_syllable_end=phone_start+phone_duration\n",
    "                if pre_beat==-1:\n",
    "                    off_beats_syllable.append(pre_key)\n",
    "                    #off_beats_sentence.append(pre_key)\n",
    "                elif pre_beat==1:\n",
    "                    on_beats_syllable.append(pre_key)\n",
    "                    #on_beats_sentence.append(pre_key)\n",
    "                pre_key=key\n",
    "                if j==len(phones_sentence)-1: # the last phone\n",
    "                    if pre_beat==-1:\n",
    "                        off_beats_syllable.append(pre_key)\n",
    "                        off_beats_sentence.append(off_beats_syllable)\n",
    "                        if pre_key not in exclude:off_beats_sentenceT.append(\n",
    "                            {''.join([i for i in off_beats_syllable]):[pre_syllable_start,pre_syllable_end]}) #off_beats\n",
    "                        if pre_key not in exclude:off_beats_sentenceT2.append(\n",
    "                            {''.join([i for i in off_beats_syllable]):[pre_syllable_start,pre_syllable_end]})\n",
    "                    else:\n",
    "                        on_beats_syllable.append(pre_key)\n",
    "                        on_beats_sentence.append(on_beats_syllable)\n",
    "                        if pre_key not in exclude:on_beats_sentenceT.append(\n",
    "                            {''.join([i for i in on_beats_syllable]):[pre_syllable_start,pre_syllable_end]})\n",
    "                        if pre_key not in exclude:on_beats_sentenceT2.append(\n",
    "                            {''.join([i for i in on_beats_syllable]):[pre_syllable_start,pre_syllable_end]}) \n",
    "        pre_beat=beat\n",
    "    on_beats.append(on_beats_sentenceT)\n",
    "    off_beats.append(off_beats_sentenceT)\n",
    "    on_beats2.append(on_beats_sentenceT2)\n",
    "    off_beats2.append(off_beats_sentenceT2)\n",
    "    on_beats_phones.append(on_beats_sentence) # pure text, not time info, debug usage.\n",
    "    off_beats_phones.append(off_beats_sentence)\n",
    "print('OOV numebr: '+str(oov_num)+'.')"
   ],
   "id": "a7de0ec942c7cab3",
   "outputs": [
    {
     "name": "stdout",
     "output_type": "stream",
     "text": [
      "OOV numebr: 145.\n"
     ]
    }
   ],
   "execution_count": 4
  },
  {
   "metadata": {
    "ExecuteTime": {
     "end_time": "2024-08-19T06:26:48.366116Z",
     "start_time": "2024-08-19T06:26:48.357616Z"
    }
   },
   "cell_type": "code",
   "source": "off_beats2[7] # [0,0] means it's a not-found-in-audio syllable;",
   "id": "eaa2e8bf706756ff",
   "outputs": [
    {
     "data": {
      "text/plain": [
       "[{'ah': [0.0, 1.05]},\n",
       " {'ihz': [1.84, 2.11]},\n",
       " {'wihth': [3.11, 3.15]},\n",
       " {'aor': [4.24, 4.49]}]"
      ]
     },
     "execution_count": 5,
     "metadata": {},
     "output_type": "execute_result"
    }
   ],
   "execution_count": 5
  },
  {
   "metadata": {},
   "cell_type": "markdown",
   "source": [
    "### Looks like some on_beats were missing: there are 5 not-found-in-audio syllables\n",
    "\n",
    "370+381+5=756<798(800-2nans); still missing some syllables: these missing syllable are from the oovs: 1 syllables contains approximately 2-3 oovs;\n",
    "\n",
    "To investigate, you can compare the combination of on_beats_phones and off_beats_phones with the excel file.\n",
    "\n",
    "Should not be a big deal, not worth the time."
   ],
   "id": "285ece09e8efda87"
  },
  {
   "metadata": {
    "ExecuteTime": {
     "end_time": "2024-08-19T06:27:38.250472Z",
     "start_time": "2024-08-19T06:27:38.244672Z"
    }
   },
   "cell_type": "code",
   "source": [
    "on_beats2_tmp=[[list(syl.values())[0] for syl in sentence] for sentence in on_beats2]\n",
    "off_beats2_tmp=[[list(syl.values())[0] for syl in sentence] for sentence in off_beats2]"
   ],
   "id": "4d7a925a6cbbad6c",
   "outputs": [],
   "execution_count": 6
  },
  {
   "metadata": {
    "ExecuteTime": {
     "end_time": "2024-08-19T06:27:39.276162Z",
     "start_time": "2024-08-19T06:27:39.269781Z"
    }
   },
   "cell_type": "code",
   "source": "len([i for sentence in on_beats2_tmp for syl in sentence])",
   "id": "dc17e63c5c5ab18c",
   "outputs": [
    {
     "data": {
      "text/plain": [
       "366"
      ]
     },
     "execution_count": 7,
     "metadata": {},
     "output_type": "execute_result"
    }
   ],
   "execution_count": 7
  },
  {
   "metadata": {
    "ExecuteTime": {
     "end_time": "2024-08-19T06:27:40.268481Z",
     "start_time": "2024-08-19T06:27:40.263147Z"
    }
   },
   "cell_type": "code",
   "source": "len([i for sentence in off_beats2_tmp for syl in sentence])",
   "id": "c671ded0cf69aabd",
   "outputs": [
    {
     "data": {
      "text/plain": [
       "380"
      ]
     },
     "execution_count": 8,
     "metadata": {},
     "output_type": "execute_result"
    }
   ],
   "execution_count": 8
  },
  {
   "metadata": {},
   "cell_type": "markdown",
   "source": "### Deal with the oov; there are too many.",
   "id": "aa4bccbc17f1dd72"
  },
  {
   "metadata": {},
   "cell_type": "markdown",
   "source": "",
   "id": "4052fb1530891f"
  },
  {
   "metadata": {},
   "cell_type": "markdown",
   "source": "### Save for next step: on/off beat classification.",
   "id": "4f6ca80664253ad6"
  },
  {
   "metadata": {
    "ExecuteTime": {
     "end_time": "2024-08-19T06:27:42.891095Z",
     "start_time": "2024-08-19T06:27:42.883404Z"
    }
   },
   "cell_type": "code",
   "source": [
    "result={}\n",
    "result['on_beats']=on_beats\n",
    "result['off_beats']=off_beats\n",
    "result['on_beats2']=on_beats2\n",
    "result['off_beats2']=off_beats2\n",
    "result['on_beats_phones']=on_beats_phones\n",
    "result['off_beats_phones']=off_beats_phones\n",
    "\n",
    "filename=folder+'/syllable_time.npy'\n",
    "np.save(filename, result)"
   ],
   "id": "fff1a7368da857bb",
   "outputs": [],
   "execution_count": 9
  }
 ],
 "metadata": {
  "kernelspec": {
   "display_name": "bci",
   "language": "python",
   "name": "bci"
  },
  "language_info": {
   "codemirror_mode": {
    "name": "ipython",
    "version": 2
   },
   "file_extension": ".py",
   "mimetype": "text/x-python",
   "name": "python",
   "nbconvert_exporter": "python",
   "pygments_lexer": "ipython2",
   "version": "2.7.6"
  }
 },
 "nbformat": 4,
 "nbformat_minor": 5
}
