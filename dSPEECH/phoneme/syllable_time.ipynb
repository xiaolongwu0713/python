{
 "cells": [
  {
   "metadata": {
    "ExecuteTime": {
     "end_time": "2024-08-19T00:55:22.221147Z",
     "start_time": "2024-08-19T00:55:17.454060Z"
    }
   },
   "cell_type": "code",
   "source": [
    "import os\n",
    "from scipy.io import wavfile\n",
    "from dSPEECH.config import *\n",
    "import json"
   ],
   "id": "86cff563638a8e3d",
   "outputs": [
    {
     "name": "stdout",
     "output_type": "stream",
     "text": [
      "========================================\n",
      "2024-08-19 08:55:17 - Start Program\n",
      "========================================\n",
      "\n",
      "pre_all: Running from CMD.\n",
      "common_dl.py: Using CUDA.\n"
     ]
    }
   ],
   "execution_count": 1
  },
  {
   "cell_type": "code",
   "id": "initial_id",
   "metadata": {
    "collapsed": true,
    "ExecuteTime": {
     "end_time": "2024-08-19T00:58:17.062088Z",
     "start_time": "2024-08-19T00:58:17.038930Z"
    }
   },
   "source": [
    "sid=2\n",
    "folder=meta_dir+'SEEG'+str(sid)+'/forced_alignment/' #alignment/'\n",
    "filename=folder+'/phone_list_onoff_beat.npy'\n",
    "phones_all=np.load(filename,allow_pickle=True)"
   ],
   "outputs": [],
   "execution_count": 2
  },
  {
   "metadata": {
    "ExecuteTime": {
     "end_time": "2024-08-19T00:58:21.225521Z",
     "start_time": "2024-08-19T00:58:21.214428Z"
    }
   },
   "cell_type": "code",
   "source": [
    "# group phones into syllables, and get syllable period (start, end).\n",
    "\n",
    "# The duration can be syllable_start+pohone_duration+phone_duration+...; \n",
    "on_beats=[]\n",
    "off_beats=[]\n",
    "# or it can be calculated as difference between syllable starting points;\n",
    "# The syllable duration is usually longer than the previous method\n",
    "on_beats2=[]\n",
    "off_beats2=[]\n",
    "\n",
    "on_beats_phones=[]\n",
    "off_beats_phones=[]\n",
    "oov_num=0\n",
    "exclude=['oov','not-found-in-aud']\n",
    "for i, phones_sentence in enumerate(phones_all):\n",
    "    if i==36:\n",
    "        print('here')\n",
    "    # log the text phone/syllable\n",
    "    on_beats_sentence=[]\n",
    "    off_beats_sentence=[]\n",
    "    on_beats_syllable=[]\n",
    "    off_beats_syllable=[]\n",
    "    # syllable intervals within a sentence\n",
    "    on_beats_sentenceT=[]\n",
    "    off_beats_sentenceT=[]\n",
    "    # syllable intervals within a sentence, calculated as difference between syllable starts\n",
    "    on_beats_sentenceT2=[]\n",
    "    off_beats_sentenceT2=[]\n",
    "    for j,phone_dict in enumerate(phones_sentence):\n",
    "        key=list(phone_dict.keys())[0]\n",
    "        value=phone_dict[key]\n",
    "        phone_start=value[0]\n",
    "        phone_duration=value[1]\n",
    "        beat=value[-1]\n",
    "        if key=='oov':\n",
    "            oov_num=oov_num+1\n",
    "        #elif key=='not-found-in-aud':\n",
    "        #    print('haha')\n",
    "        #else: \n",
    "        if j==0:\n",
    "            pre_beat=-1\n",
    "            pre_key=key\n",
    "            pre_syllable_start=phone_start\n",
    "            pre_syllable_end=pre_syllable_start+phone_duration\n",
    "            #off_beats_sentence.append(pre_key)\n",
    "            off_beats_syllable.append(pre_key)\n",
    "        else:\n",
    "            if beat!=pre_beat: # start a new syllable\n",
    "                if pre_beat==-1: # fetch last the phone of previous syllable\n",
    "                    off_beats_syllable.append(pre_key)\n",
    "                    off_beats_sentence.append(off_beats_syllable)\n",
    "                else:\n",
    "                    on_beats_syllable.append(pre_key)\n",
    "                    on_beats_sentence.append(on_beats_syllable)\n",
    "\n",
    "                if pre_beat==-1:\n",
    "                    #off_beats_sentence.append(pre_key)\n",
    "                    if pre_key not in exclude: off_beats_sentenceT.append(\n",
    "                        {''.join([i for i in off_beats_syllable]):[pre_syllable_start,pre_syllable_end]}) #off_beats\n",
    "                    # difference between syllable starts\n",
    "                    if pre_key not in exclude: off_beats_sentenceT2.append(\n",
    "                        {''.join([i for i in off_beats_syllable]):[pre_syllable_start,phone_start]}) \n",
    "                    off_beats_syllable=[]\n",
    "                    off_beats_syllable.append(pre_key)\n",
    "                elif pre_beat==1:\n",
    "                    #on_beats_sentence.append(pre_key)\n",
    "                    if pre_key not in exclude:on_beats_sentenceT.append(\n",
    "                        {''.join([i for i in on_beats_syllable]):[pre_syllable_start,pre_syllable_end]})\n",
    "                    if pre_key not in exclude:on_beats_sentenceT2.append(\n",
    "                        {''.join([i for i in on_beats_syllable]):[pre_syllable_start,phone_start]}) \n",
    "                    on_beats_syllable=[]\n",
    "                    on_beats_syllable.append(pre_key)\n",
    "                pre_syllable_start=phone_start\n",
    "                pre_syllable_end=pre_syllable_start+phone_duration\n",
    "                pre_key=key\n",
    "            else: # still within the same syllable\n",
    "                pre_syllable_end=phone_start+phone_duration\n",
    "                if pre_beat==-1:\n",
    "                    off_beats_syllable.append(pre_key)\n",
    "                    #off_beats_sentence.append(pre_key)\n",
    "                elif pre_beat==1:\n",
    "                    on_beats_syllable.append(pre_key)\n",
    "                    #on_beats_sentence.append(pre_key)\n",
    "                pre_key=key\n",
    "                if j==len(phones_sentence)-1: # the last phone\n",
    "                    if pre_beat==-1:\n",
    "                        off_beats_syllable.append(pre_key)\n",
    "                        off_beats_sentence.append(off_beats_syllable)\n",
    "                        if pre_key not in exclude:off_beats_sentenceT.append(\n",
    "                            {''.join([i for i in off_beats_syllable]):[pre_syllable_start,pre_syllable_end]}) #off_beats\n",
    "                        if pre_key not in exclude:off_beats_sentenceT2.append(\n",
    "                            {''.join([i for i in off_beats_syllable]):[pre_syllable_start,pre_syllable_end]})\n",
    "                    else:\n",
    "                        on_beats_syllable.append(pre_key)\n",
    "                        on_beats_sentence.append(on_beats_syllable)\n",
    "                        if pre_key not in exclude:on_beats_sentenceT.append(\n",
    "                            {''.join([i for i in on_beats_syllable]):[pre_syllable_start,pre_syllable_end]})\n",
    "                        if pre_key not in exclude:on_beats_sentenceT2.append(\n",
    "                            {''.join([i for i in on_beats_syllable]):[pre_syllable_start,pre_syllable_end]}) \n",
    "        pre_beat=beat\n",
    "    on_beats.append(on_beats_sentenceT)\n",
    "    off_beats.append(off_beats_sentenceT)\n",
    "    on_beats2.append(on_beats_sentenceT2)\n",
    "    off_beats2.append(off_beats_sentenceT2)\n",
    "    on_beats_phones.append(on_beats_sentence) # pure text, not time info, debug usage.\n",
    "    off_beats_phones.append(off_beats_sentence)\n",
    "print('OOV numebr: '+str(oov_num)+'.')"
   ],
   "id": "a7de0ec942c7cab3",
   "outputs": [
    {
     "name": "stdout",
     "output_type": "stream",
     "text": [
      "here\n",
      "OOV numebr: 145.\n"
     ]
    }
   ],
   "execution_count": 3
  },
  {
   "metadata": {
    "ExecuteTime": {
     "end_time": "2024-08-09T10:07:30.494342Z",
     "start_time": "2024-08-09T10:07:30.490489Z"
    }
   },
   "cell_type": "code",
   "source": "off_beats2[7] # [0,0] means it's a not-found-in-audio syllable;",
   "id": "eaa2e8bf706756ff",
   "outputs": [
    {
     "data": {
      "text/plain": [
       "[[0.0, 1.05], [1.84, 2.11], [3.11, 3.15], [4.24, 4.49]]"
      ]
     },
     "execution_count": 5,
     "metadata": {},
     "output_type": "execute_result"
    }
   ],
   "execution_count": 5
  },
  {
   "metadata": {},
   "cell_type": "markdown",
   "source": [
    "### Looks like some on_beats were missing: there are 5 not-found-in-audio syllables\n",
    "\n",
    "370+381+5=756<798(800-2nans); still missing some syllables: these missing syllable are from the oovs: 1 syllables contains approximately 2-3 oovs;\n",
    "\n",
    "To investigate, you can compare the combination of on_beats_phones and off_beats_phones with the excel file.\n",
    "\n",
    "Should not be a big deal, not worth the time."
   ],
   "id": "285ece09e8efda87"
  },
  {
   "metadata": {
    "ExecuteTime": {
     "end_time": "2024-08-09T09:22:55.354376Z",
     "start_time": "2024-08-09T09:22:55.350356Z"
    }
   },
   "cell_type": "code",
   "source": "len([i for sentence in on_beats2 for syl in sentence])",
   "id": "dc17e63c5c5ab18c",
   "outputs": [
    {
     "data": {
      "text/plain": [
       "370"
      ]
     },
     "execution_count": 9,
     "metadata": {},
     "output_type": "execute_result"
    }
   ],
   "execution_count": 9
  },
  {
   "metadata": {
    "ExecuteTime": {
     "end_time": "2024-08-09T09:22:56.374608Z",
     "start_time": "2024-08-09T09:22:56.370665Z"
    }
   },
   "cell_type": "code",
   "source": "len([i for sentence in off_beats2 for syl in sentence])",
   "id": "c671ded0cf69aabd",
   "outputs": [
    {
     "data": {
      "text/plain": [
       "381"
      ]
     },
     "execution_count": 10,
     "metadata": {},
     "output_type": "execute_result"
    }
   ],
   "execution_count": 10
  },
  {
   "metadata": {},
   "cell_type": "markdown",
   "source": "### Deal with the oov; there are too many.",
   "id": "aa4bccbc17f1dd72"
  },
  {
   "metadata": {},
   "cell_type": "markdown",
   "source": "",
   "id": "4052fb1530891f"
  },
  {
   "metadata": {},
   "cell_type": "markdown",
   "source": "### Save for next step: on/off beat classification.",
   "id": "4f6ca80664253ad6"
  },
  {
   "metadata": {
    "ExecuteTime": {
     "end_time": "2024-08-09T10:07:55.775529Z",
     "start_time": "2024-08-09T10:07:55.771717Z"
    }
   },
   "cell_type": "code",
   "source": [
    "result={}\n",
    "result['on_beats']=on_beats\n",
    "result['off_beats']=off_beats\n",
    "result['on_beats2']=on_beats2\n",
    "result['off_beats2']=off_beats2\n",
    "result['on_beats_phones']=on_beats_phones\n",
    "result['off_beats_phones']=off_beats_phones\n",
    "\n",
    "filename=folder+'/syllable_time.npy'\n",
    "np.save(filename, result)"
   ],
   "id": "fff1a7368da857bb",
   "outputs": [],
   "execution_count": 6
  },
  {
   "metadata": {
    "ExecuteTime": {
     "end_time": "2024-08-09T08:39:53.965745Z",
     "start_time": "2024-08-09T08:39:53.961108Z"
    }
   },
   "cell_type": "code",
   "source": "",
   "id": "a9ba83695a7776e3",
   "outputs": [
    {
     "data": {
      "text/plain": [
       "[[0.99, 1.15], [1.83, 2.09], [2.75, 3.05], [4.24, 0]]"
      ]
     },
     "execution_count": 12,
     "metadata": {},
     "output_type": "execute_result"
    }
   ],
   "execution_count": 12
  },
  {
   "metadata": {},
   "cell_type": "code",
   "outputs": [],
   "execution_count": null,
   "source": "",
   "id": "46d0e1c61bdec86e"
  }
 ],
 "metadata": {
  "kernelspec": {
   "display_name": "bci",
   "language": "python",
   "name": "bci"
  },
  "language_info": {
   "codemirror_mode": {
    "name": "ipython",
    "version": 2
   },
   "file_extension": ".py",
   "mimetype": "text/x-python",
   "name": "python",
   "nbconvert_exporter": "python",
   "pygments_lexer": "ipython2",
   "version": "2.7.6"
  }
 },
 "nbformat": 4,
 "nbformat_minor": 5
}
