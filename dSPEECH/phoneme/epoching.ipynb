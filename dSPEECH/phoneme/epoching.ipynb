{
 "cells": [
  {
   "metadata": {},
   "cell_type": "markdown",
   "source": [
    "### This script performs epoching of the raw eeg data based on the on/off beat timing obtained by syllable_time.ipynb\n",
    "The on/off_beats2 are obtained as the difference between two neighbour syllable start time."
   ],
   "id": "764b9607815d1d6f"
  },
  {
   "metadata": {
    "ExecuteTime": {
     "end_time": "2024-08-10T12:26:37.117574Z",
     "start_time": "2024-08-10T12:26:34.827871Z"
    }
   },
   "cell_type": "code",
   "source": [
    "import os\n",
    "\n",
    "import numpy as np\n",
    "from scipy.io import wavfile\n",
    "from dSPEECH.config import *\n",
    "import json"
   ],
   "id": "98303eea80f6cd0f",
   "outputs": [
    {
     "name": "stdout",
     "output_type": "stream",
     "text": [
      "========================================\n",
      "2024-08-10 20:26:35 - Start Program\n",
      "========================================\n",
      "\n",
      "pre_all: Running from CMD.\n",
      "common_dl.py: Using CUDA.\n"
     ]
    }
   ],
   "execution_count": 1
  },
  {
   "metadata": {
    "ExecuteTime": {
     "end_time": "2024-08-10T12:26:45.377938Z",
     "start_time": "2024-08-10T12:26:45.369488Z"
    }
   },
   "cell_type": "code",
   "source": [
    "sid=2\n",
    "folder=meta_dir+'SEEG'+str(sid)+'/forced_alignment/' #alignment/'\n",
    "filename=folder+'/syllable_time.npy'\n",
    "result=np.load(filename, allow_pickle=True).item()"
   ],
   "id": "e3289a990d953c28",
   "outputs": [],
   "execution_count": 2
  },
  {
   "metadata": {
    "ExecuteTime": {
     "end_time": "2024-08-10T12:26:47.528581Z",
     "start_time": "2024-08-10T12:26:47.525134Z"
    }
   },
   "cell_type": "code",
   "source": [
    "on_beats=result['on_beats']\n",
    "off_beats=result['off_beats']\n",
    "on_beats2=result['on_beats2']\n",
    "off_beats2=result['off_beats2']\n",
    "on_beats_phones=result['on_beats_phones']\n",
    "off_beats_phones=result['off_beats_phones']"
   ],
   "id": "90f7d0ad37cf954d",
   "outputs": [],
   "execution_count": 3
  },
  {
   "metadata": {
    "ExecuteTime": {
     "end_time": "2024-08-10T12:27:00.301411Z",
     "start_time": "2024-08-10T12:27:00.298016Z"
    }
   },
   "cell_type": "code",
   "source": [
    "dur_on=[]\n",
    "for sen in on_beats2:\n",
    "    dur_sen=[i[1]-i[0] for i in sen]\n",
    "    dur_on.append(dur_sen)\n",
    "\n",
    "dur_off=[]\n",
    "for sen in off_beats2:\n",
    "    dur_sen=[i[1]-i[0] for i in sen]\n",
    "    dur_off.append(dur_sen)"
   ],
   "id": "8cb64bbd0c3a06ff",
   "outputs": [],
   "execution_count": 5
  },
  {
   "metadata": {
    "ExecuteTime": {
     "end_time": "2024-08-10T12:27:11.383443Z",
     "start_time": "2024-08-10T12:27:11.379580Z"
    }
   },
   "cell_type": "code",
   "source": "dur_off[36]",
   "id": "4ef63a78b97c4299",
   "outputs": [
    {
     "data": {
      "text/plain": [
       "[0.15999999999999992,\n",
       " 0.2599999999999998,\n",
       " 0.2999999999999998,\n",
       " 0.29000000000000004]"
      ]
     },
     "execution_count": 8,
     "metadata": {},
     "output_type": "execute_result"
    }
   ],
   "execution_count": 8
  },
  {
   "metadata": {
    "ExecuteTime": {
     "end_time": "2024-08-10T12:27:14.387009Z",
     "start_time": "2024-08-10T12:27:14.383150Z"
    }
   },
   "cell_type": "code",
   "source": [
    "a=[i for i,dur_sen in enumerate(dur_on) if all(dur_sen)==0] # 0 duration\n",
    "b=[i for i,dur_sen in enumerate(dur_off) if all(dur_sen)==0]\n",
    "print('Onbeats syllables with 0 durations: '+','.join(str(i) for i in a)+'; Offbeats syllables with 0: '+','.join(str(i) for i in b))"
   ],
   "id": "2f2966b6fc9e008e",
   "outputs": [
    {
     "name": "stdout",
     "output_type": "stream",
     "text": [
      "Onbeats syllables with 0 durations: ; Offbeats syllables with 0: \n"
     ]
    }
   ],
   "execution_count": 9
  },
  {
   "metadata": {
    "ExecuteTime": {
     "end_time": "2024-08-10T02:55:37.225743Z",
     "start_time": "2024-08-10T02:55:37.222547Z"
    }
   },
   "cell_type": "code",
   "source": [
    "shortest_on=min([min(dur_sen) for dur_sen in dur_on if all(dur_sen) != 0])\n",
    "shortest_off=min([min(dur_sen) for dur_sen in dur_off if all(dur_sen) != 0])\n",
    "print('Shortest onbeat syllable: '+str(shortest_on)+'; shortest of offbeat: '+str(shortest_off)+'.')"
   ],
   "id": "702375abf22181f4",
   "outputs": [
    {
     "name": "stdout",
     "output_type": "stream",
     "text": [
      "Shortest onbeat syllable: 0.009999999999999787; shortest of offbeat: 0.009999999999999787.\n"
     ]
    }
   ],
   "execution_count": 7
  },
  {
   "metadata": {
    "ExecuteTime": {
     "end_time": "2024-08-10T02:55:37.431582Z",
     "start_time": "2024-08-10T02:55:37.426341Z"
    }
   },
   "cell_type": "code",
   "source": [
    "shortest_on=[i for i, dur_sen in enumerate(dur_on) if shortest_on in dur_sen] # shortest: 37\n",
    "shortest_off=[i for i, dur_sen in enumerate(dur_off) if shortest_off in dur_sen] # shortest: [32, 62, 63, 92]"
   ],
   "id": "41d1a5ff8640fece",
   "outputs": [],
   "execution_count": 8
  },
  {
   "metadata": {
    "ExecuteTime": {
     "end_time": "2024-08-10T02:55:38.010954Z",
     "start_time": "2024-08-10T02:55:38.007324Z"
    }
   },
   "cell_type": "code",
   "source": "shortest_on",
   "id": "82f66aaf900c329a",
   "outputs": [
    {
     "data": {
      "text/plain": [
       "[37]"
      ]
     },
     "execution_count": 9,
     "metadata": {},
     "output_type": "execute_result"
    }
   ],
   "execution_count": 9
  },
  {
   "metadata": {
    "ExecuteTime": {
     "end_time": "2024-08-10T02:55:38.245748Z",
     "start_time": "2024-08-10T02:55:38.242244Z"
    }
   },
   "cell_type": "code",
   "source": "shortest_off",
   "id": "c9af7d85c78e744",
   "outputs": [
    {
     "data": {
      "text/plain": [
       "[32, 62, 92]"
      ]
     },
     "execution_count": 10,
     "metadata": {},
     "output_type": "execute_result"
    }
   ],
   "execution_count": 10
  },
  {
   "metadata": {
    "ExecuteTime": {
     "end_time": "2024-08-10T12:34:02.389027Z",
     "start_time": "2024-08-10T12:33:59.052838Z"
    }
   },
   "cell_type": "code",
   "source": [
    "modality='SEEG'\n",
    "sid=2 # 1/2\n",
    "sf=1024\n",
    "## load epochs and sentences\n",
    "filename=data_dir+'processed/'+modality+str(sid)+'/'+modality+str(sid)+'-epo.fif'\n",
    "epochs=mne.read_epochs(filename)\n",
    "filename2=data_dir+'processed/'+modality+str(sid)+'/sentences.npy'\n",
    "sentences=np.load(filename2,allow_pickle=True)\n",
    "\n",
    "# two events: 1 stands for 'TRIG[001]:1' and 2 stands for 'TRIG[001]:1:inserted'\n",
    "epoch1=epochs['1'].get_data() # (99, 150, 15361)\n",
    "epoch2=epochs['2'].get_data() # (4, 150, 15361)\n",
    "epochs=np.concatenate((epoch1,epoch2),axis=0) # (100 trials, 150 channels, 15361 time)\n"
   ],
   "id": "5d773d6eb35db505",
   "outputs": [],
   "execution_count": 13
  },
  {
   "metadata": {
    "ExecuteTime": {
     "end_time": "2024-08-10T12:34:03.916562Z",
     "start_time": "2024-08-10T12:34:03.912665Z"
    }
   },
   "cell_type": "code",
   "source": "epochs=epochs[:,:,int(5*sf):int(10*sf)]",
   "id": "8159dee745c8f972",
   "outputs": [],
   "execution_count": 14
  },
  {
   "metadata": {
    "ExecuteTime": {
     "end_time": "2024-08-10T12:34:12.894521Z",
     "start_time": "2024-08-10T12:34:12.890786Z"
    }
   },
   "cell_type": "code",
   "source": [
    "ons_tmp=[]\n",
    "offs_tmp=[]\n",
    "for i in range(100):\n",
    "    on_sent=[] # per sentence\n",
    "    off_sent=[]\n",
    "    for on_syllable,off_syllable in zip(on_beats2[i],off_beats2[i]):\n",
    "        start=int(sf*on_syllable[0])\n",
    "        end=int(sf*on_syllable[1])\n",
    "        on_sent.append(epochs[i,:,start:end])\n",
    "        \n",
    "        start2=int(sf*off_syllable[0])\n",
    "        end2=int(sf*off_syllable[1])\n",
    "        off_sent.append(epochs[i,:,start2:end2])\n",
    "    ons_tmp.append(on_sent)\n",
    "    offs_tmp.append(off_sent)\n",
    "    "
   ],
   "id": "dd0e2ec0134fa2cf",
   "outputs": [],
   "execution_count": 15
  },
  {
   "metadata": {
    "ExecuteTime": {
     "end_time": "2024-08-10T13:02:25.763408Z",
     "start_time": "2024-08-10T13:02:25.759864Z"
    }
   },
   "cell_type": "code",
   "source": [
    "ons=[ele.transpose() for eles in ons_tmp for ele in eles] # transpose(): when the leading dimmen is different, no problem. but if the tailing dimmen is different, then np.save failed.\n",
    "offs=[ele.transpose() for eles in offs_tmp for ele in eles]\n",
    "print('Len of ons: '+str(len(ons))+'; len of offs: '+str(len(offs))+'.')"
   ],
   "id": "f49ad8802658d8bd",
   "outputs": [
    {
     "name": "stdout",
     "output_type": "stream",
     "text": [
      "Len of ons: 366; len of offs: 366.\n"
     ]
    }
   ],
   "execution_count": 43
  },
  {
   "metadata": {
    "ExecuteTime": {
     "end_time": "2024-08-10T13:02:45.613747Z",
     "start_time": "2024-08-10T13:02:45.088031Z"
    }
   },
   "cell_type": "code",
   "source": [
    "result={}\n",
    "result['ons']=np.array(ons,dtype=object)\n",
    "result['offs']=np.array(offs,dtype=object)\n",
    "filename=data_dir+'processed/'+modality+str(sid)+'/on_off_beat/on_off_epochs.npy'\n",
    "np.save(filename, result)"
   ],
   "id": "9297bf2ffa598c24",
   "outputs": [],
   "execution_count": 44
  },
  {
   "metadata": {},
   "cell_type": "code",
   "outputs": [],
   "execution_count": null,
   "source": "",
   "id": "6f8d274f3f355fc4"
  }
 ],
 "metadata": {
  "kernelspec": {
   "display_name": "bci",
   "language": "python",
   "name": "bci"
  },
  "language_info": {
   "codemirror_mode": {
    "name": "ipython",
    "version": 2
   },
   "file_extension": ".py",
   "mimetype": "text/x-python",
   "name": "python",
   "nbconvert_exporter": "python",
   "pygments_lexer": "ipython2",
   "version": "2.7.6"
  }
 },
 "nbformat": 4,
 "nbformat_minor": 5
}
