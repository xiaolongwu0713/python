{
 "cells": [
  {
   "metadata": {},
   "cell_type": "markdown",
   "source": [
    "This script tries to find any issue with mel-cepstral distortion (MCD).\n",
    "\n",
    "This code looks good: https://github.com/jasminsternkopf/mel_cepstral_distance "
   ],
   "id": "8eb49a07ee1514d5"
  },
  {
   "metadata": {
    "ExecuteTime": {
     "end_time": "2024-12-18T12:03:22.429973Z",
     "start_time": "2024-12-18T12:03:21.138001Z"
    }
   },
   "cell_type": "code",
   "source": [
    "from dSPEECH.config import *\n",
    "import numpy as np\n",
    "import matplotlib.pyplot as plt\n",
    "import librosa\n",
    "import glob\n",
    "from scipy.io import wavfile\n",
    "from dSPEECH.evaluation_matrix.utils.util import colored_line"
   ],
   "id": "1b5f242b11ea25d7",
   "outputs": [
    {
     "name": "stdout",
     "output_type": "stream",
     "text": [
      "pre_all: Running from CMD.\n"
     ]
    }
   ],
   "execution_count": 1
  },
  {
   "metadata": {
    "ExecuteTime": {
     "end_time": "2024-12-18T12:03:24.085668Z",
     "start_time": "2024-12-18T12:03:24.081556Z"
    }
   },
   "cell_type": "code",
   "source": "folders=['dataset1/reconstructed/mel_23/sid6/','dataset2/audio_samples/','dataset3/','dataset4/','dataset5/','dataset6/','dataset7/','dataset8/','dataset9/','dataset10/']",
   "id": "379f31754b34423b",
   "outputs": [],
   "execution_count": 2
  },
  {
   "metadata": {
    "ExecuteTime": {
     "end_time": "2024-12-18T12:03:25.525943Z",
     "start_time": "2024-12-18T12:03:25.517636Z"
    }
   },
   "cell_type": "code",
   "source": [
    "target_files=[]\n",
    "for i in range(len(folders)):\n",
    "    all_files_tmp=data_dir+'evaluation_matrix/'+folders[i]+'target_trial_*.wav'\n",
    "    all_files=glob.glob(all_files_tmp)\n",
    "    tmp=[]\n",
    "    \n",
    "    for j in range(len(all_files)):\n",
    "        file=os.path.normpath(all_files[j])\n",
    "        tmp.append(file)\n",
    "    target_files.append(tmp)"
   ],
   "id": "fd9538f344ac130c",
   "outputs": [],
   "execution_count": 3
  },
  {
   "metadata": {
    "ExecuteTime": {
     "end_time": "2024-12-18T12:03:27.289376Z",
     "start_time": "2024-12-18T12:03:27.281979Z"
    }
   },
   "cell_type": "code",
   "source": [
    "pred_files=[]\n",
    "for i in range(len(folders)):\n",
    "    all_files_tmp=data_dir+'evaluation_matrix/'+folders[i]+'pred_trial_*.wav'\n",
    "    all_files=glob.glob(all_files_tmp)\n",
    "    tmp=[]\n",
    "    \n",
    "    for j in range(len(all_files)):\n",
    "        file=os.path.normpath(all_files[j])\n",
    "        tmp.append(file)\n",
    "    pred_files.append(tmp)"
   ],
   "id": "5c54957323b8520e",
   "outputs": [],
   "execution_count": 4
  },
  {
   "metadata": {
    "ExecuteTime": {
     "end_time": "2024-12-18T12:05:00.060875Z",
     "start_time": "2024-12-18T12:04:47.619123Z"
    }
   },
   "cell_type": "code",
   "source": [
    "from mel_cepstral_distance import compare_audio_files\n",
    "mcd_all=[]\n",
    "for i in range(len(target_files)):\n",
    "    wave_files_target=target_files[i] # per dataset\n",
    "    wave_files_pred=pred_files[i] # per dataset\n",
    "    mcd_trials=[]\n",
    "    for j in range(len(wave_files_target)):\n",
    "        trial_target=wave_files_target[j] # per wave file        \n",
    "        trial_pred=wave_files_pred[j]\n",
    "        \n",
    "        mcd, penalty = compare_audio_files(trial_target,trial_pred) # n_fft=512,win_len=512 (it's in ms, not samples)\n",
    "        mcd_trials.append(mcd)\n",
    "    mcd_all.append(mcd_trials)"
   ],
   "id": "b2578e4aa2318541",
   "outputs": [
    {
     "ename": "KeyboardInterrupt",
     "evalue": "",
     "output_type": "error",
     "traceback": [
      "\u001B[1;31m---------------------------------------------------------------------------\u001B[0m",
      "\u001B[1;31mKeyboardInterrupt\u001B[0m                         Traceback (most recent call last)",
      "Cell \u001B[1;32mIn[7], line 11\u001B[0m\n\u001B[0;32m      8\u001B[0m     trial_target\u001B[38;5;241m=\u001B[39mwave_files_target[j] \u001B[38;5;66;03m# per wave file        \u001B[39;00m\n\u001B[0;32m      9\u001B[0m     trial_pred\u001B[38;5;241m=\u001B[39mwave_files_pred[j]\n\u001B[1;32m---> 11\u001B[0m     mcd, penalty \u001B[38;5;241m=\u001B[39m compare_audio_files(trial_target,trial_pred) \u001B[38;5;66;03m# n_fft=512,win_len=512 (it's in ms, not samples)\u001B[39;00m\n\u001B[0;32m     12\u001B[0m     mcd_trials\u001B[38;5;241m.\u001B[39mappend(mcd)\n\u001B[0;32m     13\u001B[0m mcd_all\u001B[38;5;241m.\u001B[39mappend(mcd_trials)\n",
      "File \u001B[1;32m_pydevd_bundle\\\\pydevd_cython_win32_312_64.pyx:1187\u001B[0m, in \u001B[0;36m_pydevd_bundle.pydevd_cython_win32_312_64.SafeCallWrapper.__call__\u001B[1;34m()\u001B[0m\n",
      "File \u001B[1;32m_pydevd_bundle\\\\pydevd_cython_win32_312_64.pyx:627\u001B[0m, in \u001B[0;36m_pydevd_bundle.pydevd_cython_win32_312_64.PyDBFrame.trace_dispatch\u001B[1;34m()\u001B[0m\n",
      "File \u001B[1;32m_pydevd_bundle\\\\pydevd_cython_win32_312_64.pyx:937\u001B[0m, in \u001B[0;36m_pydevd_bundle.pydevd_cython_win32_312_64.PyDBFrame.trace_dispatch\u001B[1;34m()\u001B[0m\n",
      "File \u001B[1;32m_pydevd_bundle\\\\pydevd_cython_win32_312_64.pyx:928\u001B[0m, in \u001B[0;36m_pydevd_bundle.pydevd_cython_win32_312_64.PyDBFrame.trace_dispatch\u001B[1;34m()\u001B[0m\n",
      "File \u001B[1;32m_pydevd_bundle\\\\pydevd_cython_win32_312_64.pyx:585\u001B[0m, in \u001B[0;36m_pydevd_bundle.pydevd_cython_win32_312_64.PyDBFrame.do_wait_suspend\u001B[1;34m()\u001B[0m\n",
      "File \u001B[1;32mC:\\Program Files\\JetBrains\\PyCharm 2024.1.4\\plugins\\python\\helpers\\pydev\\pydevd.py:1201\u001B[0m, in \u001B[0;36mPyDB.do_wait_suspend\u001B[1;34m(self, thread, frame, event, arg, send_suspend_message, is_unhandled_exception)\u001B[0m\n\u001B[0;32m   1198\u001B[0m         from_this_thread\u001B[38;5;241m.\u001B[39mappend(frame_id)\n\u001B[0;32m   1200\u001B[0m \u001B[38;5;28;01mwith\u001B[39;00m \u001B[38;5;28mself\u001B[39m\u001B[38;5;241m.\u001B[39m_threads_suspended_single_notification\u001B[38;5;241m.\u001B[39mnotify_thread_suspended(thread_id, stop_reason):\n\u001B[1;32m-> 1201\u001B[0m     \u001B[38;5;28;43mself\u001B[39;49m\u001B[38;5;241;43m.\u001B[39;49m\u001B[43m_do_wait_suspend\u001B[49m\u001B[43m(\u001B[49m\u001B[43mthread\u001B[49m\u001B[43m,\u001B[49m\u001B[43m \u001B[49m\u001B[43mframe\u001B[49m\u001B[43m,\u001B[49m\u001B[43m \u001B[49m\u001B[43mevent\u001B[49m\u001B[43m,\u001B[49m\u001B[43m \u001B[49m\u001B[43marg\u001B[49m\u001B[43m,\u001B[49m\u001B[43m \u001B[49m\u001B[43msuspend_type\u001B[49m\u001B[43m,\u001B[49m\u001B[43m \u001B[49m\u001B[43mfrom_this_thread\u001B[49m\u001B[43m)\u001B[49m\n",
      "File \u001B[1;32mC:\\Program Files\\JetBrains\\PyCharm 2024.1.4\\plugins\\python\\helpers\\pydev\\pydevd.py:1216\u001B[0m, in \u001B[0;36mPyDB._do_wait_suspend\u001B[1;34m(self, thread, frame, event, arg, suspend_type, from_this_thread)\u001B[0m\n\u001B[0;32m   1213\u001B[0m             \u001B[38;5;28mself\u001B[39m\u001B[38;5;241m.\u001B[39m_call_mpl_hook()\n\u001B[0;32m   1215\u001B[0m         \u001B[38;5;28mself\u001B[39m\u001B[38;5;241m.\u001B[39mprocess_internal_commands()\n\u001B[1;32m-> 1216\u001B[0m         \u001B[43mtime\u001B[49m\u001B[38;5;241;43m.\u001B[39;49m\u001B[43msleep\u001B[49m\u001B[43m(\u001B[49m\u001B[38;5;241;43m0.01\u001B[39;49m\u001B[43m)\u001B[49m\n\u001B[0;32m   1218\u001B[0m \u001B[38;5;28mself\u001B[39m\u001B[38;5;241m.\u001B[39mcancel_async_evaluation(get_current_thread_id(thread), \u001B[38;5;28mstr\u001B[39m(\u001B[38;5;28mid\u001B[39m(frame)))\n\u001B[0;32m   1220\u001B[0m \u001B[38;5;66;03m# process any stepping instructions\u001B[39;00m\n",
      "\u001B[1;31mKeyboardInterrupt\u001B[0m: "
     ]
    }
   ],
   "execution_count": 7
  }
 ],
 "metadata": {
  "kernelspec": {
   "display_name": "Python 3",
   "language": "python",
   "name": "python3"
  },
  "language_info": {
   "codemirror_mode": {
    "name": "ipython",
    "version": 2
   },
   "file_extension": ".py",
   "mimetype": "text/x-python",
   "name": "python",
   "nbconvert_exporter": "python",
   "pygments_lexer": "ipython2",
   "version": "2.7.6"
  }
 },
 "nbformat": 4,
 "nbformat_minor": 5
}
