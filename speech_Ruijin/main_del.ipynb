{
 "nbformat": 4,
 "nbformat_minor": 0,
 "metadata": {
  "colab": {
   "provenance": [],
   "gpuType": "T4",
   "mount_file_id": "1xtivtFcesMSHBzb9NJx-7IIqGEnSDrbm",
   "authorship_tag": "ABX9TyNxnH1gMzDoTlzdPVcHDMvf"
  },
  "kernelspec": {
   "name": "python3",
   "display_name": "Python 3"
  },
  "language_info": {
   "name": "python"
  },
  "accelerator": "GPU"
 },
 "cells": [
  {
   "cell_type": "code",
   "execution_count": 1,
   "metadata": {
    "colab": {
     "base_uri": "https://localhost:8080/"
    },
    "id": "WmNNe5ZSKPHK",
    "executionInfo": {
     "status": "ok",
     "timestamp": 1690217790985,
     "user_tz": -480,
     "elapsed": 15,
     "user": {
      "displayName": "Long WU",
      "userId": "09414210733761439327"
     }
    },
    "outputId": "a52d4590-fafc-4264-c360-3e4e0a3df812"
   },
   "outputs": [
    {
     "output_type": "stream",
     "name": "stdout",
     "text": [
      "/content/drive/MyDrive/python\n"
     ]
    }
   ],
   "source": [
    "%cd /content/drive/MyDrive/python\n",
    "# raw_data is imported from global config"
   ]
  },
  {
   "cell_type": "code",
   "source": [
    "import os\n",
    "os.getcwd()"
   ],
   "metadata": {
    "colab": {
     "base_uri": "https://localhost:8080/",
     "height": 36
    },
    "id": "RtW-6ax4MrgU",
    "executionInfo": {
     "status": "ok",
     "timestamp": 1690217790986,
     "user_tz": -480,
     "elapsed": 12,
     "user": {
      "displayName": "Long WU",
      "userId": "09414210733761439327"
     }
    },
    "outputId": "413dce1b-0f37-43fd-d406-4567056035ed"
   },
   "execution_count": 2,
   "outputs": [
    {
     "output_type": "execute_result",
     "data": {
      "text/plain": [
       "'/content/drive/MyDrive/python'"
      ],
      "application/vnd.google.colaboratory.intrinsic+json": {
       "type": "string"
      }
     },
     "metadata": {},
     "execution_count": 2
    }
   ]
  },
  {
   "cell_type": "code",
   "source": [
    "%%capture\n",
    "! pip install hdf5storage\n",
    "! pip install mne==0.23.0\n",
    "! pip install torch\n",
    "! pip install PIL\n",
    "! pip install tensorboardX\n",
    "! pip install tqdm\n",
    "! pip install TextGrid==1.5"
   ],
   "metadata": {
    "id": "negfauzYKYWj",
    "executionInfo": {
     "status": "ok",
     "timestamp": 1690217824914,
     "user_tz": -480,
     "elapsed": 33938,
     "user": {
      "displayName": "Long WU",
      "userId": "09414210733761439327"
     }
    }
   },
   "execution_count": 3,
   "outputs": []
  },
  {
   "cell_type": "code",
   "source": [
    "from speech_Ruijin.transformer.lib.train import *\n",
    "# if error happens, change this: \"from scipy.misc import logsumexp\" to \"from scipy.special import logsumexp\"\n",
    "import PIL\n",
    "import io\n",
    "from torchvision.transforms import ToTensor\n",
    "import numpy as np\n",
    "#import matplotlib\n",
    "#matplotlib.use('Qt5Agg')\n",
    "import matplotlib.pyplot as plt\n",
    "import torch.nn as nn\n",
    "import torch\n",
    "from torch.utils.data import Dataset\n",
    "from torch.utils.data import DataLoader\n",
    "npr.seed(0)\n",
    "torch.manual_seed(1)\n",
    "torch.cuda.manual_seed_all(2)\n",
    "\n",
    "from speech_Ruijin.utils import fold_2d23d\n",
    "from speech_Ruijin.config import data_dir\n",
    "from datetime import datetime\n",
    "import pytz\n",
    "from tensorboardX import SummaryWriter\n",
    "from pre_all import computer, debugging, running_from_CMD\n",
    "\n"
   ],
   "metadata": {
    "colab": {
     "base_uri": "https://localhost:8080/"
    },
    "id": "F1WBsvlkKd0H",
    "executionInfo": {
     "status": "ok",
     "timestamp": 1690217829725,
     "user_tz": -480,
     "elapsed": 4829,
     "user": {
      "displayName": "Long WU",
      "userId": "09414210733761439327"
     }
    },
    "outputId": "4c5bbad1-3e52-482a-92f6-fb59366f446b"
   },
   "execution_count": 4,
   "outputs": [
    {
     "output_type": "stream",
     "name": "stdout",
     "text": [
      "pre_all: Running from CMD.\n"
     ]
    }
   ]
  },
  {
   "cell_type": "code",
   "source": [
    "sid = 3\n",
    "mel_bins=23\n",
    "\n",
    "testing=False\n",
    "testing=(testing or debugging or computer=='mac')\n",
    "print('sid: '+str(sid)+ '; Testing mode:'+str(testing))\n",
    "the_time=datetime.now(pytz.timezone('Asia/Shanghai'))\n",
    "#result_dir=data_dir+'seq2seq_transformer/sid_'+str(sid)+'/'+ the_time.strftime('%Y_%m_%d') + '_' + the_time.strftime('%H_%M')+'/'\n",
    "dataname='SingleWordProductionDutch'\n",
    "result_dir=data_dir+'seq2seq_transformer/'+dataname+'/'+'mel_'+str(mel_bins)+'/sid_'+str(sid)+'/'\\\n",
    "           +the_time.strftime('%Y_%m_%d') + '_' + the_time.strftime('%H_%M')\n",
    "if testing:\n",
    "    result_dir=result_dir+'_testing/'\n",
    "else:\n",
    "    result_dir=result_dir+'/'\n",
    "if not os.path.exists(result_dir):\n",
    "    os.makedirs(result_dir)\n",
    "print('Result dir: '+ result_dir+'.')\n",
    "writer = SummaryWriter(result_dir)"
   ],
   "metadata": {
    "colab": {
     "base_uri": "https://localhost:8080/"
    },
    "id": "Yq0-l8LSLOth",
    "executionInfo": {
     "status": "ok",
     "timestamp": 1690217829726,
     "user_tz": -480,
     "elapsed": 10,
     "user": {
      "displayName": "Long WU",
      "userId": "09414210733761439327"
     }
    },
    "outputId": "0fab6bd8-49d7-49c9-8ef3-5519d08b6d3a"
   },
   "execution_count": 5,
   "outputs": [
    {
     "output_type": "stream",
     "name": "stdout",
     "text": [
      "sid: 3; Testing mode:False\n",
      "Result dir: /content/drive/MyDrive/data/speech_RuiJin/seq2seq_transformer/SingleWordProductionDutch/mel_23/sid_3/2023_07_25_00_57/.\n"
     ]
    }
   ]
  },
  {
   "cell_type": "code",
   "source": [
    "%%capture\n",
    "! pip install pynwb==2.3.2\n",
    "! pip install resampy==0.4.2"
   ],
   "metadata": {
    "id": "bbGSYlL1O03p",
    "executionInfo": {
     "status": "ok",
     "timestamp": 1690217842360,
     "user_tz": -480,
     "elapsed": 12641,
     "user": {
      "displayName": "Long WU",
      "userId": "09414210733761439327"
     }
    }
   },
   "execution_count": 6,
   "outputs": []
  },
  {
   "cell_type": "code",
   "source": [
    "continous_data=True\n",
    "from speech_Ruijin.dataset import dataset_Dutch\n",
    "x, y = dataset_Dutch(dataset_name=dataname, sid=sid, mel_bins=mel_bins, continous=continous_data)\n",
    "#x, y = get_data(dataname=dataname, sid=sid,continous_data=continous_data,mel_bins=mel_bins)  # x: (512482,127), y:(344858, 80)\n",
    "print('Finish reading data.')\n",
    "xy_ratio = y.shape[0] / x.shape[0]\n"
   ],
   "metadata": {
    "colab": {
     "base_uri": "https://localhost:8080/"
    },
    "id": "gvCcApj-LYsD",
    "executionInfo": {
     "status": "ok",
     "timestamp": 1690217889273,
     "user_tz": -480,
     "elapsed": 46942,
     "user": {
      "displayName": "Long WU",
      "userId": "09414210733761439327"
     }
    },
    "outputId": "70ab6063-4e60-4c18-ab1b-7a5192032751"
   },
   "execution_count": 7,
   "outputs": [
    {
     "output_type": "stream",
     "name": "stdout",
     "text": [
      "Read EEG file: /content/drive/MyDrive/data/SingleWordProductionDutch/sub-03/ieeg/sub-03_task-wordProduction_ieeg.nwb\n",
      "Finish reading data.\n"
     ]
    }
   ]
  },
  {
   "cell_type": "code",
   "source": [
    "lenx=x.shape[0]\n",
    "leny=y.shape[0]\n",
    "train_x=x[:int(lenx * 0.8),:] # (246017, 127)\n",
    "val_x=x[int(lenx * 0.8):int(lenx * 0.9),:]\n",
    "test_x=x[int(lenx * 0.9):,:]\n",
    "train_y=y[:int(leny * 0.8),:]\n",
    "val_y=y[int(leny * 0.8):int(leny * 0.9),:]\n",
    "test_y=y[int(leny * 0.9):,:]"
   ],
   "metadata": {
    "id": "YzF5SBdQLd5A",
    "executionInfo": {
     "status": "ok",
     "timestamp": 1690217889274,
     "user_tz": -480,
     "elapsed": 8,
     "user": {
      "displayName": "Long WU",
      "userId": "09414210733761439327"
     }
    }
   },
   "execution_count": 8,
   "outputs": []
  },
  {
   "cell_type": "code",
   "source": [
    "\n",
    "norm_mel=False\n",
    "if norm_mel:\n",
    "    mu = np.mean(y, axis=0)\n",
    "    std = np.std(y, axis=0)\n",
    "    y = (y - mu) / std\n",
    "\n",
    "norm_EEG=True\n",
    "if norm_EEG:\n",
    "    mu=np.mean(train_x,axis=0)\n",
    "    std=np.std(train_x,axis=0)\n",
    "    train_x=(train_x-mu)/std\n",
    "\n",
    "    mu = np.mean(val_x, axis=0)\n",
    "    std = np.std(val_x, axis=0)\n",
    "    val_x=(val_x-mu)/std\n",
    "\n",
    "    mu = np.mean(test_x, axis=0)\n",
    "    std = np.std(test_x, axis=0)\n",
    "    test_x=(test_x-mu)/std\n",
    "use_pca=False\n",
    "if use_pca:\n",
    "    from sklearn.decomposition import PCA\n",
    "    pca = PCA() #  (n_samples, n_features)\n",
    "    numComps=100\n",
    "    #Fit PCA to training data\n",
    "    pca.fit(train_x)\n",
    "    #Get percentage of explained variance by selected components\n",
    "    explainedVariance =  np.sum(pca.explained_variance_ratio_[:numComps])\n",
    "    #Tranform data into component space\n",
    "    train_x=np.dot(train_x, pca.components_[:numComps,:].T)\n",
    "    val_x = np.dot(val_x, pca.components_[:numComps,:].T)\n",
    "    test_x = np.dot(test_x, pca.components_[:numComps,:].T)"
   ],
   "metadata": {
    "id": "W3BNIKw0LgZk",
    "executionInfo": {
     "status": "ok",
     "timestamp": 1690217889763,
     "user_tz": -480,
     "elapsed": 495,
     "user": {
      "displayName": "Long WU",
      "userId": "09414210733761439327"
     }
    }
   },
   "execution_count": 9,
   "outputs": []
  },
  {
   "cell_type": "code",
   "source": [
    "\n",
    "# shape: (1000batch, 300time, 10channel)\n",
    "win=100\n",
    "if testing:\n",
    "    stride=100\n",
    "else:\n",
    "    stride=10\n",
    "sf_EEG=1024\n",
    "history=0.15 # s history data\n",
    "history=int(history*sf_EEG)\n",
    "win_x, win_y, shift_x, shift_y = win+history, win* xy_ratio, stride, stride * xy_ratio\n",
    "x_train,y_train=fold_2d23d(train_x.transpose(),train_y[history:,:].transpose(), win_x, win_y, shift_x,shift_y)\n",
    "x_val,y_val=fold_2d23d(val_x.transpose(),val_y[history:,:].transpose(), win_x, win_y, shift_x,shift_y)\n",
    "x_train,y_train,x_val,y_val=[x.transpose(0,2,1) for x in (x_train,y_train,x_val,y_val)]\n",
    "\n",
    "stride_test=stride # could be different from train/val stride\n",
    "win_x, win_y, shift_x, shift_y = win+history, win* xy_ratio, stride_test, stride_test * xy_ratio\n",
    "x_test,y_test=fold_2d23d(test_x.transpose(),test_y[history:,:].transpose(), win_x, win_y, shift_x,shift_y)\n",
    "x_test,y_test=x_test.transpose(0,2,1),y_test.transpose(0,2,1)\n",
    "input_d, output_d = x_train.shape[2], y_train.shape[2]\n",
    "input_len=x_train.shape[1]\n",
    "out_len = y_val.shape[1]\n",
    "print('input_d: '+str(input_d)+', input length: '+str(input_len)+', output_d: '+str(output_d)+' ,output length: '+str(out_len)+'.')\n"
   ],
   "metadata": {
    "colab": {
     "base_uri": "https://localhost:8080/"
    },
    "id": "aNV1TkNDLiy8",
    "executionInfo": {
     "status": "ok",
     "timestamp": 1690217893380,
     "user_tz": -480,
     "elapsed": 3620,
     "user": {
      "displayName": "Long WU",
      "userId": "09414210733761439327"
     }
    },
    "outputId": "387f090b-44d5-4683-c3bc-7a67ca1da0ca"
   },
   "execution_count": 10,
   "outputs": [
    {
     "output_type": "stream",
     "name": "stdout",
     "text": [
      "input_d: 127, input length: 253, output_d: 23 ,output length: 100.\n"
     ]
    }
   ]
  },
  {
   "cell_type": "code",
   "source": [
    "from common_dl import myDataset\n",
    "dataset_train = myDataset(x_train, y_train)\n",
    "dataset_val = myDataset(x_val, y_val)\n",
    "dataset_test = myDataset(x_test, y_test)\n",
    "\n",
    "batch_size = 128\n",
    "dataloader_train = DataLoader(dataset=dataset_train,batch_size=batch_size,shuffle=True)\n",
    "dataloader_val = DataLoader(dataset=dataset_val,batch_size=batch_size,shuffle=True)\n",
    "batch_number=len(dataloader_train)\n",
    "#batch_size=1\n",
    "dataloader_test = DataLoader(dataset=dataset_test,batch_size=batch_size,shuffle=False)\n"
   ],
   "metadata": {
    "id": "5oR_712LLqJX",
    "executionInfo": {
     "status": "ok",
     "timestamp": 1690217893381,
     "user_tz": -480,
     "elapsed": 6,
     "user": {
      "displayName": "Long WU",
      "userId": "09414210733761439327"
     }
    }
   },
   "execution_count": 11,
   "outputs": []
  },
  {
   "cell_type": "code",
   "source": [
    "\n",
    "opt = {}\n",
    "opt['norm_mel'] = norm_mel\n",
    "opt['Transformer-layers'] = 6 # 6\n",
    "opt['Model-dimensions'] = 256 # 256\n",
    "opt['feedford-size'] = 512 # 512\n",
    "opt['headers'] = 8 # 8\n",
    "opt['dropout'] = 0.2\n",
    "opt['src_d'] = input_d # input dimension\n",
    "opt['tgt_d'] = output_d # output dimension\n",
    "opt['out_len'] = out_len\n",
    "\n",
    "from pre_all import device\n",
    "criterion = nn.MSELoss() # mean squared error\n",
    "# setup model using hyperparameters defined above\n",
    "encoder_only=False\n",
    "spatial_attention=False\n",
    "model = make_model(opt['src_d'],opt['tgt_d'],N=opt['Transformer-layers'],\n",
    "                   d_model=opt['Model-dimensions'],d_ff=opt['feedford-size'],h=opt['headers'],\n",
    "                   dropout=opt['dropout'],norm_mel=opt['norm_mel'],encoder_only=encoder_only,spatial_attention=spatial_attention).to(device)\n",
    "\n",
    "# setup optimization function\n",
    "model_opt = NoamOpt(model_size=opt['Model-dimensions'], factor=1, warmup=400,\n",
    "        optimizer = torch.optim.Adam(model.parameters(), lr=0.002, betas=(0.9, 0.98), eps=1e-9))\n",
    "#optimizer = torch.optim.Adam(model.parameters(), lr=0.015, betas=(0.9, 0.98), eps=1e-9)\n",
    "\n",
    "resume=False\n",
    "if resume:\n",
    "    print('Load pre-trained model.')\n",
    "    check_file='H:/Long/data/speech_Ruijin/seq2seq_transformer/2023_07_07_17_04/99.pth'\n",
    "    from common_dl import device\n",
    "    checkpoint = torch.load(check_file,map_location=device)\n",
    "    model.load_state_dict(checkpoint['model_state_dict'])\n",
    "    model_opt.optimizer.load_state_dict(checkpoint['optimizer_state_dict'])\n",
    "    resume_epoch=checkpoint['epoch']\n",
    "else:\n",
    "    resume_epoch=0\n",
    "\n",
    "fig,ax=plt.subplots(2,1, figsize=(10,20))\n",
    "#fig_att,ax_att=plt.subplots(figsize=(10,20))\n",
    "total_epoch = 100\n",
    "patients=10\n",
    "train_losses = []\n",
    "val_losses = []\n",
    "val_teacher_force=False\n",
    "# log some meta data\n",
    "opt_str='win: '+str(win)+ ', stride: '+str(stride)+ ', norm_EEG: '+str(norm_EEG)+', norm_mel: '+str(norm_mel) \\\n",
    "        +', val_teacher_force:'+str(val_teacher_force)+', spatial_attention:'+str(spatial_attention)\\\n",
    "        +' encoder_only:'+str(encoder_only)+' .Batch_size:'+str(batch_size)+' .layers: '+str(opt['Transformer-layers'])+\\\n",
    "        ' ,model_d: '+str(opt['Model-dimensions'])+\\\n",
    "        ', ffd size: '+str(opt['feedford-size'])+' ,headers: '+str(opt['headers'])+' ,dropout: '+str(opt['dropout'])\n",
    "experiment_description = dataname + str(sid) + \": \" + opt_str\n",
    "writer.add_text('Experiment description', experiment_description, 0)\n"
   ],
   "metadata": {
    "colab": {
     "base_uri": "https://localhost:8080/",
     "height": 1000
    },
    "id": "7wxqEX7ULu5J",
    "executionInfo": {
     "status": "ok",
     "timestamp": 1690217902690,
     "user_tz": -480,
     "elapsed": 9313,
     "user": {
      "displayName": "Long WU",
      "userId": "09414210733761439327"
     }
    },
    "outputId": "3cca849c-6ca2-4f6d-b69d-0e4efd8f6347"
   },
   "execution_count": 12,
   "outputs": [
    {
     "output_type": "display_data",
     "data": {
      "text/plain": [
       "<Figure size 1000x2000 with 2 Axes>"
      ],
      "image/png": "[encoded data removed]"
     },
     "metadata": {}
    }
   ]
  },
  {
   "cell_type": "code",
   "source": [
    "\n",
    "from tqdm import tqdm\n",
    "att_encoders, att_decoders, att_enc_decs=[],[],[] # [total_epoch,N, 64, 8, 99, 99]\n",
    "for epoch in tqdm(range(total_epoch)):\n",
    "    epoch = epoch + resume_epoch\n",
    "    model.train()\n",
    "    train_loss,pred,truth,att_encoder, att_decoder, att_enc_dec = run_epoch(epoch,batch_number,writer,data_gen(dataloader_train,encoder_only=encoder_only), model,SimpleLossCompute(model.generator, criterion, model_opt))\n",
    "    # N*[8, 99, 99]-cat->[N, 8, 99, 99]\n",
    "    att_encoders.append(np.concatenate(att_encoder)) # N*[8, 99, 99]\n",
    "    att_decoders.append(np.concatenate(att_decoder))\n",
    "    att_enc_decs.append(np.concatenate(att_enc_dec))\n",
    "    #train_loss, pred, truth = run_epoch(data_gen(dataloader_train), model,criterion,optimizer)\n",
    "    train_losses.append(train_loss)\n",
    "\n",
    "\n",
    "    ax[0].imshow(truth.cpu()[-1,:, :].numpy().squeeze(), cmap='RdBu_r')\n",
    "    ax[1].imshow(pred.cpu()[-1,:, :].detach().numpy().squeeze(), cmap='RdBu_r')\n",
    "    buf = io.BytesIO()\n",
    "    plt.savefig(buf, format='jpeg')\n",
    "    buf.seek(0)\n",
    "    image = PIL.Image.open(buf)\n",
    "    image = ToTensor()(image).unsqueeze(0)\n",
    "    writer.add_image('Image/train', image[0], epoch)\n",
    "    ax[0].clear()\n",
    "    ax[1].clear()\n",
    "\n",
    "    # attention plot: att_encoders: [N, 8, 99, 99]\n",
    "    ax[0].imshow(att_encoder[-1][0,:,:], cmap='RdBu_r') # -1:last encoder layer, 0:the first head\n",
    "    buf = io.BytesIO()\n",
    "    plt.savefig(buf, format='jpeg')\n",
    "    buf.seek(0)\n",
    "    image = PIL.Image.open(buf)\n",
    "    image = ToTensor()(image).unsqueeze(0)\n",
    "    writer.add_image('attention/encoder', image[0], epoch)\n",
    "    ax[0].clear()\n",
    "\n",
    "    ax[0].imshow(att_decoder[-1][0, :, :], cmap='RdBu_r')  # -1:last encoder layer, 0:the first head\n",
    "    buf = io.BytesIO()\n",
    "    plt.savefig(buf, format='jpeg')\n",
    "    buf.seek(0)\n",
    "    image = PIL.Image.open(buf)\n",
    "    image = ToTensor()(image).unsqueeze(0)\n",
    "    writer.add_image('attention/decoder', image[0], epoch)\n",
    "    ax[0].clear()\n",
    "\n",
    "    ax[0].imshow(att_enc_dec[-1][0, :, :], cmap='RdBu_r')  # -1:last encoder layer, 0:the first head\n",
    "    buf = io.BytesIO()\n",
    "    plt.savefig(buf, format='jpeg')\n",
    "    buf.seek(0)\n",
    "    image = PIL.Image.open(buf)\n",
    "    image = ToTensor()(image).unsqueeze(0)\n",
    "    writer.add_image('attention/enc_dec', image[0], epoch)\n",
    "    ax[0].clear()\n",
    "\n",
    "    print('Validating...')\n",
    "    model.eval() # test the model\n",
    "\n",
    "    if val_teacher_force:\n",
    "        #This is a bad validating method, because it uses teacher force like in the training step.\n",
    "        with torch.no_grad():\n",
    "            val_loss,pred,truth, att_encoder, att_decoder, att_enc_dec = run_epoch(epoch,batch_number,writer,data_gen(dataloader_val,encoder_only=encoder_only), model,SimpleLossCompute(model.generator, criterion, None))\n",
    "            #val_loss, pred, truth = run_epoch(data_gen(dataloader_val), model,criterion, None)\n",
    "            val_losses.append(val_loss)\n",
    "            val_loss_avg=val_loss\n",
    "        ax[0].imshow(truth.cpu()[-1, :, :].numpy().squeeze(), cmap='RdBu_r')\n",
    "        ax[1].imshow(pred.cpu()[-1, :, :].detach().numpy().squeeze(), cmap='RdBu_r')\n",
    "        buf = io.BytesIO()\n",
    "        plt.savefig(buf, format='jpeg')\n",
    "        buf.seek(0)\n",
    "        image = PIL.Image.open(buf)\n",
    "        image = ToTensor()(image).unsqueeze(0)\n",
    "        writer.add_image('Image/val', image[0], epoch)\n",
    "        ax[0].clear()\n",
    "        ax[1].clear()\n",
    "\n",
    "    else:\n",
    "        predictions = []\n",
    "        truths = []\n",
    "        val_losses=[]\n",
    "        for i, (val_x, val_y) in enumerate(dataloader_val):\n",
    "            # batch inference\n",
    "            pred, tgt = output_prediction2(model, val_x, val_y, max_len=opt['out_len'], start_symbol=1,\n",
    "                                           output_d=opt['tgt_d'],\n",
    "                                           device=device, encoder_only=encoder_only)\n",
    "            # the first sample of pred are all 1s\n",
    "            predictions.append(pred[:,1:,:])\n",
    "            truths.append(val_y[:,1:,:])\n",
    "            val_loss = criterion(pred[:,1:,:], val_y[:,1:,:]).item()\n",
    "            val_losses.append(val_loss)\n",
    "\n",
    "            writer.add_scalar('val_loss', val_loss, epoch * len(dataloader_val) + i)\n",
    "\n",
    "        val_loss_avg = sum(val_losses)/len(val_losses)\n",
    "\n",
    "\n",
    "    if epoch==resume_epoch:\n",
    "        best_val_loss=val_loss_avg\n",
    "        patient=patients\n",
    "        best_model={\n",
    "                    'epoch': epoch,\n",
    "                    'model_state_dict': model.state_dict(),\n",
    "                    'optimizer_state_dict': model_opt.optimizer.state_dict(),\n",
    "                    'loss': train_loss,\n",
    "                    }\n",
    "        # save the best mode\n",
    "        filename = result_dir + 'best_model_epoch' + str(epoch) + '.pth'\n",
    "        torch.save(best_model, filename)\n",
    "    else:\n",
    "        if val_loss_avg>best_val_loss:\n",
    "            patient=patient-1\n",
    "        else:\n",
    "            best_val_loss = val_loss_avg\n",
    "            patient=patients\n",
    "            best_model={\n",
    "                    'epoch': epoch,\n",
    "                    'model_state_dict': model.state_dict(),\n",
    "                    'optimizer_state_dict': model_opt.optimizer.state_dict(),\n",
    "                    'loss': train_loss,\n",
    "                    }\n",
    "            filename = result_dir + 'best_model_epoch' + str(epoch) + '.pth'\n",
    "            torch.save(best_model, filename)\n",
    "    print('Epoch[{}/{}], train_loss: {:.6f},val_loss: {:.6f}. Patient: {:d}'.format(epoch, total_epoch+resume_epoch, train_loss, val_loss_avg,patient))\n",
    "\n",
    "    # save mode every 10 epochs\n",
    "    if epoch % 10 ==0:\n",
    "        current_model = {\n",
    "            'epoch': epoch,\n",
    "            'model_state_dict': model.state_dict(),\n",
    "            'optimizer_state_dict': model_opt.optimizer.state_dict(),\n",
    "            'loss': train_loss,\n",
    "        }\n",
    "\n",
    "        filename = result_dir + str(epoch) + '.pth'\n",
    "        #torch.save(current_model, filename)\n",
    "\n",
    "\n",
    "    ## plot testing result every epoch (because training is too slow)\n",
    "    # not suitable for encoder_only mode; just use the validation dataset to monitor the model performance \\\n",
    "    # (no teacher force in encoder_only mode)\n",
    "    skip_testing=True\n",
    "    if not skip_testing:\n",
    "        print('Testing...')\n",
    "        for i, (test_x, test_y) in enumerate(dataloader_test):\n",
    "            #if i > 5:\n",
    "            test_x, test_y = test_x.numpy(), test_y.numpy()\n",
    "            test_x, test_y = test_x[0], test_y[0]\n",
    "            # make a prediction then compare it with its true output\n",
    "            pred, truth = output_prediction(model, test_x, test_y, max_len=opt['out_len'], start_symbol=1,\n",
    "                                            output_d=opt['tgt_d'], device=device,encoder_only=encoder_only)\n",
    "\n",
    "            ax[0].imshow(truth[-1, :, :].squeeze(), cmap='RdBu_r')\n",
    "            ax[1].imshow(pred[-1, :, :].squeeze(), cmap='RdBu_r')\n",
    "            filename = result_dir + str(epoch) + '_' + str(i) + '.png'\n",
    "            fig.savefig(filename)\n",
    "\n",
    "            if i == 20:\n",
    "                break\n",
    "    if patient==0:\n",
    "        #pass # validation using teacher force can't reflect the true generalization\n",
    "        break\n",
    "\n",
    "    if testing:\n",
    "        break\n",
    "filename=result_dir+str(best_model['epoch'])+'.pth'\n",
    "torch.save(best_model,filename)\n",
    "\n",
    "final_model={\n",
    "            'epoch': epoch,\n",
    "            'model_state_dict': model.state_dict(),\n",
    "            'optimizer_state_dict': model_opt.optimizer.state_dict(),\n",
    "            'loss': train_loss,\n",
    "            }\n",
    "\n",
    "# save and load checkpoint\n",
    "filename=result_dir+str(epoch)+'_final.pth'\n",
    "torch.save(final_model,filename)\n",
    "#device=torch.device('cpu')\n",
    "checkpoint = torch.load(filename,map_location=device)\n",
    "model=model.to(device)\n",
    "model.load_state_dict(checkpoint['model_state_dict'])\n",
    "\n",
    "\n",
    "# save attention matrix\n",
    "att={}\n",
    "att['att_encoders']=np.asarray(att_encoders)\n",
    "att['att_decoders']=np.asarray(att_decoders)\n",
    "att['att_enc_decs']=np.asarray(att_enc_decs)\n",
    "filename=result_dir+'attention_matrix.npy'\n",
    "np.save(filename, att)"
   ],
   "metadata": {
    "colab": {
     "base_uri": "https://localhost:8080/"
    },
    "id": "47FzFyvTL0GR",
    "outputId": "9da7f225-1cc1-40dd-b599-59228fcc39a2"
   },
   "execution_count": null,
   "outputs": [
    {
     "output_type": "stream",
     "name": "stderr",
     "text": [
      "\r  0%|          | 0/100 [00:00<?, ?it/s]"
     ]
    },
    {
     "output_type": "stream",
     "name": "stdout",
     "text": [
      "Validating...\n"
     ]
    },
    {
     "output_type": "stream",
     "name": "stderr",
     "text": [
      "\r  1%|          | 1/100 [06:16<10:20:50, 376.27s/it]"
     ]
    },
    {
     "output_type": "stream",
     "name": "stdout",
     "text": [
      "Epoch[0/100], train_loss: 7.832092,val_loss: 33.987886. Patient: 10\n",
      "Validating...\n"
     ]
    },
    {
     "output_type": "stream",
     "name": "stderr",
     "text": [
      "\r  2%|▏         | 2/100 [12:35<10:17:21, 377.97s/it]"
     ]
    },
    {
     "output_type": "stream",
     "name": "stdout",
     "text": [
      "Epoch[1/100], train_loss: 0.395792,val_loss: 31.216030. Patient: 10\n",
      "Validating...\n"
     ]
    },
    {
     "output_type": "stream",
     "name": "stderr",
     "text": [
      "Exception in thread Thread-10:\n",
      "Traceback (most recent call last):\n",
      "  File \"/usr/lib/python3.10/threading.py\", line 1016, in _bootstrap_inner\n",
      "    self.run()\n",
      "  File \"/usr/local/lib/python3.10/dist-packages/tensorboardX/event_file_writer.py\", line 219, in run\n",
      "    self._record_writer.flush()\n",
      "  File \"/usr/local/lib/python3.10/dist-packages/tensorboardX/event_file_writer.py\", line 69, in flush\n",
      "    self._py_recordio_writer.flush()\n",
      "  File \"/usr/local/lib/python3.10/dist-packages/tensorboardX/record_writer.py\", line 193, in flush\n",
      "    self._writer.flush()\n",
      "OSError: [Errno 107] Transport endpoint is not connected\n",
      "  3%|▎         | 3/100 [18:54<10:11:31, 378.27s/it]"
     ]
    },
    {
     "output_type": "stream",
     "name": "stdout",
     "text": [
      "Epoch[2/100], train_loss: 0.455462,val_loss: 9.338175. Patient: 10\n"
     ]
    }
   ]
  },
  {
   "cell_type": "code",
   "source": [
    "print('Haha')"
   ],
   "metadata": {
    "id": "_yPEKkr3NAX9"
   },
   "execution_count": null,
   "outputs": []
  },
  {
   "cell_type": "code",
   "source": [],
   "metadata": {
    "id": "7YT1KOrVNCDN"
   },
   "execution_count": null,
   "outputs": []
  }
 ]
}
