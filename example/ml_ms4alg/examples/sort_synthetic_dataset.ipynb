{
 "cells": [
  {
   "cell_type": "code",
   "execution_count": 1,
   "metadata": {},
   "outputs": [],
   "source": [
    "from ms4alg_pipelines import synthesize_sample_dataset\n",
    "from ms4alg_pipelines import sort_dataset\n",
    "import os"
   ]
  },
  {
   "cell_type": "code",
   "execution_count": 2,
   "metadata": {},
   "outputs": [
    {
     "name": "stdout",
     "output_type": "stream",
     "text": [
      "RUNNING: ml-run-process ephys.synthesize_random_waveforms --inputs --parameters M:4 average_peak_amplitude:100 upsamplefac:13 --outputs geometry_out:dataset/geom.csv waveforms_out:dataset/waveforms_true.mda --verbose=minimal\n",
      "RUNNING: ml-run-process ephys.synthesize_random_firings --inputs --parameters duration:600 --outputs firings_out:dataset/firings_true.mda --verbose=minimal\n",
      "RUNNING: ml-run-process ephys.synthesize_timeseries --inputs firings:dataset/firings_true.mda waveforms:dataset/waveforms_true.mda --parameters duration:600 noise_level:10 waveform_upsamplefac:13 --outputs timeseries_out:dataset/raw.mda.prv --verbose=minimal\n"
     ]
    }
   ],
   "source": [
    "synthesize_sample_dataset(dataset_dir='dataset',opts={'verbose':'minimal'})"
   ]
  },
  {
   "cell_type": "code",
   "execution_count": 3,
   "metadata": {},
   "outputs": [
    {
     "name": "stdout",
     "output_type": "stream",
     "text": [
      "RUNNING: ml-run-process ephys.bandpass_filter --inputs timeseries:dataset/raw.mda --parameters freq_max:6000 freq_min:300 samplerate:30000 --outputs timeseries_out:output/filt.mda.prv --verbose=minimal\n",
      "RUNNING: ml-run-process ephys.whiten --inputs timeseries:output/filt.mda.prv --parameters --outputs timeseries_out:output/pre.mda.prv --verbose=minimal\n",
      "RUNNING: ml-run-process ms4alg.sort --inputs geom:dataset/geom.csv timeseries:output/pre.mda.prv --parameters adjacency_radius:-1 detect_sign:1 detect_threshold:3 --outputs firings_out:output/firings.mda --verbose=minimal\n",
      "RUNNING: ml-run-process ms3.cluster_metrics --inputs firings:output/firings.mda timeseries:output/pre.mda.prv --parameters samplerate:30000 --outputs cluster_metrics_out:/tmp/mountainlab-tmp/mountainlab/tmp_short_term/output_cluster_metrics_out_c2fdbc02c1895ed5197f0b337278fb363092df59.prv --verbose=minimal\n",
      "RUNNING: ml-run-process ms3.isolation_metrics --inputs firings:output/firings.mda timeseries:output/pre.mda.prv --parameters compute_bursting_parents:true --outputs metrics_out:/tmp/mountainlab-tmp/mountainlab/tmp_short_term/output_metrics_out_e602c4faadf29aeeea1913944686f169a69915fe.prv --verbose=minimal\n",
      "RUNNING: ml-run-process ms3.combine_cluster_metrics --inputs metrics_list:/tmp/mountainlab-tmp/mountainlab/tmp_short_term/output_cluster_metrics_out_c2fdbc02c1895ed5197f0b337278fb363092df59.prv metrics_list:/tmp/mountainlab-tmp/mountainlab/tmp_short_term/output_metrics_out_e602c4faadf29aeeea1913944686f169a69915fe.prv --parameters --outputs metrics_out:output/cluster_metrics.json --verbose=minimal\n",
      "RUNNING: ml-run-process pyms.create_label_map --inputs metrics:output/cluster_metrics.json --parameters --outputs label_map_out:/tmp/mountainlab-tmp/mountainlab/tmp_short_term/output_label_map_out_fcb3208a47cb9fa3b2c3a39b6e1865de7a8bc89e.prv --verbose=minimal\n",
      "RUNNING: ml-run-process pyms.apply_label_map --inputs firings:output/firings.mda label_map:/tmp/mountainlab-tmp/mountainlab/tmp_short_term/output_label_map_out_fcb3208a47cb9fa3b2c3a39b6e1865de7a8bc89e.prv --parameters --outputs firings_out:output/firings_curated.mda --verbose=minimal\n"
     ]
    }
   ],
   "source": [
    "sort_dataset(dataset_dir='dataset',output_dir='output',adjacency_radius=-1,detect_threshold=3,opts={'verbose':'minimal'})"
   ]
  },
  {
   "cell_type": "code",
   "execution_count": 6,
   "metadata": {},
   "outputs": [
    {
     "data": {
      "text/plain": [
       "0"
      ]
     },
     "execution_count": 6,
     "metadata": {},
     "output_type": "execute_result"
    }
   ],
   "source": [
    "# Run this only if you are running jupyter lab locally and have ephys-viz installed:\n",
    "os.system('ev-timeseries {} --firings={}'.format('output/filt.mda.prv','output/firings_curated.mda'))"
   ]
  },
  {
   "cell_type": "code",
   "execution_count": null,
   "metadata": {},
   "outputs": [],
   "source": []
  }
 ],
 "metadata": {
  "kernelspec": {
   "display_name": "Python 3",
   "language": "python",
   "name": "python3"
  },
  "language_info": {
   "codemirror_mode": {
    "name": "ipython",
    "version": 3
   },
   "file_extension": ".py",
   "mimetype": "text/x-python",
   "name": "python",
   "nbconvert_exporter": "python",
   "pygments_lexer": "ipython3",
   "version": "3.6.6"
  }
 },
 "nbformat": 4,
 "nbformat_minor": 2
}
