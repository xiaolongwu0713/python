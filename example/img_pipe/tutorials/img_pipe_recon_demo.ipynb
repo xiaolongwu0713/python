{
 "cells": [
  {
   "cell_type": "code",
   "execution_count": 1,
   "metadata": {
    "collapsed": true
   },
   "outputs": [],
   "source": [
    "import os\n",
    "import sys; sys.path.append('/Users/dlchang/img_pipe/')\n",
    "import img_pipe\n",
    "reload(img_pipe)\n",
    "import numpy as np\n",
    "import scipy\n",
    "%matplotlib inline"
   ]
  },
  {
   "cell_type": "markdown",
   "metadata": {},
   "source": [
    "# Img_pipe Recon Demo\n",
    "\n",
    "This tutorial will walk through how to run a recon using the img_pipe package. This includes MRI alignment, CT registration, electrode localization, anatomical labeling, and nonlinear warping. "
   ]
  },
  {
   "cell_type": "markdown",
   "metadata": {},
   "source": [
    "### Set-up\n",
    "\n",
    "In your SUBJECTS_DIR (where you want to place your subjects imaging data), you should make a new directory (with your subject name, i.e. 'EC86'). Then, create subdirectories __*acpc/*__ and __*CT/*__. Place your niftii format T1 MRI file (name it *T1_orig.nii*) in the __*acpc/*__ folder and the CT niftii file (name it *CT.nii*) in __*CT/*__. Your directory structure should now look like this: \n",
    "\n",
    "SUBJECTS_DIR/\n",
    "    * Subj_name/\n",
    "        * acpc/\n",
    "            *T1_orig.nii\n",
    "        * CT/\n",
    "            * CT.nii"
   ]
  },
  {
   "cell_type": "markdown",
   "metadata": {},
   "source": [
    "### 1. Alignment of T1 scan to AC-PC axis\n",
    "\n",
    "*\tAlignment of the T1 scan to the anterior commissure-posterior commissure axis is performed in Freeview (Figure 3). Open Freeview and load your unaligned T1 scan in the Volumes tab. To aid in axis alignment, change the cursor style “long” in Preferences  Cursor  style “Long”. You can also change the color if you wish.\n",
    "*\tTo adjust the rotation and translation of the image, select Tools  Transform Volume. Adjust the roll (with Y (P-A)) and yaw (with Z (I-S)) as necessary to make sure the head is aligned.  Check the axial view to make sure the eyes show equally in the same slice (see Fig 3A vs. 3B, second panel for unaligned and aligned examples).  Make sure the midsagittal line is vertical in the axial view (see Fig 3A vs. 3B, first and third panels) and in the coronal view.  Choose Sample method “Cubic”.\n",
    "*\tSelect the anterior commissure and adjust the pitch of the head so that it is in line with the posterior commissure on the horizontal axis (Fig 3A-B, last panel).\n",
    "*\tFinally, move to the (0, 0, 0) RAS coordinate (not TkReg RAS, just RAS).  In the Transform Volume tool, translate the image until the cursor is at the anterior commissure.   \n",
    "*\tOnce you are satisfied that the brain is in a good orientation, click “Save Reg…” and save the transformation matrix in the acpc directory as T1_reorient.lta. Then, click “Save as…” and save the reoriented T1 file as T1.nii in the acpc directory (e.g. /usr/local/freesurfer/subjects/EC1/acpc). \n",
    "\n",
    "#### Include image here "
   ]
  },
  {
   "cell_type": "markdown",
   "metadata": {},
   "source": [
    "### 2. Create the freeCoG instance for the patient and run preparatory steps"
   ]
  },
  {
   "cell_type": "code",
   "execution_count": 2,
   "metadata": {
    "collapsed": true
   },
   "outputs": [],
   "source": [
    "patient = img_pipe.freeCoG(subj='EC108',\n",
    "                           hem='lh',\n",
    "                           subj_dir='/Applications/freesurfer/subjects',\n",
    "                           fs_dir='/Applications/freesurfer/')\n",
    "# you can also specify SUBJECTS_DIR and FREESURFER_HOME in your .bash_profile instead of specifying \n",
    "# in the *subj_dir* and *fs_dir* arguments."
   ]
  },
  {
   "cell_type": "markdown",
   "metadata": {},
   "source": [
    "#### 2a) **`prep_recon()`**\n",
    "**`prep_recon()`** will set up the directory structure needed before running **`get_recon()`**"
   ]
  },
  {
   "cell_type": "code",
   "execution_count": 3,
   "metadata": {
    "collapsed": false
   },
   "outputs": [],
   "source": [
    "patient.prep_recon()"
   ]
  },
  {
   "cell_type": "markdown",
   "metadata": {},
   "source": [
    "#### 2b) **`get_recon()`** \n",
    "**`get_recon()`** will run the Freesurfer command `recon-all`. This will take on the order of hours, depending on your machine's CPU, GPU, and whether you use parallelization."
   ]
  },
  {
   "cell_type": "code",
   "execution_count": 14,
   "metadata": {
    "collapsed": false
   },
   "outputs": [],
   "source": [
    "patient.get_recon()"
   ]
  },
  {
   "cell_type": "markdown",
   "metadata": {},
   "source": [
    "#### 2c) check pial surfaces against the MRI with **`check_pial()`**\n",
    "Now, check that the pial surfaces actually correspond to the MRI."
   ]
  },
  {
   "cell_type": "code",
   "execution_count": 4,
   "metadata": {
    "collapsed": true
   },
   "outputs": [],
   "source": [
    "#this will open a freesurfer window with the brain MRI and pial surfaces loaded\n",
    "patient.check_pial()"
   ]
  },
  {
   "cell_type": "markdown",
   "metadata": {},
   "source": [
    "#### 2d) create the meshes\n",
    "\n",
    "Create the triangle-vertex mesh in .mat format with **`convert_fsmesh2mlab()`**. This will save them out to **__Meshes/EC108_lh_pial.mat__** and **__Meshes/EC108_rh_pial.mat__**. To create subcortical meshes, run **`get_subcort()`**, subcortical meshes will be in **__Meshes/subcortical/__**."
   ]
  },
  {
   "cell_type": "code",
   "execution_count": 9,
   "metadata": {
    "collapsed": false
   },
   "outputs": [
    {
     "name": "stdout",
     "output_type": "stream",
     "text": [
      "Making lh mesh\n",
      "Making rh mesh\n"
     ]
    }
   ],
   "source": [
    "patient.convert_fsmesh2mlab()\n",
    "#patient.get_subcort()"
   ]
  },
  {
   "cell_type": "markdown",
   "metadata": {},
   "source": [
    "#### 2e) CT Registration\n",
    "\n",
    "Register the **__CT/CT.nii__** file to **__mri/orig.nii__** file; the registered CT will be saved as **__CT/rCT.nii__**."
   ]
  },
  {
   "cell_type": "code",
   "execution_count": 7,
   "metadata": {
    "collapsed": false
   },
   "outputs": [
    {
     "name": "stdout",
     "output_type": "stream",
     "text": [
      "Computing registration from /Applications/freesurfer/subjects/EC108/CT/CT.nii to /Applications/freesurfer/subjects/EC108/mri/orig.nii\n",
      "Initial guess...\n",
      "translation : [ 0.  0.  0.]\n",
      "rotation    : [ 0.  0.  0.]\n",
      "scaling     : [ 1.  1.  1.]\n",
      "pre-rotation: [ 0.  0.  0.]\n",
      "Optimizing using fmin_powell\n",
      "translation : [-0.00255609 -0.61803397  1.        ]\n",
      "rotation    : [ 0.00116414  0.00014998  0.00160618]\n",
      "scaling     : [ 0.99383872  1.01005017  0.99383872]\n",
      "pre-rotation: [-0.00224096  0.00174025  0.00093322]\n",
      "nmi = 0.229980415331\n",
      "\n",
      "translation : [ 0.08387597 -0.23606797  0.38196603]\n",
      "rotation    : [ -5.01619537e-03   8.62185599e-04   1.79002810e-05]\n",
      "scaling     : [ 0.99344068  1.01160345  0.99481757]\n",
      "pre-rotation: [-0.0039123   0.0022048   0.00177942]\n",
      "nmi = 0.231154842067\n",
      "\n",
      "Optimization terminated successfully.\n",
      "         Current function value: -0.231155\n",
      "         Iterations: 2\n",
      "         Function evaluations: 174\n",
      "Saving registered CT image as /Applications/freesurfer/subjects/EC108/CT/rCT.nii\n"
     ]
    },
    {
     "name": "stderr",
     "output_type": "stream",
     "text": [
      "/Users/dlchang/anaconda2/lib/python2.7/site-packages/nipy/io/files.py:145: FutureWarning: Default `strict` currently False; this will change to True in a future version of nipy\n",
      "  ni_img = nipy2nifti(img, data_dtype = io_dtype)\n"
     ]
    }
   ],
   "source": [
    "patient.reg_img('CT.nii','orig.nii')"
   ]
  },
  {
   "cell_type": "markdown",
   "metadata": {},
   "source": [
    "### 3. Electrode localization, anatomical labeling, and nonlinear warping"
   ]
  },
  {
   "cell_type": "markdown",
   "metadata": {},
   "source": [
    "#### 3a) Marking the electrodes on the CT\n",
    "\n",
    "Example of identification of electrode coordinates using electrode picker, opened with **`mark_electrodes()`**. \n",
    "\n",
    "<img src='files/ElectrodeMarker.png' style='width:700px;'>\n",
    "\n",
    "**(A)** Demonstrates the process of picking the coordinate for the most posterior inferior grid corner. On the left, the GUI is shown with the electrode selected. The pial surface, rCT, and skull stripped MRI are displayed. The upper left shows the electrode selected in the sagittal view. The upper right shows the coronal view. The bottom right shows an axial view. The lower left displays the intensity projection map of the CT, which is useful for visualizing the entire grid. To save the coordinate, press ‘n’ to name a new device. With the center of the electrode artifact localized by the crosshairs in the axial, sagittal, and coronal views, press ‘e’ to add a point. The coordinates are automatically saved to the ‘elecs’ folder. This file can be loaded and the saved points can be plotted on the 3D surface mesh in MATLAB. This plot can be seen in the right panel. If the coordinates appear buried in the Mesh due to post operative brain shift, additional steps can be taken to project the electrode to the surface. \n",
    "\n",
    "**(B)** Example of identification of an electrode that is part of a subtemporal strip. The strip can be seen in the rCT.nii intensity projection map in the lower right panel. The coordinate is recorded from the center of the electrode artifact, seen in sagittal, coronal, and axial views. This coordinate can then be visualized on the 3D surface mesh in MATLAB, seen in the right panel.\n"
   ]
  },
  {
   "cell_type": "code",
   "execution_count": 10,
   "metadata": {
    "collapsed": false
   },
   "outputs": [
    {
     "name": "stdout",
     "output_type": "stream",
     "text": [
      "Creating directory /Applications/freesurfer/subjects/EC108/elecs/individual_elecs\n",
      "Launching electrode picker\n"
     ]
    }
   ],
   "source": [
    "#This will open a GUI where you can click to mark the electrodes on the registered CT \n",
    "patient.mark_electrodes()"
   ]
  },
  {
   "cell_type": "markdown",
   "metadata": {},
   "source": [
    "#### 2f) Interpolate electrode grids\n",
    "\n",
    "If you marked any grid corners, you should interpolate then project the electrodes."
   ]
  },
  {
   "cell_type": "code",
   "execution_count": 14,
   "metadata": {
    "collapsed": false
   },
   "outputs": [
    {
     "name": "stdout",
     "output_type": "stream",
     "text": [
      "Help on method interp_grid in module img_pipe.img_pipe:\n",
      "\n",
      "interp_grid(self, nchans=256, grid_basename='hd_grid') method of img_pipe.img_pipe.freeCoG instance\n",
      "    Interpolates corners for an electrode grid\n",
      "    given the four corners (in order, 1, 16, 241, 256), or for\n",
      "    32 channel grid, 1, 8, 25, 32.\n",
      "\n"
     ]
    }
   ],
   "source": [
    "help(patient.interp_grid)\n",
    "patient.interp_grid(grid_basename='hd_grid',\n",
    "                   nchans=256)"
   ]
  },
  {
   "cell_type": "markdown",
   "metadata": {},
   "source": [
    "#### 2g) Project electrodes that are buried under the cortical surface\n",
    "\n",
    "This can either work on interpolated grids or individual electrodes. For interpolated grids, you have the option of using the mean normal vector as the projection direction (see figure). For individual electrodes, you can specify the projection direction if you set **`use_mean_normal=False`**. You can also select whether to use the dural surface or pial surface as the surface to project to.\n",
    "\n",
    "<img src='files/ElectrodeProjection.png' style=\"width: 650px;\">\n",
    "\n",
    "**A.**  The grid’s corner electrodes are manually located. We interpolate the locations of the rest of the grid electrodes using these corner coordinates, giving us the electrode grid shown in red. The green arrows are the four normal vectors calculated from the corners, and the black arrow is the mean of those normal vectors and will act as our projection direction. \n",
    "\n",
    "**B.** Projection of the interpolated grid (red) to the convex hull of the pial surface (blue) using the mean normal vector (black arrow). The final projected electrode grid is shown in blue.\n"
   ]
  },
  {
   "cell_type": "code",
   "execution_count": 19,
   "metadata": {
    "collapsed": false
   },
   "outputs": [
    {
     "name": "stdout",
     "output_type": "stream",
     "text": [
      "Help on method project_electrodes in module img_pipe.img_pipe:\n",
      "\n",
      "project_electrodes(self, elecfile_prefix='hd_grid', use_mean_normal=True, surf_type='dural', num_iter=30, dilate=0.0, grid=True) method of img_pipe.img_pipe.freeCoG instance\n",
      "    elecfile_prefix: prefix of the .mat file with the electrode coordinates matrix \n",
      "    use_mean_normal: whether to use mean normal vector (mean of the 4 normal vectors from the grid's \n",
      "    corner electrodes) as the projection direction\n",
      "    surf_type: 'dural' or 'pial'\n",
      "    projection_method: 'convex_hull','none','alphavol'\n",
      "    num_iter: how many smoothing iterations when creating the dural surface\n",
      "    \n",
      "    Projects the electrodes of a grid based on the mean normal vector of the four grid\n",
      "    corner electrodes that were manually localized from the registered CT.\n",
      "\n"
     ]
    }
   ],
   "source": [
    "help(patient.project_electrodes)"
   ]
  },
  {
   "cell_type": "code",
   "execution_count": 3,
   "metadata": {
    "collapsed": false
   },
   "outputs": [
    {
     "name": "stdout",
     "output_type": "stream",
     "text": [
      "Projection Params: \n",
      "\t Grid Name: hd_grid.mat \n",
      "\t Use Mean Normal: True \n",
      "\t                Surface Type: dural \n",
      "\t Number of Smoothing Iterations (if using dural): 30\n",
      "Normal vectors: [array([-0.97114023,  0.22398069,  0.08197134]), array([-0.95589682,  0.2857663 ,  0.06781517]), array([-0.97738423,  0.21065431,  0.01856967]), array([-0.96238506,  0.27167383,  0.00288623])]\n",
      "('Projection direction vector: ', [-0.96670158371356152, 0.24801878269369992, 0.042810601502468078])\n",
      "::: Loading Mesh data :::\n",
      "/Applications/freesurfer/subjects/EC108/Meshes/lh_dural_trivert.mat\n",
      "::: Projecting electrodes to mesh :::\n",
      "[-0.96670158371356152, 0.24801878269369992, 0.042810601502468078]\n"
     ]
    },
    {
     "name": "stderr",
     "output_type": "stream",
     "text": [
      "/Users/dlchang/img_pipe/img_pipe/surface_warping_scripts/project_electrodes_anydirection.py:236: RuntimeWarning: invalid value encountered in greater_equal\n",
      "  ok = (angleOK) & (u>=-zero) & (u<=1.0+zero) # mask\n",
      "/Users/dlchang/img_pipe/img_pipe/surface_warping_scripts/project_electrodes_anydirection.py:236: RuntimeWarning: invalid value encountered in less_equal\n",
      "  ok = (angleOK) & (u>=-zero) & (u<=1.0+zero) # mask\n",
      "/Users/dlchang/img_pipe/img_pipe/surface_warping_scripts/project_electrodes_anydirection.py:246: RuntimeWarning: invalid value encountered in greater_equal\n",
      "  ok = (ok) & (v>=-zero) & ((u+v)<=(1.0+zero))\n",
      "/Users/dlchang/img_pipe/img_pipe/surface_warping_scripts/project_electrodes_anydirection.py:246: RuntimeWarning: invalid value encountered in less_equal\n",
      "  ok = (ok) & (v>=-zero) & ((u+v)<=(1.0+zero))\n"
     ]
    },
    {
     "name": "stdout",
     "output_type": "stream",
     "text": [
      "::: Done :::\n",
      "Moving /Applications/freesurfer/subjects/EC108/elecs/individual_elecs/hd_grid_orig.mat to /Applications/freesurfer/subjects/EC108/elecs/individual_elecs/preproc\n"
     ]
    }
   ],
   "source": [
    "patient.project_electrodes(elecfile_prefix='hd_grid')"
   ]
  },
  {
   "cell_type": "markdown",
   "metadata": {},
   "source": [
    "#### Creating the **`*_elecs_all.mat`** file\n",
    "\n",
    "Now we will create our **`'*_elecs_all.mat'`** montage file. This file is a `.mat` file with two structs: **`anatomy`**, which contains information about the montage labels, device origin, and anatomical labels; and **`elecmatrix`**, which contains the electrode coordinate matrix.\n",
    "\n",
    "**`anatomy`** is structured as a __num_electrodes x 4__ matrix. The first column is the short name abbreviation of the electrode, the second column is the long name, the third column is the electrode type (i.e. depth, strip, or grid).\n",
    "\n",
    "**`make_elecs_all()`** is an interactive function that creates the **`'*_elecs_all.mat'`** file."
   ]
  },
  {
   "cell_type": "code",
   "execution_count": 5,
   "metadata": {
    "collapsed": false
   },
   "outputs": [
    {
     "name": "stdout",
     "output_type": "stream",
     "text": [
      "Are you adding a row that will be NaN in the elecmatrix? If not, press enter. If so, enter the number of empty rows to add: \n",
      "\n",
      "What is the short name prefix of the device?\n",
      "AD\n",
      "What is the long name prefix of the device?\n",
      "AmygDepth\n",
      "What is the type of the device?\n",
      "depth\n",
      "What is the filename of the device's electrode coordinate matrix?\n",
      "amygdala_depth.mat\n",
      "Finished entering devices? Enter 'y' if finished.n\n",
      "Are you adding a row that will be NaN in the elecmatrix? If not, press enter. If so, enter the number of empty rows to add: \n",
      "\n",
      "What is the short name prefix of the device?\n",
      "HD\n",
      "What is the long name prefix of the device?\n",
      "HdGrid\n",
      "What is the type of the device?\n",
      "grid\n",
      "What is the filename of the device's electrode coordinate matrix?\n",
      "hd_grid.mat\n",
      "Finished entering devices? Enter 'y' if finished.\n",
      "Are you adding a row that will be NaN in the elecmatrix? If not, press enter. If so, enter the number of empty rows to add: \n",
      "\n",
      "What is the short name prefix of the device?\n",
      "AST\n",
      "What is the long name prefix of the device?\n",
      "AntSubtemp\n",
      "What is the type of the device?\n",
      "strip\n",
      "What is the filename of the device's electrode coordinate matrix?\n",
      "anterior_subtemporal_strip.mat\n",
      "Finished entering devices? Enter 'y' if finished.y\n",
      "What filename would you like to save out to?\n",
      "test_elecs_all\n"
     ]
    }
   ],
   "source": [
    "#creates the TDT_elecs_all.mat file \n",
    "patient.make_elecs_all()"
   ]
  },
  {
   "cell_type": "code",
   "execution_count": 10,
   "metadata": {
    "collapsed": false
   },
   "outputs": [
    {
     "name": "stdout",
     "output_type": "stream",
     "text": [
      "[[array([u'AD1'], \n",
      "      dtype='<U3')\n",
      "  array([u'AmygDepth1'], \n",
      "      dtype='<U10')\n",
      "  array([u'depth'], \n",
      "      dtype='<U5')]\n",
      " [array([u'AD2'], \n",
      "      dtype='<U3')\n",
      "  array([u'AmygDepth2'], \n",
      "      dtype='<U10')\n",
      "  array([u'depth'], \n",
      "      dtype='<U5')]\n",
      " [array([u'AD3'], \n",
      "      dtype='<U3')\n",
      "  array([u'AmygDepth3'], \n",
      "      dtype='<U10')\n",
      "  array([u'depth'], \n",
      "      dtype='<U5')]\n",
      " [array([u'AD4'], \n",
      "      dtype='<U3')\n",
      "  array([u'AmygDepth4'], \n",
      "      dtype='<U10')\n",
      "  array([u'depth'], \n",
      "      dtype='<U5')]\n",
      " [array([u'AD5'], \n",
      "      dtype='<U3')\n",
      "  array([u'AmygDepth5'], \n",
      "      dtype='<U10')\n",
      "  array([u'depth'], \n",
      "      dtype='<U5')]]\n",
      "(272, 3)\n"
     ]
    }
   ],
   "source": [
    "print scipy.io.loadmat(os.path.join(patient.elecs_dir,'test_elecs_all.mat'))['eleclabels'][0:5,:]\n",
    "print scipy.io.loadmat(os.path.join(patient.elecs_dir,'test_elecs_all.mat'))['elecmatrix'].shape"
   ]
  },
  {
   "cell_type": "code",
   "execution_count": 16,
   "metadata": {
    "collapsed": false
   },
   "outputs": [
    {
     "name": "stdout",
     "output_type": "stream",
     "text": [
      "/Applications/freesurfer/subjects\n",
      "Creating labels from the freesurfer annotation file for use in automated electrode labeling\n",
      "Loading electrode matrix\n",
      "Loading label bankssts\n",
      "Loading label caudalanteriorcingulate\n",
      "Loading label caudalmiddlefrontal\n",
      "Loading label cuneus\n",
      "Loading label entorhinal\n",
      "Loading label frontalpole\n",
      "Loading label fusiform\n",
      "Loading label inferiorparietal\n",
      "Loading label inferiortemporal\n",
      "Loading label insula\n",
      "Loading label isthmuscingulate\n",
      "Loading label lateraloccipital\n",
      "Loading label lateralorbitofrontal\n",
      "Loading label lingual\n",
      "Loading label medialorbitofrontal\n",
      "Loading label middletemporal\n",
      "Loading label paracentral\n",
      "Loading label parahippocampal\n",
      "Loading label parsopercularis\n",
      "Loading label parsorbitalis\n",
      "Loading label parstriangularis\n",
      "Loading label pericalcarine\n",
      "Loading label postcentral\n",
      "Loading label posteriorcingulate\n",
      "Loading label precentral\n",
      "Loading label precuneus\n",
      "Loading label rostralanteriorcingulate\n",
      "Loading label rostralmiddlefrontal\n",
      "Loading label superiorfrontal\n",
      "Loading label superiorparietal\n",
      "Loading label superiortemporal\n",
      "Loading label supramarginal\n",
      "Loading label temporalpole\n",
      "Loading label transversetemporal\n",
      "Finding nearest mesh vertex for each electrode\n",
      "Saving electrode labels for surface electrodes to TDT_elecs_all\n",
      "*************************************************\n",
      "Now doing the depth electrodes\n",
      "Loading lookup table for freesurfer labels\n",
      "Labeling electrodes...\n",
      "E0, Vox CRS: [145, 128, 124], Label #18 = Left-Amygdala\n",
      "E1, Vox CRS: [149, 129, 125], Label #18 = Left-Amygdala\n",
      "E2, Vox CRS: [154, 131, 126], Label #18 = Left-Amygdala\n",
      "E3, Vox CRS: [158, 133, 126], Label #18 = Left-Amygdala\n",
      "E4, Vox CRS: [163, 136, 127], Label #2 = Left-Cerebral-White-Matter\n",
      "E5, Vox CRS: [167, 139, 127], Label #2 = Left-Cerebral-White-Matter\n",
      "E6, Vox CRS: [171, 141, 128], Label #11173 = ctx_lh_S_temporal_inf\n",
      "E7, Vox CRS: [175, 144, 127], Label #11138 = ctx_lh_G_temporal_middle\n",
      "E8, Vox CRS: [181, 146, 127], Label #0 = Unknown\n",
      "E9, Vox CRS: [184, 141, 126], Label #11138 = ctx_lh_G_temporal_middle\n",
      "E10, Vox CRS: [154, 131, 109], Label #17 = Left-Hippocampus\n",
      "E11, Vox CRS: [159, 133, 109], Label #17 = Left-Hippocampus\n",
      "E12, Vox CRS: [163, 134, 109], Label #2 = Left-Cerebral-White-Matter\n",
      "E13, Vox CRS: [168, 136, 108], Label #11151 = ctx_lh_S_collat_transv_ant\n",
      "E14, Vox CRS: [173, 137, 108], Label #2 = Left-Cerebral-White-Matter\n",
      "E15, Vox CRS: [177, 139, 108], Label #11137 = ctx_lh_G_temporal_inf\n",
      "E16, Vox CRS: [182, 141, 109], Label #0 = Unknown\n",
      "E17, Vox CRS: [186, 139, 109], Label #11138 = ctx_lh_G_temporal_middle\n",
      "E18, Vox CRS: [190, 137, 108], Label #11138 = ctx_lh_G_temporal_middle\n",
      "E19, Vox CRS: [190, 133, 104], Label #0 = Unknown\n",
      "E20, Vox CRS: [156, 124, 126], Label #2 = Left-Cerebral-White-Matter\n",
      "E21, Vox CRS: [156, 120, 128], Label #12 = Left-Putamen\n",
      "E22, Vox CRS: [157, 116, 132], Label #12 = Left-Putamen\n",
      "E23, Vox CRS: [157, 112, 134], Label #2 = Left-Cerebral-White-Matter\n",
      "E24, Vox CRS: [157, 108, 137], Label #11150 = ctx_lh_S_circular_insula_sup\n",
      "E25, Vox CRS: [157, 103, 139], Label #2 = Left-Cerebral-White-Matter\n",
      "E26, Vox CRS: [158, 99, 141], Label #2 = Left-Cerebral-White-Matter\n",
      "E27, Vox CRS: [158, 94, 144], Label #2 = Left-Cerebral-White-Matter\n",
      "E28, Vox CRS: [159, 91, 146], Label #11153 = ctx_lh_S_front_inf\n",
      "E29, Vox CRS: [161, 87, 149], Label #11115 = ctx_lh_G_front_middle\n",
      "E30, Vox CRS: [122, 99, 147], Label #41 = Right-Cerebral-White-Matter\n",
      "E31, Vox CRS: [127, 98, 148], Label #12167 = ctx_rh_S_pericallosal\n",
      "E32, Vox CRS: [132, 97, 150], Label #2 = Left-Cerebral-White-Matter\n",
      "E33, Vox CRS: [136, 96, 151], Label #11107 = ctx_lh_G_and_S_cingul-Mid-Ant\n",
      "E34, Vox CRS: [141, 95, 152], Label #2 = Left-Cerebral-White-Matter\n",
      "E35, Vox CRS: [146, 94, 154], Label #2 = Left-Cerebral-White-Matter\n",
      "E36, Vox CRS: [150, 94, 155], Label #2 = Left-Cerebral-White-Matter\n",
      "E37, Vox CRS: [155, 93, 157], Label #2 = Left-Cerebral-White-Matter\n",
      "E38, Vox CRS: [160, 93, 158], Label #11153 = ctx_lh_S_front_inf\n",
      "E39, Vox CRS: [164, 91, 159], Label #11115 = ctx_lh_G_front_middle\n",
      "Saving electrode labels to TDT_elecs_all\n"
     ]
    },
    {
     "data": {
      "text/plain": [
       "array([[u'G1', u'L256ContactGridElectrode1', u'grid', 'inferiortemporal'],\n",
       "       [u'G2', u'L256ContactGridElectrode2', u'grid', 'middletemporal'],\n",
       "       [u'G3', u'L256ContactGridElectrode3', u'grid', 'middletemporal'],\n",
       "       ..., \n",
       "       [u'CD8', u'CingulateDepthElectrode8', u'depth',\n",
       "        'Left-Cerebral-White-Matter'],\n",
       "       [u'CD9', u'CingulateDepthElectrode9', u'depth', 'ctx_lh_S_front_inf'],\n",
       "       [u'CD10', u'CingulateDepthElectrode10', u'depth',\n",
       "        'ctx_lh_G_front_middle']], dtype=object)"
      ]
     },
     "execution_count": 16,
     "metadata": {},
     "output_type": "execute_result"
    }
   ],
   "source": [
    "#labels the electrodes and saves them to the 'anatomy' struct of the *_elecs_all.mat file\n",
    "patient.label_elecs(elecfile_prefix='TDT_elecs_all')"
   ]
  },
  {
   "cell_type": "code",
   "execution_count": 19,
   "metadata": {
    "collapsed": false
   },
   "outputs": [],
   "source": [
    "patient.warp_all()"
   ]
  },
  {
   "cell_type": "markdown",
   "metadata": {
    "code_folding": []
   },
   "source": [
    "### Final File Structure\n",
    "\n",
    "SUBJECTS_DIR/\n",
    "    * Subj_name/\n",
    "        * CT/\t\n",
    "        * Meshes/\t\n",
    "        * acpc/\t\n",
    "        * ascii/\t\n",
    "        * cvs/\n",
    "        * dicom/\t\n",
    "        * elecs/\n",
    "            -individual_elecs/\n",
    "        * label/\t\n",
    "        * mri/\t\n",
    "        * scripts/\t\n",
    "        * surf/\t"
   ]
  },
  {
   "cell_type": "markdown",
   "metadata": {},
   "source": [
    "See plotting demo."
   ]
  }
 ],
 "metadata": {
  "anaconda-cloud": {},
  "kernelspec": {
   "display_name": "Python [conda root]",
   "language": "python",
   "name": "conda-root-py"
  },
  "language_info": {
   "codemirror_mode": {
    "name": "ipython",
    "version": 2
   },
   "file_extension": ".py",
   "mimetype": "text/x-python",
   "name": "python",
   "nbconvert_exporter": "python",
   "pygments_lexer": "ipython2",
   "version": "2.7.12"
  }
 },
 "nbformat": 4,
 "nbformat_minor": 1
}
